{
 "cells": [
  {
   "cell_type": "markdown",
   "metadata": {
    "toc": true
   },
   "source": [
    "<h1>Table of Contents<span class=\"tocSkip\"></span></h1>\n",
    "<div class=\"toc\"><ul class=\"toc-item\"><li><span><a href=\"#Data-Source\" data-toc-modified-id=\"Data-Source-1\"><span class=\"toc-item-num\">1&nbsp;&nbsp;</span>Data Source</a></span></li><li><span><a href=\"#Imports\" data-toc-modified-id=\"Imports-2\"><span class=\"toc-item-num\">2&nbsp;&nbsp;</span>Imports</a></span></li><li><span><a href=\"#Chiangmai-Geography\" data-toc-modified-id=\"Chiangmai-Geography-3\"><span class=\"toc-item-num\">3&nbsp;&nbsp;</span>Chiangmai Geography</a></span></li></ul></div>"
   ]
  },
  {
   "cell_type": "markdown",
   "metadata": {},
   "source": [
    "# Data Source \n",
    "1. Berekely Earth 'http://berkeleyearth.lbl.gov/air-quality/maps/cities/Thailand/'\n",
    "2. Screaped Air4Thai Data 'http://air4thai.pcd.go.th/webV2/history/'\n",
    "3. CDC Data 'https://www.cmuccdc.org/download_json/'\n",
    "4. Old Air4Thai data from Thailand EPA"
   ]
  },
  {
   "cell_type": "markdown",
   "metadata": {},
   "source": [
    "# Imports "
   ]
  },
  {
   "cell_type": "code",
   "execution_count": 1,
   "metadata": {},
   "outputs": [],
   "source": [
    "#  Load the \"autoreload\" extension so that code can change\n",
    "%load_ext autoreload\n",
    "%reload_ext autoreload\n",
    "from pathlib import Path\n",
    "\n",
    "#  always reload modules so that as you change code in src, it gets loaded\n",
    "%autoreload 2\n",
    "%matplotlib inline\n",
    "\n",
    "import sys\n",
    "sys.path.append('../')\n",
    "from src.imports import *\n",
    "from src.data.download_data import *\n",
    "from src.data.read_data import *"
   ]
  },
  {
   "cell_type": "code",
   "execution_count": 15,
   "metadata": {},
   "outputs": [],
   "source": [
    "b_folder='../data/pm25/'\n",
    "a4th_folder ='../data/air4thai_hourly/'\n",
    "a4th_folder_p ='../data/a4th_hourly/'\n",
    "cdc_folder = '../data/cdc_data/'\n",
    "aqm_folder = '../data/aqm_hourly2/'"
   ]
  },
  {
   "cell_type": "code",
   "execution_count": 171,
   "metadata": {},
   "outputs": [
    {
     "data": {
      "text/plain": [
       "{'Country': 'Thailand',\n",
       " 'City': 'Chiang Mai',\n",
       " 'City (ASCII)': 'Chiang Mai',\n",
       " 'Region': 'Chiang Mai',\n",
       " 'Region (ASCII)': 'Chiang Mai',\n",
       " 'Population': '200952',\n",
       " 'Latitude': '18.7904',\n",
       " 'Longitude': '98.9847',\n",
       " 'Time Zone': 'Asia/Bangkok'}"
      ]
     },
     "execution_count": 171,
     "metadata": {},
     "output_type": "execute_result"
    }
   ],
   "source": [
    "# berekely data\n",
    "b_data, city_info = read_b_data(b_folder+'Chiang_Mai.txt')\n",
    "b_data = b_data.set_index('datetime')\n",
    "city_info"
   ]
  },
  {
   "cell_type": "code",
   "execution_count": 19,
   "metadata": {},
   "outputs": [
    {
     "name": "stdout",
     "output_type": "stream",
     "text": [
      "['35t', '36t', 'm9', 'o10', 'o20', 'o22']\n"
     ]
    }
   ],
   "source": [
    "# load stations information for air4 Thai\n",
    "station_info_file = aqm_folder + 'stations_locations.json'\n",
    "with open(station_info_file, 'r',encoding=\"utf8\") as f:\n",
    "    station_info = json.load(f)\n",
    "station_info = station_info['stations']\n",
    "\n",
    "# find stations in Chiangmai and parase that files\n",
    "cm_station_ids = []\n",
    "for i, stations in enumerate(station_info):\n",
    "    if 'Chiang Mai' in stations['areaEN']:\n",
    "        cm_station_ids.append(stations['stationID'])\n",
    "        \n",
    "print(cm_station_ids)"
   ]
  },
  {
   "cell_type": "code",
   "execution_count": 18,
   "metadata": {},
   "outputs": [
    {
     "name": "stdout",
     "output_type": "stream",
     "text": [
      "../data/a4th_hourly/35t.csv\n",
      "../data/a4th_hourly/36t.csv\n",
      "../data/a4th_hourly/m9.csv\n",
      "../data/a4th_hourly/o10.csv\n",
      "../data/a4th_hourly/o20.csv\n",
      "../data/a4th_hourly/o22.csv\n"
     ]
    }
   ],
   "source": [
    "# combine new and old air4Thai data \n",
    "gas_cols = ['CO', 'O3', 'NO2', 'SO2', 'PM10', 'PM2.5']\n",
    "for station_id in cm_station_ids:\n",
    "    try: \n",
    "        old_data = pd.read_csv(aqm_folder + 'process/'+station_id + '.csv')\n",
    "    except:\n",
    "        old_data = pd.DataFrame()\n",
    "    else:\n",
    "        old_data['datetime'] = pd.to_datetime(old_data['datetime'])\n",
    "        old_data = old_data.set_index('datetime')\n",
    "        # keep only the gass columns\n",
    "        old_data = old_data[gas_cols]\n",
    "    \n",
    "    new_data = pd.read_csv(a4th_folder + station_id + '.csv',na_values='-').set_index('datetime')\n",
    "    new_data.columns = [s.split(' (')[0] for s in new_data.columns]\n",
    "    # keep only the gass columns\n",
    "    new_data = new_data[gas_cols]\n",
    "    # concatinate data \n",
    "    data = pd.concat([old_data,new_data])\n",
    "    filename = a4th_folder_p+station_id + '.csv'\n",
    "    print(filename)\n",
    "    data.to_csv(filename)"
   ]
  },
  {
   "cell_type": "code",
   "execution_count": 132,
   "metadata": {},
   "outputs": [
    {
     "name": "stdout",
     "output_type": "stream",
     "text": [
      "['108', '12', '2', '11', '5', '103', '5267', '109', '5264', '2004', '5281', '1', '83', '84', '4008', '4009', '4010', '4011', '4012', '4003', '4004', '4005', '4006', '4007', '6003', '2006', '5263', '20', '106', '4015', '4016', '4002', '6', '5163', '22', '27', '29', '38', '14', '89', '15', '32', '25', '23', '5376', '17', '19', '37', '24', '30', '16', '31', '34', '26', '18', '13', '35', '80', '78', '77', '79', '81', '41', '92', '5374', '5373', '5249', '5262', '5379', '2005', '28', '33', '36', '3', '2002', '5268', '7', '82', '5265', '5266', '5270', '5269', '5248', '6002', '4026', '4027', '4']\n",
      "87\n"
     ]
    }
   ],
   "source": [
    "# parse station informatoin\n",
    "re = requests.get('https://www.cmuccdc.org/download?fbclid=IwAR0XaoY1G5BSwHcQejEdGD5piw3LSLK4HLlmy4ElzIEBCmVkH2W6T8mTIx8')\n",
    "soup = BeautifulSoup(re.text)\n",
    "results = soup.find_all('li', class_='mb-3')\n",
    "\n",
    "# find chiangmai stations\n",
    "for item in results:\n",
    "    if 'เชียงใหม่' in item.text:\n",
    "        cmu_soup = item\n",
    "        break\n",
    "cmu_dustboy_ids = []\n",
    "for cmu_html in cmu_soup.find_all('a'):\n",
    "    href = cmu_html['href']\n",
    "    if 'json' in href:\n",
    "        dustboy_id = href.split('/')[-1]\n",
    "        cmu_dustboy_ids.append(dustboy_id)\n",
    "        \n",
    "print(cmu_dustboy_ids)\n",
    "print(len(cmu_dustboy_ids))"
   ]
  },
  {
   "cell_type": "markdown",
   "metadata": {},
   "source": [
    "87 stations at different locations"
   ]
  },
  {
   "cell_type": "code",
   "execution_count": 152,
   "metadata": {
    "scrolled": false
   },
   "outputs": [
    {
     "data": {
      "text/plain": [
       "25"
      ]
     },
     "execution_count": 152,
     "metadata": {},
     "output_type": "execute_result"
    }
   ],
   "source": [
    "# cmucdc data \n",
    "with open(cdc_folder+'station_info.json', 'r') as f:\n",
    "    cdc_stations = json.load(f)\n",
    "\n",
    "cmucdc_stations = []\n",
    "# search for station information\n",
    "for station in cdc_stations:\n",
    "    if station['dustboy_id'] in cmu_dustboy_ids:\n",
    "        \n",
    "        try:\n",
    "            df = pd.read_csv(cdc_folder + station['dustboy_id'] + '.csv')\n",
    "        except:\n",
    "            pass\n",
    "        else:\n",
    "            # keep only good station with data \n",
    "            cmucdc_stations.append(station)\n",
    "        \n",
    "len(cmucdc_stations)"
   ]
  },
  {
   "cell_type": "code",
   "execution_count": 153,
   "metadata": {
    "scrolled": false
   },
   "outputs": [
    {
     "data": {
      "text/plain": [
       "[{'dustboy_id': '5373',\n",
       "  'dustboy_uri': 'thapaegate2',\n",
       "  'dustboy_name_th': 'ลานประตูท่าแพ  (2)',\n",
       "  'dustboy_name_en': '',\n",
       "  'dustboy_lat': '18.787726',\n",
       "  'dustboy_lng': '98.993370',\n",
       "  'dustboy_version': 'mini'},\n",
       " {'dustboy_id': '5374',\n",
       "  'dustboy_uri': 'thapaegate1',\n",
       "  'dustboy_name_th': 'ลานประตูท่าแพ  (1)',\n",
       "  'dustboy_name_en': '',\n",
       "  'dustboy_lat': '18.787716',\n",
       "  'dustboy_lng': '98.993563',\n",
       "  'dustboy_version': 'mini'},\n",
       " {'dustboy_id': '5262',\n",
       "  'dustboy_uri': 'N-112',\n",
       "  'dustboy_name_th': 'สนามกีฬากลาง มหาวิทยาลัยเชียงใหม่',\n",
       "  'dustboy_name_en': 'The Main Stadium, Chiang Mai University',\n",
       "  'dustboy_lat': '18.797338',\n",
       "  'dustboy_lng': '98.956578',\n",
       "  'dustboy_version': 'mini'},\n",
       " {'dustboy_id': '5268',\n",
       "  'dustboy_uri': 'N-118',\n",
       "  'dustboy_name_th': 'สำนักบริการวิชาการ  มหาวิทยาลัยเชียงใหม่ ',\n",
       "  'dustboy_name_en': 'University Academic  Service Center (UNISERV), Chiang Mai University',\n",
       "  'dustboy_lat': '18.794057',\n",
       "  'dustboy_lng': '98.966521',\n",
       "  'dustboy_version': 'mini'},\n",
       " {'dustboy_id': '5266',\n",
       "  'dustboy_uri': 'N-116',\n",
       "  'dustboy_name_th': 'อาคารกิจกรรมนักศึกษา (อมช.) มหาวิทยาลัยเชียงใหม่',\n",
       "  'dustboy_name_en': 'The Student Union Of Chiang Mai University ',\n",
       "  'dustboy_lat': '18.800647',\n",
       "  'dustboy_lng': '98.952867',\n",
       "  'dustboy_version': 'mini'},\n",
       " {'dustboy_id': '5379',\n",
       "  'dustboy_uri': 'N-069-NB',\n",
       "  'dustboy_name_th': 'สระว่ายน้ำ สนามกีฬา 700 ปี',\n",
       "  'dustboy_name_en': '',\n",
       "  'dustboy_lat': '18.841364',\n",
       "  'dustboy_lng': '98.963876',\n",
       "  'dustboy_version': 'mini'},\n",
       " {'dustboy_id': '5269',\n",
       "  'dustboy_uri': 'N-119',\n",
       "  'dustboy_name_th': 'อาคารสุจิณโณ คณะแพทย์ศาสตร์ มหาวิทยาลัยเชียงใหม่',\n",
       "  'dustboy_name_en': 'Sujinno Bld., Faculty of Medicine, Chiang Mai University',\n",
       "  'dustboy_lat': '18.789353',\n",
       "  'dustboy_lng': '98.974122',\n",
       "  'dustboy_version': 'mini'},\n",
       " {'dustboy_id': '6002',\n",
       "  'dustboy_uri': 'bankunmaeschool',\n",
       "  'dustboy_name_th': 'โรงเรียนบ้านคุณแม่ อ. หางดง จ. เชียงใหม่',\n",
       "  'dustboy_name_en': 'Bankunmae School, Hang Dong, Chiang Mai',\n",
       "  'dustboy_lat': '18.7303999',\n",
       "  'dustboy_lng': '98.9287885',\n",
       "  'dustboy_version': 'mini'},\n",
       " {'dustboy_id': '5281',\n",
       "  'dustboy_uri': 'N-131',\n",
       "  'dustboy_name_th': 'คณะสังคมศาสตร์ มหาวิทยาลัยเชียงใหม่',\n",
       "  'dustboy_name_en': 'Faculty of Social Sciences, Chiang Mai University',\n",
       "  'dustboy_lat': '18.802947',\n",
       "  'dustboy_lng': '98.949526',\n",
       "  'dustboy_version': 'mini'},\n",
       " {'dustboy_id': '5264',\n",
       "  'dustboy_uri': 'N-114',\n",
       "  'dustboy_name_th': 'คณะมนุษยศาสตร์ มช. (อาคาร HB5)',\n",
       "  'dustboy_name_en': '',\n",
       "  'dustboy_lat': '18.804263',\n",
       "  'dustboy_lng': '98.950252',\n",
       "  'dustboy_version': 'mini'},\n",
       " {'dustboy_id': '80',\n",
       "  'dustboy_uri': 'DustBoy080',\n",
       "  'dustboy_name_th': 'รพ.สต. บ้านปางมะเยา จ. เชียงใหม่',\n",
       "  'dustboy_name_en': 'Banpangmayao (Sub-district Health Promoting Hospital)',\n",
       "  'dustboy_lat': '19.43414',\n",
       "  'dustboy_lng': '99.0747413',\n",
       "  'dustboy_version': ''},\n",
       " {'dustboy_id': '4002',\n",
       "  'dustboy_uri': 'northcm',\n",
       "  'dustboy_name_th': 'มหาวิทยาลัยนอร์ท-เชียงใหม่ จ. เชียงใหม่',\n",
       "  'dustboy_name_en': 'North Chiang Mai University, Chiang Mai',\n",
       "  'dustboy_lat': '18.6626',\n",
       "  'dustboy_lng': '98.9191',\n",
       "  'dustboy_version': ''},\n",
       " {'dustboy_id': '6003',\n",
       "  'dustboy_uri': 'nandachartschool',\n",
       "  'dustboy_name_th': 'นันทชาติ พรีสคูล จ. เชียงใหม่',\n",
       "  'dustboy_name_en': 'Nandachart Grade School & PreSchool, Chiang Mai',\n",
       "  'dustboy_lat': '18.712841',\n",
       "  'dustboy_lng': '98.936059',\n",
       "  'dustboy_version': 'mini'},\n",
       " {'dustboy_id': '79',\n",
       "  'dustboy_uri': 'DustBoy079',\n",
       "  'dustboy_name_th': 'รพ.สต. แม่ซา จ. เชียงใหม่',\n",
       "  'dustboy_name_en': 'Mae Sa Health Promoting Hospital, Chiang Mai',\n",
       "  'dustboy_lat': '18.81386',\n",
       "  'dustboy_lng': '98.33108',\n",
       "  'dustboy_version': ''},\n",
       " {'dustboy_id': '89',\n",
       "  'dustboy_uri': 'phrao',\n",
       "  'dustboy_name_th': 'รพ. พร้าว จ. เชียงใหม่',\n",
       "  'dustboy_name_en': 'Phrao Hospital, Chiang Mai',\n",
       "  'dustboy_lat': '19.367391',\n",
       "  'dustboy_lng': '99.200064',\n",
       "  'dustboy_version': ''},\n",
       " {'dustboy_id': '78',\n",
       "  'dustboy_uri': 'DustBoy078',\n",
       "  'dustboy_name_th': 'รพ.สต. บ้านแม่แฮเหนือ จ. เชียงใหม่',\n",
       "  'dustboy_name_en': 'ฺBan Mae Hae Nuea Health Promoting Hospital, Chiang Mai',\n",
       "  'dustboy_lat': '18.78904',\n",
       "  'dustboy_lng': '98.53059',\n",
       "  'dustboy_version': ''},\n",
       " {'dustboy_id': '81',\n",
       "  'dustboy_uri': 'DustBoy081',\n",
       "  'dustboy_name_th': 'รพ.สต. แม่นาจร จ. เชียงใหม่',\n",
       "  'dustboy_name_en': 'Mae Na Jon Health Promoting Hospital, Chiang Mai',\n",
       "  'dustboy_lat': '18.679562',\n",
       "  'dustboy_lng': '98.381679',\n",
       "  'dustboy_version': ''},\n",
       " {'dustboy_id': '5270',\n",
       "  'dustboy_uri': 'N-120',\n",
       "  'dustboy_name_th': 'อาคารจอดรถสวนดอกปาร์ค มหาวิทยาลัยเชียงใหม่',\n",
       "  'dustboy_name_en': 'Suandok Park (Parking Bld.), Chiang Mai University',\n",
       "  'dustboy_lat': '18.789298',\n",
       "  'dustboy_lng': '98.971119',\n",
       "  'dustboy_version': 'mini'},\n",
       " {'dustboy_id': '5267',\n",
       "  'dustboy_uri': 'N-117',\n",
       "  'dustboy_name_th': 'คณะการสื่อสารมวลชน มหาวิทยาลัยเชียงใหม่',\n",
       "  'dustboy_name_en': 'Faculty Of Mass Communication, Chiang Mai University',\n",
       "  'dustboy_lat': '18.801524',\n",
       "  'dustboy_lng': '98.947505',\n",
       "  'dustboy_version': 'mini'},\n",
       " {'dustboy_id': '4026',\n",
       "  'dustboy_uri': 'varee1',\n",
       "  'dustboy_name_th': 'โรงเรียนวารีเชียงใหม่ จุดที่ 1',\n",
       "  'dustboy_name_en': 'Varee Chiangmai International School (No.1)',\n",
       "  'dustboy_lat': '18.757182',\n",
       "  'dustboy_lng': '99.015523',\n",
       "  'dustboy_version': ''},\n",
       " {'dustboy_id': '5263',\n",
       "  'dustboy_uri': 'N-113',\n",
       "  'dustboy_name_th': 'ประตูหน้า มช. มหาวิทยาลัยเชียงใหม่',\n",
       "  'dustboy_name_en': 'The Main Gate of Chiang Mai University',\n",
       "  'dustboy_lat': '18.808056',\n",
       "  'dustboy_lng': '98.954797',\n",
       "  'dustboy_version': 'mini'},\n",
       " {'dustboy_id': '5265',\n",
       "  'dustboy_uri': 'N-115',\n",
       "  'dustboy_name_th': 'อาคาร 40 ปี คณะวิทยาศาสตร์ มหาวิทยาลัยเชียงใหม่',\n",
       "  'dustboy_name_en': 'SCB2, Faculty of Science, Chiang Mai University',\n",
       "  'dustboy_lat': '18.801472',\n",
       "  'dustboy_lng': '98.956191',\n",
       "  'dustboy_version': 'mini'},\n",
       " {'dustboy_id': '36',\n",
       "  'dustboy_uri': 'maeai',\n",
       "  'dustboy_name_th': 'สสอ. แม่อาย จ. เชียงใหม่',\n",
       "  'dustboy_name_en': 'Mae Ai Public Heath Office, Chiang Mai',\n",
       "  'dustboy_lat': '20.038608',\n",
       "  'dustboy_lng': '99.302391',\n",
       "  'dustboy_version': ''},\n",
       " {'dustboy_id': '4027',\n",
       "  'dustboy_uri': 'varee2',\n",
       "  'dustboy_name_th': 'โรงเรียนวารีเชียงใหม่ จุดที่ 2',\n",
       "  'dustboy_name_en': 'Varee Chiangmai International School (No.2)',\n",
       "  'dustboy_lat': '18.757194',\n",
       "  'dustboy_lng': '99.015803',\n",
       "  'dustboy_version': ''},\n",
       " {'dustboy_id': '5376',\n",
       "  'dustboy_uri': 'sansai',\n",
       "  'dustboy_name_th': 'รพ.สันทราย',\n",
       "  'dustboy_name_en': 'Sansai Hospital',\n",
       "  'dustboy_lat': '18.921330',\n",
       "  'dustboy_lng': '98.993974',\n",
       "  'dustboy_version': 'mini'}]"
      ]
     },
     "execution_count": 153,
     "metadata": {},
     "output_type": "execute_result"
    }
   ],
   "source": [
    "cmucdc_stations"
   ]
  },
  {
   "cell_type": "markdown",
   "metadata": {},
   "source": [
    "# Chiangmai Geography"
   ]
  },
  {
   "cell_type": "code",
   "execution_count": 172,
   "metadata": {},
   "outputs": [
    {
     "ename": "ModuleNotFoundError",
     "evalue": "No module named 'mpl_toolkits.basemap'",
     "output_type": "error",
     "traceback": [
      "\u001b[1;31m---------------------------------------------------------------------------\u001b[0m",
      "\u001b[1;31mModuleNotFoundError\u001b[0m                       Traceback (most recent call last)",
      "\u001b[1;32m<ipython-input-172-d9467465a3b6>\u001b[0m in \u001b[0;36m<module>\u001b[1;34m\u001b[0m\n\u001b[1;32m----> 1\u001b[1;33m \u001b[1;32mfrom\u001b[0m \u001b[0mmpl_toolkits\u001b[0m\u001b[1;33m.\u001b[0m\u001b[0mbasemap\u001b[0m \u001b[1;32mimport\u001b[0m \u001b[0mBasemap\u001b[0m\u001b[1;33m\u001b[0m\u001b[1;33m\u001b[0m\u001b[0m\n\u001b[0m",
      "\u001b[1;31mModuleNotFoundError\u001b[0m: No module named 'mpl_toolkits.basemap'"
     ]
    }
   ],
   "source": [
    "from mpl_toolkits.basemap import Basemap"
   ]
  },
  {
   "cell_type": "code",
   "execution_count": null,
   "metadata": {},
   "outputs": [],
   "source": []
  }
 ],
 "metadata": {
  "kernelspec": {
   "display_name": "Python 3",
   "language": "python",
   "name": "python3"
  },
  "language_info": {
   "codemirror_mode": {
    "name": "ipython",
    "version": 3
   },
   "file_extension": ".py",
   "mimetype": "text/x-python",
   "name": "python",
   "nbconvert_exporter": "python",
   "pygments_lexer": "ipython3",
   "version": "3.7.5"
  },
  "toc": {
   "base_numbering": 1,
   "nav_menu": {},
   "number_sections": true,
   "sideBar": true,
   "skip_h1_title": false,
   "title_cell": "Table of Contents",
   "title_sidebar": "Contents",
   "toc_cell": true,
   "toc_position": {},
   "toc_section_display": true,
   "toc_window_display": true
  }
 },
 "nbformat": 4,
 "nbformat_minor": 4
}
