{
 "cells": [
  {
   "cell_type": "code",
   "execution_count": 22,
   "metadata": {},
   "outputs": [
    {
     "name": "stdout",
     "output_type": "stream",
     "text": [
      "The autoreload extension is already loaded. To reload it, use:\n",
      "  %reload_ext autoreload\n"
     ]
    },
    {
     "data": {
      "text/html": [
       "\n",
       "    <div class=\"bk-root\">\n",
       "        <a href=\"https://bokeh.org\" target=\"_blank\" class=\"bk-logo bk-logo-small bk-logo-notebook\"></a>\n",
       "        <span id=\"1002\">Loading BokehJS ...</span>\n",
       "    </div>"
      ]
     },
     "metadata": {},
     "output_type": "display_data"
    },
    {
     "data": {
      "application/javascript": [
       "\n",
       "(function(root) {\n",
       "  function now() {\n",
       "    return new Date();\n",
       "  }\n",
       "\n",
       "  var force = true;\n",
       "\n",
       "  if (typeof root._bokeh_onload_callbacks === \"undefined\" || force === true) {\n",
       "    root._bokeh_onload_callbacks = [];\n",
       "    root._bokeh_is_loading = undefined;\n",
       "  }\n",
       "\n",
       "  var JS_MIME_TYPE = 'application/javascript';\n",
       "  var HTML_MIME_TYPE = 'text/html';\n",
       "  var EXEC_MIME_TYPE = 'application/vnd.bokehjs_exec.v0+json';\n",
       "  var CLASS_NAME = 'output_bokeh rendered_html';\n",
       "\n",
       "  /**\n",
       "   * Render data to the DOM node\n",
       "   */\n",
       "  function render(props, node) {\n",
       "    var script = document.createElement(\"script\");\n",
       "    node.appendChild(script);\n",
       "  }\n",
       "\n",
       "  /**\n",
       "   * Handle when an output is cleared or removed\n",
       "   */\n",
       "  function handleClearOutput(event, handle) {\n",
       "    var cell = handle.cell;\n",
       "\n",
       "    var id = cell.output_area._bokeh_element_id;\n",
       "    var server_id = cell.output_area._bokeh_server_id;\n",
       "    // Clean up Bokeh references\n",
       "    if (id != null && id in Bokeh.index) {\n",
       "      Bokeh.index[id].model.document.clear();\n",
       "      delete Bokeh.index[id];\n",
       "    }\n",
       "\n",
       "    if (server_id !== undefined) {\n",
       "      // Clean up Bokeh references\n",
       "      var cmd = \"from bokeh.io.state import curstate; print(curstate().uuid_to_server['\" + server_id + \"'].get_sessions()[0].document.roots[0]._id)\";\n",
       "      cell.notebook.kernel.execute(cmd, {\n",
       "        iopub: {\n",
       "          output: function(msg) {\n",
       "            var id = msg.content.text.trim();\n",
       "            if (id in Bokeh.index) {\n",
       "              Bokeh.index[id].model.document.clear();\n",
       "              delete Bokeh.index[id];\n",
       "            }\n",
       "          }\n",
       "        }\n",
       "      });\n",
       "      // Destroy server and session\n",
       "      var cmd = \"import bokeh.io.notebook as ion; ion.destroy_server('\" + server_id + \"')\";\n",
       "      cell.notebook.kernel.execute(cmd);\n",
       "    }\n",
       "  }\n",
       "\n",
       "  /**\n",
       "   * Handle when a new output is added\n",
       "   */\n",
       "  function handleAddOutput(event, handle) {\n",
       "    var output_area = handle.output_area;\n",
       "    var output = handle.output;\n",
       "\n",
       "    // limit handleAddOutput to display_data with EXEC_MIME_TYPE content only\n",
       "    if ((output.output_type != \"display_data\") || (!output.data.hasOwnProperty(EXEC_MIME_TYPE))) {\n",
       "      return\n",
       "    }\n",
       "\n",
       "    var toinsert = output_area.element.find(\".\" + CLASS_NAME.split(' ')[0]);\n",
       "\n",
       "    if (output.metadata[EXEC_MIME_TYPE][\"id\"] !== undefined) {\n",
       "      toinsert[toinsert.length - 1].firstChild.textContent = output.data[JS_MIME_TYPE];\n",
       "      // store reference to embed id on output_area\n",
       "      output_area._bokeh_element_id = output.metadata[EXEC_MIME_TYPE][\"id\"];\n",
       "    }\n",
       "    if (output.metadata[EXEC_MIME_TYPE][\"server_id\"] !== undefined) {\n",
       "      var bk_div = document.createElement(\"div\");\n",
       "      bk_div.innerHTML = output.data[HTML_MIME_TYPE];\n",
       "      var script_attrs = bk_div.children[0].attributes;\n",
       "      for (var i = 0; i < script_attrs.length; i++) {\n",
       "        toinsert[toinsert.length - 1].firstChild.setAttribute(script_attrs[i].name, script_attrs[i].value);\n",
       "        toinsert[toinsert.length - 1].firstChild.textContent = bk_div.children[0].textContent\n",
       "      }\n",
       "      // store reference to server id on output_area\n",
       "      output_area._bokeh_server_id = output.metadata[EXEC_MIME_TYPE][\"server_id\"];\n",
       "    }\n",
       "  }\n",
       "\n",
       "  function register_renderer(events, OutputArea) {\n",
       "\n",
       "    function append_mime(data, metadata, element) {\n",
       "      // create a DOM node to render to\n",
       "      var toinsert = this.create_output_subarea(\n",
       "        metadata,\n",
       "        CLASS_NAME,\n",
       "        EXEC_MIME_TYPE\n",
       "      );\n",
       "      this.keyboard_manager.register_events(toinsert);\n",
       "      // Render to node\n",
       "      var props = {data: data, metadata: metadata[EXEC_MIME_TYPE]};\n",
       "      render(props, toinsert[toinsert.length - 1]);\n",
       "      element.append(toinsert);\n",
       "      return toinsert\n",
       "    }\n",
       "\n",
       "    /* Handle when an output is cleared or removed */\n",
       "    events.on('clear_output.CodeCell', handleClearOutput);\n",
       "    events.on('delete.Cell', handleClearOutput);\n",
       "\n",
       "    /* Handle when a new output is added */\n",
       "    events.on('output_added.OutputArea', handleAddOutput);\n",
       "\n",
       "    /**\n",
       "     * Register the mime type and append_mime function with output_area\n",
       "     */\n",
       "    OutputArea.prototype.register_mime_type(EXEC_MIME_TYPE, append_mime, {\n",
       "      /* Is output safe? */\n",
       "      safe: true,\n",
       "      /* Index of renderer in `output_area.display_order` */\n",
       "      index: 0\n",
       "    });\n",
       "  }\n",
       "\n",
       "  // register the mime type if in Jupyter Notebook environment and previously unregistered\n",
       "  if (root.Jupyter !== undefined) {\n",
       "    var events = require('base/js/events');\n",
       "    var OutputArea = require('notebook/js/outputarea').OutputArea;\n",
       "\n",
       "    if (OutputArea.prototype.mime_types().indexOf(EXEC_MIME_TYPE) == -1) {\n",
       "      register_renderer(events, OutputArea);\n",
       "    }\n",
       "  }\n",
       "\n",
       "  \n",
       "  if (typeof (root._bokeh_timeout) === \"undefined\" || force === true) {\n",
       "    root._bokeh_timeout = Date.now() + 5000;\n",
       "    root._bokeh_failed_load = false;\n",
       "  }\n",
       "\n",
       "  var NB_LOAD_WARNING = {'data': {'text/html':\n",
       "     \"<div style='background-color: #fdd'>\\n\"+\n",
       "     \"<p>\\n\"+\n",
       "     \"BokehJS does not appear to have successfully loaded. If loading BokehJS from CDN, this \\n\"+\n",
       "     \"may be due to a slow or bad network connection. Possible fixes:\\n\"+\n",
       "     \"</p>\\n\"+\n",
       "     \"<ul>\\n\"+\n",
       "     \"<li>re-rerun `output_notebook()` to attempt to load from CDN again, or</li>\\n\"+\n",
       "     \"<li>use INLINE resources instead, as so:</li>\\n\"+\n",
       "     \"</ul>\\n\"+\n",
       "     \"<code>\\n\"+\n",
       "     \"from bokeh.resources import INLINE\\n\"+\n",
       "     \"output_notebook(resources=INLINE)\\n\"+\n",
       "     \"</code>\\n\"+\n",
       "     \"</div>\"}};\n",
       "\n",
       "  function display_loaded() {\n",
       "    var el = document.getElementById(\"1002\");\n",
       "    if (el != null) {\n",
       "      el.textContent = \"BokehJS is loading...\";\n",
       "    }\n",
       "    if (root.Bokeh !== undefined) {\n",
       "      if (el != null) {\n",
       "        el.textContent = \"BokehJS \" + root.Bokeh.version + \" successfully loaded.\";\n",
       "      }\n",
       "    } else if (Date.now() < root._bokeh_timeout) {\n",
       "      setTimeout(display_loaded, 100)\n",
       "    }\n",
       "  }\n",
       "\n",
       "\n",
       "  function run_callbacks() {\n",
       "    try {\n",
       "      root._bokeh_onload_callbacks.forEach(function(callback) {\n",
       "        if (callback != null)\n",
       "          callback();\n",
       "      });\n",
       "    } finally {\n",
       "      delete root._bokeh_onload_callbacks\n",
       "    }\n",
       "    console.debug(\"Bokeh: all callbacks have finished\");\n",
       "  }\n",
       "\n",
       "  function load_libs(css_urls, js_urls, callback) {\n",
       "    if (css_urls == null) css_urls = [];\n",
       "    if (js_urls == null) js_urls = [];\n",
       "\n",
       "    root._bokeh_onload_callbacks.push(callback);\n",
       "    if (root._bokeh_is_loading > 0) {\n",
       "      console.debug(\"Bokeh: BokehJS is being loaded, scheduling callback at\", now());\n",
       "      return null;\n",
       "    }\n",
       "    if (js_urls == null || js_urls.length === 0) {\n",
       "      run_callbacks();\n",
       "      return null;\n",
       "    }\n",
       "    console.debug(\"Bokeh: BokehJS not loaded, scheduling load and callback at\", now());\n",
       "    root._bokeh_is_loading = css_urls.length + js_urls.length;\n",
       "\n",
       "    function on_load() {\n",
       "      root._bokeh_is_loading--;\n",
       "      if (root._bokeh_is_loading === 0) {\n",
       "        console.debug(\"Bokeh: all BokehJS libraries/stylesheets loaded\");\n",
       "        run_callbacks()\n",
       "      }\n",
       "    }\n",
       "\n",
       "    function on_error() {\n",
       "      console.error(\"failed to load \" + url);\n",
       "    }\n",
       "\n",
       "    for (var i = 0; i < css_urls.length; i++) {\n",
       "      var url = css_urls[i];\n",
       "      const element = document.createElement(\"link\");\n",
       "      element.onload = on_load;\n",
       "      element.onerror = on_error;\n",
       "      element.rel = \"stylesheet\";\n",
       "      element.type = \"text/css\";\n",
       "      element.href = url;\n",
       "      console.debug(\"Bokeh: injecting link tag for BokehJS stylesheet: \", url);\n",
       "      document.body.appendChild(element);\n",
       "    }\n",
       "\n",
       "    const hashes = {\"https://cdn.bokeh.org/bokeh/release/bokeh-2.0.1.min.js\": \"JpP8FXbgAZLkfur7LiK3j9AGBhHNIvF742meBJrjO2ShJDhCG2I1uVvW+0DUtrmc\", \"https://cdn.bokeh.org/bokeh/release/bokeh-widgets-2.0.1.min.js\": \"xZlADit0Q04ISQEdKg2k3L4W9AwQBAuDs9nJL9fM/WwzL1tEU9VPNezOFX0nLEAz\", \"https://cdn.bokeh.org/bokeh/release/bokeh-tables-2.0.1.min.js\": \"4BuPRZkdMKSnj3zoxiNrQ86XgNw0rYmBOxe7nshquXwwcauupgBF2DHLVG1WuZlV\", \"https://cdn.bokeh.org/bokeh/release/bokeh-gl-2.0.1.min.js\": \"Dv1SQ87hmDqK6S5OhBf0bCuwAEvL5QYL0PuR/F1SPVhCS/r/abjkbpKDYL2zeM19\"};\n",
       "\n",
       "    for (var i = 0; i < js_urls.length; i++) {\n",
       "      var url = js_urls[i];\n",
       "      var element = document.createElement('script');\n",
       "      element.onload = on_load;\n",
       "      element.onerror = on_error;\n",
       "      element.async = false;\n",
       "      element.src = url;\n",
       "      if (url in hashes) {\n",
       "        element.crossOrigin = \"anonymous\";\n",
       "        element.integrity = \"sha384-\" + hashes[url];\n",
       "      }\n",
       "      console.debug(\"Bokeh: injecting script tag for BokehJS library: \", url);\n",
       "      document.head.appendChild(element);\n",
       "    }\n",
       "  };var element = document.getElementById(\"1002\");\n",
       "  if (element == null) {\n",
       "    console.error(\"Bokeh: ERROR: autoload.js configured with elementid '1002' but no matching script tag was found. \")\n",
       "    return false;\n",
       "  }\n",
       "\n",
       "  function inject_raw_css(css) {\n",
       "    const element = document.createElement(\"style\");\n",
       "    element.appendChild(document.createTextNode(css));\n",
       "    document.body.appendChild(element);\n",
       "  }\n",
       "\n",
       "  \n",
       "  var js_urls = [\"https://cdn.bokeh.org/bokeh/release/bokeh-2.0.1.min.js\", \"https://cdn.bokeh.org/bokeh/release/bokeh-widgets-2.0.1.min.js\", \"https://cdn.bokeh.org/bokeh/release/bokeh-tables-2.0.1.min.js\", \"https://cdn.bokeh.org/bokeh/release/bokeh-gl-2.0.1.min.js\"];\n",
       "  var css_urls = [];\n",
       "  \n",
       "\n",
       "  var inline_js = [\n",
       "    function(Bokeh) {\n",
       "      Bokeh.set_log_level(\"info\");\n",
       "    },\n",
       "    function(Bokeh) {\n",
       "    \n",
       "    \n",
       "    }\n",
       "  ];\n",
       "\n",
       "  function run_inline_js() {\n",
       "    \n",
       "    if (root.Bokeh !== undefined || force === true) {\n",
       "      \n",
       "    for (var i = 0; i < inline_js.length; i++) {\n",
       "      inline_js[i].call(root, root.Bokeh);\n",
       "    }\n",
       "    if (force === true) {\n",
       "        display_loaded();\n",
       "      }} else if (Date.now() < root._bokeh_timeout) {\n",
       "      setTimeout(run_inline_js, 100);\n",
       "    } else if (!root._bokeh_failed_load) {\n",
       "      console.log(\"Bokeh: BokehJS failed to load within specified timeout.\");\n",
       "      root._bokeh_failed_load = true;\n",
       "    } else if (force !== true) {\n",
       "      var cell = $(document.getElementById(\"1002\")).parents('.cell').data().cell;\n",
       "      cell.output_area.append_execute_result(NB_LOAD_WARNING)\n",
       "    }\n",
       "\n",
       "  }\n",
       "\n",
       "  if (root._bokeh_is_loading === 0) {\n",
       "    console.debug(\"Bokeh: BokehJS loaded, going straight to plotting\");\n",
       "    run_inline_js();\n",
       "  } else {\n",
       "    load_libs(css_urls, js_urls, function() {\n",
       "      console.debug(\"Bokeh: BokehJS plotting callback run at\", now());\n",
       "      run_inline_js();\n",
       "    });\n",
       "  }\n",
       "}(window));"
      ],
      "application/vnd.bokehjs_load.v0+json": "\n(function(root) {\n  function now() {\n    return new Date();\n  }\n\n  var force = true;\n\n  if (typeof root._bokeh_onload_callbacks === \"undefined\" || force === true) {\n    root._bokeh_onload_callbacks = [];\n    root._bokeh_is_loading = undefined;\n  }\n\n  \n\n  \n  if (typeof (root._bokeh_timeout) === \"undefined\" || force === true) {\n    root._bokeh_timeout = Date.now() + 5000;\n    root._bokeh_failed_load = false;\n  }\n\n  var NB_LOAD_WARNING = {'data': {'text/html':\n     \"<div style='background-color: #fdd'>\\n\"+\n     \"<p>\\n\"+\n     \"BokehJS does not appear to have successfully loaded. If loading BokehJS from CDN, this \\n\"+\n     \"may be due to a slow or bad network connection. Possible fixes:\\n\"+\n     \"</p>\\n\"+\n     \"<ul>\\n\"+\n     \"<li>re-rerun `output_notebook()` to attempt to load from CDN again, or</li>\\n\"+\n     \"<li>use INLINE resources instead, as so:</li>\\n\"+\n     \"</ul>\\n\"+\n     \"<code>\\n\"+\n     \"from bokeh.resources import INLINE\\n\"+\n     \"output_notebook(resources=INLINE)\\n\"+\n     \"</code>\\n\"+\n     \"</div>\"}};\n\n  function display_loaded() {\n    var el = document.getElementById(\"1002\");\n    if (el != null) {\n      el.textContent = \"BokehJS is loading...\";\n    }\n    if (root.Bokeh !== undefined) {\n      if (el != null) {\n        el.textContent = \"BokehJS \" + root.Bokeh.version + \" successfully loaded.\";\n      }\n    } else if (Date.now() < root._bokeh_timeout) {\n      setTimeout(display_loaded, 100)\n    }\n  }\n\n\n  function run_callbacks() {\n    try {\n      root._bokeh_onload_callbacks.forEach(function(callback) {\n        if (callback != null)\n          callback();\n      });\n    } finally {\n      delete root._bokeh_onload_callbacks\n    }\n    console.debug(\"Bokeh: all callbacks have finished\");\n  }\n\n  function load_libs(css_urls, js_urls, callback) {\n    if (css_urls == null) css_urls = [];\n    if (js_urls == null) js_urls = [];\n\n    root._bokeh_onload_callbacks.push(callback);\n    if (root._bokeh_is_loading > 0) {\n      console.debug(\"Bokeh: BokehJS is being loaded, scheduling callback at\", now());\n      return null;\n    }\n    if (js_urls == null || js_urls.length === 0) {\n      run_callbacks();\n      return null;\n    }\n    console.debug(\"Bokeh: BokehJS not loaded, scheduling load and callback at\", now());\n    root._bokeh_is_loading = css_urls.length + js_urls.length;\n\n    function on_load() {\n      root._bokeh_is_loading--;\n      if (root._bokeh_is_loading === 0) {\n        console.debug(\"Bokeh: all BokehJS libraries/stylesheets loaded\");\n        run_callbacks()\n      }\n    }\n\n    function on_error() {\n      console.error(\"failed to load \" + url);\n    }\n\n    for (var i = 0; i < css_urls.length; i++) {\n      var url = css_urls[i];\n      const element = document.createElement(\"link\");\n      element.onload = on_load;\n      element.onerror = on_error;\n      element.rel = \"stylesheet\";\n      element.type = \"text/css\";\n      element.href = url;\n      console.debug(\"Bokeh: injecting link tag for BokehJS stylesheet: \", url);\n      document.body.appendChild(element);\n    }\n\n    const hashes = {\"https://cdn.bokeh.org/bokeh/release/bokeh-2.0.1.min.js\": \"JpP8FXbgAZLkfur7LiK3j9AGBhHNIvF742meBJrjO2ShJDhCG2I1uVvW+0DUtrmc\", \"https://cdn.bokeh.org/bokeh/release/bokeh-widgets-2.0.1.min.js\": \"xZlADit0Q04ISQEdKg2k3L4W9AwQBAuDs9nJL9fM/WwzL1tEU9VPNezOFX0nLEAz\", \"https://cdn.bokeh.org/bokeh/release/bokeh-tables-2.0.1.min.js\": \"4BuPRZkdMKSnj3zoxiNrQ86XgNw0rYmBOxe7nshquXwwcauupgBF2DHLVG1WuZlV\", \"https://cdn.bokeh.org/bokeh/release/bokeh-gl-2.0.1.min.js\": \"Dv1SQ87hmDqK6S5OhBf0bCuwAEvL5QYL0PuR/F1SPVhCS/r/abjkbpKDYL2zeM19\"};\n\n    for (var i = 0; i < js_urls.length; i++) {\n      var url = js_urls[i];\n      var element = document.createElement('script');\n      element.onload = on_load;\n      element.onerror = on_error;\n      element.async = false;\n      element.src = url;\n      if (url in hashes) {\n        element.crossOrigin = \"anonymous\";\n        element.integrity = \"sha384-\" + hashes[url];\n      }\n      console.debug(\"Bokeh: injecting script tag for BokehJS library: \", url);\n      document.head.appendChild(element);\n    }\n  };var element = document.getElementById(\"1002\");\n  if (element == null) {\n    console.error(\"Bokeh: ERROR: autoload.js configured with elementid '1002' but no matching script tag was found. \")\n    return false;\n  }\n\n  function inject_raw_css(css) {\n    const element = document.createElement(\"style\");\n    element.appendChild(document.createTextNode(css));\n    document.body.appendChild(element);\n  }\n\n  \n  var js_urls = [\"https://cdn.bokeh.org/bokeh/release/bokeh-2.0.1.min.js\", \"https://cdn.bokeh.org/bokeh/release/bokeh-widgets-2.0.1.min.js\", \"https://cdn.bokeh.org/bokeh/release/bokeh-tables-2.0.1.min.js\", \"https://cdn.bokeh.org/bokeh/release/bokeh-gl-2.0.1.min.js\"];\n  var css_urls = [];\n  \n\n  var inline_js = [\n    function(Bokeh) {\n      Bokeh.set_log_level(\"info\");\n    },\n    function(Bokeh) {\n    \n    \n    }\n  ];\n\n  function run_inline_js() {\n    \n    if (root.Bokeh !== undefined || force === true) {\n      \n    for (var i = 0; i < inline_js.length; i++) {\n      inline_js[i].call(root, root.Bokeh);\n    }\n    if (force === true) {\n        display_loaded();\n      }} else if (Date.now() < root._bokeh_timeout) {\n      setTimeout(run_inline_js, 100);\n    } else if (!root._bokeh_failed_load) {\n      console.log(\"Bokeh: BokehJS failed to load within specified timeout.\");\n      root._bokeh_failed_load = true;\n    } else if (force !== true) {\n      var cell = $(document.getElementById(\"1002\")).parents('.cell').data().cell;\n      cell.output_area.append_execute_result(NB_LOAD_WARNING)\n    }\n\n  }\n\n  if (root._bokeh_is_loading === 0) {\n    console.debug(\"Bokeh: BokehJS loaded, going straight to plotting\");\n    run_inline_js();\n  } else {\n    load_libs(css_urls, js_urls, function() {\n      console.debug(\"Bokeh: BokehJS plotting callback run at\", now());\n      run_inline_js();\n    });\n  }\n}(window));"
     },
     "metadata": {},
     "output_type": "display_data"
    }
   ],
   "source": [
    "#  Load the \"autoreload\" extension so that code can change\n",
    "%load_ext autoreload\n",
    "%reload_ext autoreload\n",
    "from pathlib import Path\n",
    "\n",
    "#  always reload modules so that as you change code in src, it gets loaded\n",
    "%autoreload 2\n",
    "%matplotlib inline\n",
    "\n",
    "import sys\n",
    "sys.path.append('../')\n",
    "from src.imports import *\n",
    "from src.data.download_data import *\n",
    "from src.data.fire_data import *\n",
    "from src.data.read_data import *\n",
    "from src.gen_functions import *\n",
    "from src.features.dataset import Dataset\n",
    "from src.features.build_features import *\n",
    "from src.models.train_model import *\n",
    "import seaborn as sns\n",
    "output_notebook()\n",
    "# set font size \n",
    "from src.visualization.visualize import *\n",
    "from src.models.train_model import *\n"
   ]
  },
  {
   "cell_type": "markdown",
   "metadata": {},
   "source": [
    "# RF Optimization"
   ]
  },
  {
   "cell_type": "code",
   "execution_count": 8,
   "metadata": {},
   "outputs": [
    {
     "name": "stdout",
     "output_type": "stream",
     "text": [
      "data no fire has shape (77746, 15)\n",
      "use default fire feature\n",
      "Index(['Temperature(C)', 'Humidity(%)', 'Wind Speed(kmph)', 'wind_CALM',\n",
      "       'wind_E', 'wind_N', 'wind_S', 'wind_W', 'is_rain', 'is_holiday',\n",
      "       'is_weekend', 'day_of_week', 'time_of_day', 'fire_0_100',\n",
      "       'fire_100_400', 'fire_400_700', 'fire_700_1000'],\n",
      "      dtype='object')\n"
     ]
    }
   ],
   "source": [
    "data = Dataset('Chiang Mai')\n",
    "data.load_()\n",
    "data.pollutant = 'PM2.5'\n",
    "# build the first dataset \n",
    "data.feature_no_fire()\n",
    "data.make_diff_col()\n",
    "# use default fire feature\n",
    "data.merge_fire()\n",
    "x_cols = data.data.columns.drop([data.pollutant, data.monitor ] )\n",
    "print(x_cols)"
   ]
  },
  {
   "cell_type": "code",
   "execution_count": 38,
   "metadata": {},
   "outputs": [
    {
     "name": "stdout",
     "output_type": "stream",
     "text": [
      "{'n_estimators': 160, 'min_samples_split': 20, 'min_samples_leaf': 7, 'max_features': 2, 'max_depth': None, 'bootstrap': False} 0.01369357440798844\n",
      "optimize 1 score {'val_r2_score': 0.05221266883633913, 'val_mean_squared_error': 40.18064965483873}\n"
     ]
    },
    {
     "data": {
      "image/png": "[encoded data removed]",
      "text/plain": [
       "<Figure size 360x576 with 1 Axes>"
      ]
     },
     "metadata": {
      "needs_background": "light"
     },
     "output_type": "display_data"
    }
   ],
   "source": [
    "print('=================optimize 1: find the best RF model=================')\n",
    "data.split_data(split_ratio=[0.4, 0.2, 0.2, 0.2])\n",
    "xtrn, ytrn, x_cols = data.get_data_matrix(use_index=data.split_list[0], x_cols=x_cols)\n",
    "xval, yval, _ = data.get_data_matrix(use_index=data.split_list[1], x_cols=x_cols)\n",
    "data.x_cols = x_cols\n",
    "\n",
    "model = do_rf_search(xtrn,ytrn)\n",
    "score_dict = cal_scores(yval, model.predict(xval), header_str ='val_')\n",
    "print('optimize 1 score', score_dict)\n",
    "\n",
    "importances = model.feature_importances_\n",
    "feat_imp = pd.DataFrame(importances, index=x_cols, columns=['importance']) \n",
    "feat_imp = feat_imp.sort_values('importance',ascending=False).reset_index()\n",
    "show_fea_imp(feat_imp, title='rf feature of importance(raw)')\n"
   ]
  },
  {
   "cell_type": "code",
   "execution_count": 39,
   "metadata": {},
   "outputs": [
    {
     "name": "stdout",
     "output_type": "stream",
     "text": [
      "=================optimize 2: remove unncessary columns=================\n",
      "old cols Index(['Temperature(C)', 'Humidity(%)', 'Wind Speed(kmph)', 'wind_CALM',\n",
      "       'wind_E', 'wind_N', 'wind_S', 'wind_W', 'is_rain', 'is_holiday',\n",
      "       'is_weekend', 'day_of_week', 'time_of_day', 'fire_0_100',\n",
      "       'fire_100_400', 'fire_400_700', 'fire_700_1000'],\n",
      "      dtype='object')\n",
      "drop wind_W\n",
      "use columns Index(['Temperature(C)', 'Humidity(%)', 'Wind Speed(kmph)', 'wind_CALM',\n",
      "       'wind_E', 'wind_N', 'wind_S', 'is_rain', 'is_holiday', 'is_weekend',\n",
      "       'day_of_week', 'time_of_day', 'fire_0_100', 'fire_100_400',\n",
      "       'fire_400_700', 'fire_700_1000'],\n",
      "      dtype='object')\n",
      "r2_score after dropping columns 0.05239219230489467\n"
     ]
    }
   ],
   "source": [
    "print('=================optimize 2: remove unncessary columns=================')\n",
    "# columns to consider droping are columns with low importance\n",
    "to_drop = feat_imp['index']\n",
    "to_drop = [a for a in to_drop if 'fire' not in a]\n",
    "\n",
    "for s in ['Humidity(%)','Temperature(C)','Wind Speed(kmph)']:\n",
    "    to_drop.remove(s)\n",
    "\n",
    "to_drop.reverse()\n",
    "model, new_x_cols = reduce_cols(dataset=data,x_cols=x_cols,to_drop=to_drop,model=model,trn_i=0, val_i=1)\n",
    "data.x_cols = new_x_cols"
   ]
  },
  {
   "cell_type": "code",
   "execution_count": 40,
   "metadata": {},
   "outputs": [
    {
     "name": "stdout",
     "output_type": "stream",
     "text": [
      "================= optimization 3: find the best fire feature ===================\n",
      "skop_ fire use x_cols Index(['Temperature(C)', 'Humidity(%)', 'Wind Speed(kmph)', 'wind_CALM',\n",
      "       'wind_E', 'wind_N', 'wind_S', 'is_rain', 'is_holiday', 'is_weekend',\n",
      "       'day_of_week', 'time_of_day', 'fire_0_100', 'fire_100_400',\n",
      "       'fire_400_700', 'fire_700_1000'],\n",
      "      dtype='object')\n",
      "old score 0.05122011519965075 fire dict {'w_speed': 4, 'shift': -24, 'roll': 108}\n",
      "optimizing fire parameter using skopt optimizer. This will take about 20 mins\n",
      "r2 score for the best fire parameters 0.05872747338753381\n"
     ]
    }
   ],
   "source": [
    "print('================= optimization 3: find the best fire feature ===================')\n",
    "# reduce the number of split\n",
    "data.split_data(split_ratio=[0.6, 0.2, 0.2])\n",
    "data.fire_dict = sk_op_fire(data, model, trn_index=data.split_list[0], val_index=data.split_list[1])\n",
    "print(data.fire_dict)"
   ]
  },
  {
   "cell_type": "code",
   "execution_count": 42,
   "metadata": {},
   "outputs": [
    {
     "name": "stdout",
     "output_type": "stream",
     "text": [
      "================= optimization 4: optimize for the best RF again and search for other model in TPOT =================\n",
      "optimize RF\n",
      "{'n_estimators': 140, 'min_samples_split': 20, 'min_samples_leaf': 7, 'max_features': 2, 'max_depth': None, 'bootstrap': True} 0.033492815495902814\n",
      "{'test_r2_score': 0.12367580769263986, 'test_mean_squared_error': 24.0925587145206}\n"
     ]
    }
   ],
   "source": [
    "print('================= optimization 4: optimize for the best RF again and search for other model in TPOT =================')\n",
    "\n",
    "data.split_data(split_ratio=[0.7, 0.3])\n",
    "trn_index = data.split_list[0]\n",
    "test_index = data.split_list[1]\n",
    "fire_cols = data.merge_fire(data.fire_dict)\n",
    "xtrn, ytrn, x_cols = data.get_data_matrix(use_index=trn_index,x_cols=new_x_cols)\n",
    "xtest, ytest, _ = data.get_data_matrix(use_index=test_index,x_cols=new_x_cols)\n",
    "\n",
    "print('optimize RF')\n",
    "rf_model = do_rf_search(xtrn,ytrn)\n",
    "rf_score_dict = cal_scores(ytest, rf_model.predict(xtest), header_str ='test_')\n",
    "print(rf_score_dict)\n",
    "rf_dict = rf_model.get_params()"
   ]
  },
  {
   "cell_type": "code",
   "execution_count": 43,
   "metadata": {},
   "outputs": [
    {
     "data": {
      "image/png": "[encoded data removed]",
      "text/plain": [
       "<Figure size 360x576 with 1 Axes>"
      ]
     },
     "metadata": {
      "needs_background": "light"
     },
     "output_type": "display_data"
    }
   ],
   "source": [
    "importances = rf_model.feature_importances_\n",
    "feat_imp = pd.DataFrame(importances, index=x_cols, columns=['importance']) \n",
    "feat_imp = feat_imp.sort_values('importance',ascending=False).reset_index()\n",
    "show_fea_imp(feat_imp, title='rf feature of importance(default)')"
   ]
  },
  {
   "cell_type": "markdown",
   "metadata": {},
   "source": [
    "# Model Performance"
   ]
  },
  {
   "cell_type": "code",
   "execution_count": 11,
   "metadata": {},
   "outputs": [
    {
     "name": "stdout",
     "output_type": "stream",
     "text": [
      "data no fire has shape (77746, 15)\n"
     ]
    }
   ],
   "source": [
    "data = Dataset('Chiang Mai')\n",
    "data.load_()\n",
    "data.pollutant = 'PM2.5'\n",
    "# build the first dataset \n",
    "data.feature_no_fire()\n",
    "data.make_diff_col()"
   ]
  },
  {
   "cell_type": "code",
   "execution_count": 12,
   "metadata": {},
   "outputs": [],
   "source": [
    "data.fire_dict = {'w_speed': 2, 'shift': -48, 'roll': 26}\n"
   ]
  },
  {
   "cell_type": "code",
   "execution_count": 14,
   "metadata": {},
   "outputs": [
    {
     "name": "stdout",
     "output_type": "stream",
     "text": [
      "use default fire feature\n",
      "1.0\n"
     ]
    }
   ],
   "source": [
    "# use default fire feature\n",
    "data.merge_fire()\n",
    "x_cols = ['Temperature(C)', 'Humidity(%)', 'Wind Speed(kmph)', 'wind_CALM',\n",
    "       'wind_E', 'wind_N', 'wind_S', 'is_rain', 'is_holiday', 'is_weekend',\n",
    "       'day_of_week', 'time_of_day', 'fire_0_100', 'fire_100_400',\n",
    "       'fire_400_700', 'fire_700_1000']\n",
    "print(data.start_value)"
   ]
  },
  {
   "cell_type": "code",
   "execution_count": 3,
   "metadata": {},
   "outputs": [],
   "source": [
    "model = RandomForestRegressor(**{'n_estimators': 140, 'min_samples_split': 20, 'min_samples_leaf': 7, 'max_features': 2, 'max_depth': None, 'bootstrap': True})"
   ]
  },
  {
   "cell_type": "code",
   "execution_count": 15,
   "metadata": {},
   "outputs": [],
   "source": [
    "data.split_data(split_ratio=[0.7, 0.3])\n",
    "trn_index = data.split_list[0]\n",
    "test_index = data.split_list[1]\n",
    "fire_cols = data.merge_fire(data.fire_dict)\n",
    "xtrn, ytrn, x_cols = data.get_data_matrix(use_index=trn_index,x_cols=x_cols)\n",
    "xtest, ytest, _ = data.get_data_matrix(use_index=test_index,x_cols=x_cols)\n"
   ]
  },
  {
   "cell_type": "code",
   "execution_count": 16,
   "metadata": {},
   "outputs": [],
   "source": [
    "model.fit(xtrn, ytrn)\n",
    "ytrn_pred = model.predict(xtrn)\n",
    "ytest_pred = model.predict(xtest)"
   ]
  },
  {
   "cell_type": "code",
   "execution_count": 20,
   "metadata": {},
   "outputs": [
    {
     "data": {
      "text/plain": [
       "(54421,)"
      ]
     },
     "execution_count": 20,
     "metadata": {},
     "output_type": "execute_result"
    }
   ],
   "source": [
    "ytrn_pred.shape"
   ]
  },
  {
   "cell_type": "code",
   "execution_count": 19,
   "metadata": {},
   "outputs": [
    {
     "data": {
      "text/plain": [
       "Text(0, 0.5, 'PM2.5')"
      ]
     },
     "execution_count": 19,
     "metadata": {},
     "output_type": "execute_result"
    },
    {
     "data": {
      "image/png": "[encoded data removed]",
      "text/plain": [
       "<Figure size 720x288 with 1 Axes>"
      ]
     },
     "metadata": {
      "needs_background": "light"
     },
     "output_type": "display_data"
    }
   ],
   "source": [
    "plt.figure(figsize=(10, 4))\n",
    "\n",
    "# plot data \n",
    "plt.plot(trn_index,ytrn, marker='.', label='data(blue)',linewidth=0,alpha=1, markersize=3,color='royalblue')\n",
    "plt.plot(test_index,ytest, marker='.', label='data(blue)',linewidth=0,alpha=1, markersize=3,color='royalblue')\n",
    "\n",
    "plt.plot(trn_index,ytrn_pred, marker='.', label='train(green)',linewidth=0,alpha=0.3, markersize=2,color='green')\n",
    "plt.plot(test_index,ytest_pred, marker='.', label='test(red)',linewidth=0,alpha=0.3, markersize=2, color='red')\n",
    " \n",
    "plt.legend()\n",
    "plt.title('Model Perfromance on Predicting Diff PM2.5 \\n(R2 Score=0.68)')\n",
    "plt.xlabel('date')\n",
    "plt.ylabel('PM2.5')"
   ]
  },
  {
   "cell_type": "code",
   "execution_count": 25,
   "metadata": {},
   "outputs": [
    {
     "data": {
      "text/plain": [
       "Text(0, 0.5, 'PM2.5')"
      ]
     },
     "execution_count": 25,
     "metadata": {},
     "output_type": "execute_result"
    },
    {
     "data": {
      "image/png": "[encoded data removed]",
      "text/plain": [
       "<Figure size 720x288 with 1 Axes>"
      ]
     },
     "metadata": {
      "needs_background": "light"
     },
     "output_type": "display_data"
    }
   ],
   "source": [
    "plt.figure(figsize=(10, 4))\n",
    "\n",
    "# plot data \n",
    "plt.plot(trn_index,data_df.loc[trn_index,data.pollutant], marker='.', label='data(blue)',linewidth=0,alpha=1, markersize=3,color='royalblue')\n",
    "plt.plot(test_index,data_df.loc[test_index,data.pollutant], marker='.', label='data(blue)',linewidth=0,alpha=1, markersize=3,color='royalblue')\n",
    "\n",
    "plt.plot(trn_index,ytrn_pred.cumsum() + data.start_value, marker='.', label='train(green)',linewidth=0,alpha=0.3, markersize=2,color='green')\n",
    "#plt.plot(test_index,rf_model.predict(xtest), marker='.', label='test(red)',linewidth=0,alpha=0.3, markersize=2, color='red')\n",
    " \n",
    "plt.legend()\n",
    "plt.title('Model Perfromance on Predicting PM2.5 \\n(R2 Score=0.68)')\n",
    "plt.xlabel('date')\n",
    "plt.ylabel('PM2.5')"
   ]
  },
  {
   "cell_type": "code",
   "execution_count": 30,
   "metadata": {},
   "outputs": [
    {
     "data": {
      "text/html": [
       "<div>\n",
       "<style scoped>\n",
       "    .dataframe tbody tr th:only-of-type {\n",
       "        vertical-align: middle;\n",
       "    }\n",
       "\n",
       "    .dataframe tbody tr th {\n",
       "        vertical-align: top;\n",
       "    }\n",
       "\n",
       "    .dataframe thead th {\n",
       "        text-align: right;\n",
       "    }\n",
       "</style>\n",
       "<table border=\"1\" class=\"dataframe\">\n",
       "  <thead>\n",
       "    <tr style=\"text-align: right;\">\n",
       "      <th></th>\n",
       "      <th>confidence</th>\n",
       "      <th>lat_km</th>\n",
       "      <th>long_km</th>\n",
       "      <th>distance</th>\n",
       "      <th>power</th>\n",
       "      <th>count</th>\n",
       "    </tr>\n",
       "    <tr>\n",
       "      <th>datetime</th>\n",
       "      <th></th>\n",
       "      <th></th>\n",
       "      <th></th>\n",
       "      <th></th>\n",
       "      <th></th>\n",
       "      <th></th>\n",
       "    </tr>\n",
       "  </thead>\n",
       "  <tbody>\n",
       "    <tr>\n",
       "      <th>2002-07-04 13:00:00</th>\n",
       "      <td>1402</td>\n",
       "      <td>55794</td>\n",
       "      <td>271000</td>\n",
       "      <td>19585.707489</td>\n",
       "      <td>592.147</td>\n",
       "      <td>23</td>\n",
       "    </tr>\n",
       "    <tr>\n",
       "      <th>2002-07-04 14:00:00</th>\n",
       "      <td>0</td>\n",
       "      <td>0</td>\n",
       "      <td>0</td>\n",
       "      <td>0.000000</td>\n",
       "      <td>0.000</td>\n",
       "      <td>0</td>\n",
       "    </tr>\n",
       "    <tr>\n",
       "      <th>2002-07-04 15:00:00</th>\n",
       "      <td>0</td>\n",
       "      <td>0</td>\n",
       "      <td>0</td>\n",
       "      <td>0.000000</td>\n",
       "      <td>0.000</td>\n",
       "      <td>0</td>\n",
       "    </tr>\n",
       "    <tr>\n",
       "      <th>2002-07-04 16:00:00</th>\n",
       "      <td>0</td>\n",
       "      <td>0</td>\n",
       "      <td>0</td>\n",
       "      <td>0.000000</td>\n",
       "      <td>0.000</td>\n",
       "      <td>0</td>\n",
       "    </tr>\n",
       "    <tr>\n",
       "      <th>2002-07-04 17:00:00</th>\n",
       "      <td>0</td>\n",
       "      <td>0</td>\n",
       "      <td>0</td>\n",
       "      <td>0.000000</td>\n",
       "      <td>0.000</td>\n",
       "      <td>0</td>\n",
       "    </tr>\n",
       "  </tbody>\n",
       "</table>\n",
       "</div>"
      ],
      "text/plain": [
       "                     confidence  lat_km  long_km      distance    power  count\n",
       "datetime                                                                      \n",
       "2002-07-04 13:00:00        1402   55794   271000  19585.707489  592.147     23\n",
       "2002-07-04 14:00:00           0       0        0      0.000000    0.000      0\n",
       "2002-07-04 15:00:00           0       0        0      0.000000    0.000      0\n",
       "2002-07-04 16:00:00           0       0        0      0.000000    0.000      0\n",
       "2002-07-04 17:00:00           0       0        0      0.000000    0.000      0"
      ]
     },
     "execution_count": 30,
     "metadata": {},
     "output_type": "execute_result"
    }
   ],
   "source": [
    "fire_df = data.fire.groupby(level=0).sum()\n",
    "fire_df = fire_df.resample('h').sum()\n",
    "fire_df.head()"
   ]
  },
  {
   "cell_type": "code",
   "execution_count": 39,
   "metadata": {},
   "outputs": [
    {
     "data": {
      "text/plain": [
       "[<matplotlib.lines.Line2D at 0x26445926688>]"
      ]
     },
     "execution_count": 39,
     "metadata": {},
     "output_type": "execute_result"
    },
    {
     "data": {
      "image/png": "[encoded data removed]",
      "text/plain": [
       "<Figure size 720x360 with 2 Axes>"
      ]
     },
     "metadata": {
      "needs_background": "light"
     },
     "output_type": "display_data"
    }
   ],
   "source": [
    "_, ax = plt.subplots(1,1, figsize=(10,5))\n",
    "ax.plot(data.poll_df['PM2.5'].diff())\n",
    "a = ax.twinx()\n",
    "a.plot(fire_df['power'],color='yellow',alpha=0.8)\n",
    "\n",
    "#ax.set_xlim(['2018-01-01','2020-06-01'])"
   ]
  },
  {
   "cell_type": "markdown",
   "metadata": {},
   "source": [
    "# RF + Lagging"
   ]
  },
  {
   "cell_type": "code",
   "execution_count": 104,
   "metadata": {},
   "outputs": [],
   "source": [
    "from sklearn.neighbors import KNeighborsRegressor\n",
    "from sklearn.tree import DecisionTreeRegressor\n",
    "from sklearn.tree import ExtraTreeRegressor\n",
    "from sklearn.svm import SVR\n",
    "from sklearn.ensemble import AdaBoostRegressor\n",
    "from sklearn.ensemble import BaggingRegressor\n",
    "from sklearn.ensemble import RandomForestRegressor, ExtraTreesRegressor, GradientBoostingRegressor"
   ]
  },
  {
   "cell_type": "code",
   "execution_count": 4,
   "metadata": {},
   "outputs": [],
   "source": [
    "def get_lag(x_cols, n):\n",
    "    \"\"\"Obtain lagged value of x_cols return just the lagged df\n",
    "    \n",
    "    \"\"\"\n",
    "    lag_df = data_df[x_cols].shift(n)\n",
    "    lag_df.columns = [ s+ f'_lag_{n}' for s in lag_df.columns]  \n",
    "    return lag_df"
   ]
  },
  {
   "cell_type": "code",
   "execution_count": 106,
   "metadata": {},
   "outputs": [
    {
     "name": "stdout",
     "output_type": "stream",
     "text": [
      "data no fire has shape (77746, 15)\n",
      "use default fire feature\n",
      "Index(['Temperature(C)', 'Humidity(%)', 'Wind Speed(kmph)', 'wind_CALM',\n",
      "       'wind_E', 'wind_N', 'wind_S', 'wind_W', 'is_rain', 'is_holiday',\n",
      "       'is_weekend', 'day_of_week', 'time_of_day', 'fire_0_100',\n",
      "       'fire_100_400', 'fire_400_700', 'fire_700_1000'],\n",
      "      dtype='object')\n"
     ]
    },
    {
     "data": {
      "text/plain": [
       "(77746, 18)"
      ]
     },
     "execution_count": 106,
     "metadata": {},
     "output_type": "execute_result"
    }
   ],
   "source": [
    "data = Dataset('Chiang Mai')\n",
    "data.load_()\n",
    "data.monitor  = data.pollutant = 'PM2.5'\n",
    "# build the first dataset \n",
    "data.feature_no_fire()\n",
    "data.fire_dict = {'w_speed': 20, 'shift': -18, 'roll': 120}\n",
    "# use default fire feature\n",
    "data.merge_fire()\n",
    "x_cols = data.data.columns.drop([data.pollutant, data.monitor, 'PM2.5_lag_1' ] )\n",
    "print(x_cols)\n",
    "# drop the PM2.5 lag columns\n",
    "data_df_backup = data.data.copy()\n",
    "data_df_backup = data_df_backup.drop('PM2.5_lag_1', axis=1)\n",
    "data_df_backup.shape"
   ]
  },
  {
   "cell_type": "code",
   "execution_count": 36,
   "metadata": {},
   "outputs": [
    {
     "name": "stdout",
     "output_type": "stream",
     "text": [
      "=================optimize 1: find the best RF model=================\n",
      "{'val_r2_score': 0.5685401257782331, 'val_mean_squared_error': 515.6143388770981, 'val_mean_absolute_error': 13.294085793298605}\n"
     ]
    }
   ],
   "source": [
    "print('=================optimize 1: find the best RF model=================')\n",
    "data.split_data(split_ratio=[0.4, 0.2, 0.2, 0.2])\n",
    "xtrn, ytrn, x_cols = data.get_data_matrix(use_index=data.split_list[0], x_cols=x_cols)\n",
    "xval, yval, _ = data.get_data_matrix(use_index=data.split_list[1], x_cols=x_cols)\n",
    "data.x_cols = x_cols\n",
    "\n",
    "m = ExtraTreesRegressor(n_jobs=-1, random_state=42)\n",
    "m.fit(xtrn,ytrn)\n",
    "score_dict = cal_scores(yval, m.predict(xval), header_str ='val_')\n",
    "print(score_dict)"
   ]
  },
  {
   "cell_type": "code",
   "execution_count": 77,
   "metadata": {},
   "outputs": [
    {
     "data": {
      "application/vnd.jupyter.widget-view+json": {
       "model_id": "d70628b8838b4e9e93194287ee6e082d",
       "version_major": 2,
       "version_minor": 0
      },
      "text/plain": [
       "HBox(children=(FloatProgress(value=0.0, max=4.0), HTML(value='')))"
      ]
     },
     "metadata": {},
     "output_type": "display_data"
    },
    {
     "name": "stdout",
     "output_type": "stream",
     "text": [
      "(31092, 289)\n",
      "(31091, 306)\n",
      "(31091, 323)\n",
      "(31090, 340)\n",
      "\n"
     ]
    },
    {
     "ename": "AttributeError",
     "evalue": "'DataFrame' object has no attribute 'sort_value'",
     "output_type": "error",
     "traceback": [
      "\u001b[1;31m---------------------------------------------------------------------------\u001b[0m",
      "\u001b[1;31mAttributeError\u001b[0m                            Traceback (most recent call last)",
      "\u001b[1;32m<ipython-input-77-a5b5ec93267b>\u001b[0m in \u001b[0;36m<module>\u001b[1;34m\u001b[0m\n\u001b[0;32m     27\u001b[0m \u001b[1;33m\u001b[0m\u001b[0m\n\u001b[0;32m     28\u001b[0m \u001b[0mscore_df\u001b[0m \u001b[1;33m=\u001b[0m \u001b[0mpd\u001b[0m\u001b[1;33m.\u001b[0m\u001b[0mconcat\u001b[0m\u001b[1;33m(\u001b[0m\u001b[0mscore_df\u001b[0m\u001b[1;33m)\u001b[0m\u001b[1;33m\u001b[0m\u001b[1;33m\u001b[0m\u001b[0m\n\u001b[1;32m---> 29\u001b[1;33m \u001b[0mscore_df\u001b[0m\u001b[1;33m.\u001b[0m\u001b[0msort_value\u001b[0m\u001b[1;33m(\u001b[0m\u001b[1;34m'val_mean_absolute_error'\u001b[0m\u001b[1;33m)\u001b[0m\u001b[1;33m\u001b[0m\u001b[1;33m\u001b[0m\u001b[0m\n\u001b[0m",
      "\u001b[1;32mc:\\users\\benny\\pyenv\\geo\\lib\\site-packages\\pandas\\core\\generic.py\u001b[0m in \u001b[0;36m__getattr__\u001b[1;34m(self, name)\u001b[0m\n\u001b[0;32m   5271\u001b[0m             \u001b[1;32mif\u001b[0m \u001b[0mself\u001b[0m\u001b[1;33m.\u001b[0m\u001b[0m_info_axis\u001b[0m\u001b[1;33m.\u001b[0m\u001b[0m_can_hold_identifiers_and_holds_name\u001b[0m\u001b[1;33m(\u001b[0m\u001b[0mname\u001b[0m\u001b[1;33m)\u001b[0m\u001b[1;33m:\u001b[0m\u001b[1;33m\u001b[0m\u001b[1;33m\u001b[0m\u001b[0m\n\u001b[0;32m   5272\u001b[0m                 \u001b[1;32mreturn\u001b[0m \u001b[0mself\u001b[0m\u001b[1;33m[\u001b[0m\u001b[0mname\u001b[0m\u001b[1;33m]\u001b[0m\u001b[1;33m\u001b[0m\u001b[1;33m\u001b[0m\u001b[0m\n\u001b[1;32m-> 5273\u001b[1;33m             \u001b[1;32mreturn\u001b[0m \u001b[0mobject\u001b[0m\u001b[1;33m.\u001b[0m\u001b[0m__getattribute__\u001b[0m\u001b[1;33m(\u001b[0m\u001b[0mself\u001b[0m\u001b[1;33m,\u001b[0m \u001b[0mname\u001b[0m\u001b[1;33m)\u001b[0m\u001b[1;33m\u001b[0m\u001b[1;33m\u001b[0m\u001b[0m\n\u001b[0m\u001b[0;32m   5274\u001b[0m \u001b[1;33m\u001b[0m\u001b[0m\n\u001b[0;32m   5275\u001b[0m     \u001b[1;32mdef\u001b[0m \u001b[0m__setattr__\u001b[0m\u001b[1;33m(\u001b[0m\u001b[0mself\u001b[0m\u001b[1;33m,\u001b[0m \u001b[0mname\u001b[0m\u001b[1;33m:\u001b[0m \u001b[0mstr\u001b[0m\u001b[1;33m,\u001b[0m \u001b[0mvalue\u001b[0m\u001b[1;33m)\u001b[0m \u001b[1;33m->\u001b[0m \u001b[1;32mNone\u001b[0m\u001b[1;33m:\u001b[0m\u001b[1;33m\u001b[0m\u001b[1;33m\u001b[0m\u001b[0m\n",
      "\u001b[1;31mAttributeError\u001b[0m: 'DataFrame' object has no attribute 'sort_value'"
     ]
    }
   ],
   "source": [
    "score_df = []\n",
    "for max_n in tqdm_notebook(np.arange(17, 21, 1)):\n",
    "    x_cols = ['Temperature(C)', 'Humidity(%)', 'Wind Speed(kmph)',\n",
    "       'wind_CALM', 'wind_E', 'wind_N', 'wind_S', 'wind_W', 'is_rain',\n",
    "       'is_holiday', 'is_weekend', 'day_of_week', 'time_of_day', 'fire_0_100',\n",
    "       'fire_100_400', 'fire_400_700', 'fire_700_1000']\n",
    "    data_df = data_df_backup\n",
    "    \n",
    "    lag_list = [data_df]\n",
    "    for n in np.arange(1,max_n):\n",
    "        lag_df = get_lag(x_cols, n)\n",
    "        lag_list.append(lag_df)\n",
    "        \n",
    "    data_df = pd.concat(lag_list, axis=1, ignore_index=False)\n",
    "    data.data = data_df.dropna()\n",
    " \n",
    "    data.split_data(split_ratio=[0.4, 0.2, 0.2, 0.2])\n",
    "    xtrn, ytrn, x_cols = data.get_data_matrix(use_index=data.split_list[0])\n",
    "    xval, yval, _ = data.get_data_matrix(use_index=data.split_list[1])\n",
    "    print(xtrn.shape)\n",
    "    data.x_cols = x_cols\n",
    "\n",
    "    m = ExtraTreesRegressor(n_jobs=-1, random_state=42)\n",
    "    m.fit(xtrn,ytrn)\n",
    "    score_dict = cal_scores(yval, m.predict(xval), header_str ='val_')\n",
    "    score_df.append(pd.DataFrame(score_dict,index=[max_n]))\n",
    "    \n",
    "score_df = pd.concat(score_df)\n",
    "score_df.sort_values('val_mean_absolute_error') "
   ]
  },
  {
   "cell_type": "code",
   "execution_count": 107,
   "metadata": {},
   "outputs": [
    {
     "name": "stdout",
     "output_type": "stream",
     "text": [
      "(31091, 306)\n"
     ]
    }
   ],
   "source": [
    "max_n = 18\n",
    "\n",
    "x_cols = ['Temperature(C)', 'Humidity(%)', 'Wind Speed(kmph)',\n",
    "       'wind_CALM', 'wind_E', 'wind_N', 'wind_S', 'wind_W', 'is_rain',\n",
    "       'is_holiday', 'is_weekend', 'day_of_week', 'time_of_day', 'fire_0_100',\n",
    "       'fire_100_400', 'fire_400_700', 'fire_700_1000']\n",
    "\n",
    "data_df = data_df_backup\n",
    "    \n",
    "lag_list = [data_df]\n",
    "for n in np.arange(1,max_n):\n",
    "    lag_df = get_lag(x_cols, n)\n",
    "    lag_list.append(lag_df)\n",
    "        \n",
    "data_df = pd.concat(lag_list, axis=1, ignore_index=False)\n",
    "data.data = data_df.dropna()\n",
    " \n",
    "data.split_data(split_ratio=[0.4, 0.2, 0.2, 0.2])\n",
    "xtrn, ytrn, x_cols = data.get_data_matrix(use_index=data.split_list[0])\n",
    "xval, yval, _ = data.get_data_matrix(use_index=data.split_list[1])\n",
    "print(xtrn.shape)\n",
    "data.x_cols = x_cols\n"
   ]
  },
  {
   "cell_type": "code",
   "execution_count": 108,
   "metadata": {},
   "outputs": [
    {
     "name": "stdout",
     "output_type": "stream",
     "text": [
      "=================optimize 1: find the best RF model=================\n",
      "{'val_r2_score': 0.5966005292987893, 'val_mean_squared_error': 482.21817725099174, 'val_mean_absolute_error': 13.151741181516028}\n"
     ]
    }
   ],
   "source": [
    "print('=================optimize 1: find the best RF model=================')\n",
    "\n",
    "m = ExtraTreesRegressor(n_jobs=-1, random_state=42)\n",
    "m.fit(xtrn,ytrn)\n",
    "score_dict = cal_scores(yval, m.predict(xval), header_str ='val_')\n",
    "print(score_dict)"
   ]
  },
  {
   "cell_type": "code",
   "execution_count": null,
   "metadata": {
    "scrolled": false
   },
   "outputs": [
    {
     "name": "stdout",
     "output_type": "stream",
     "text": [
      "=================optimize 1: find the best RF model=================\n"
     ]
    }
   ],
   "source": [
    "print('=================optimize 1: find the best RF model=================')\n",
    "model = do_rf_search(xtrn,ytrn)\n",
    "score_dict = cal_scores(yval, model.predict(xval), header_str ='val_')\n",
    "print('optimize 1 score', score_dict)\n",
    "\n",
    "importances = model.feature_importances_\n",
    "feat_imp = pd.DataFrame(importances, index=x_cols, columns=['importance']) \n",
    "feat_imp = feat_imp.sort_values('importance',ascending=False).reset_index()\n",
    "#show_fea_imp(feat_imp, title='rf feature of importance(raw)')"
   ]
  },
  {
   "cell_type": "code",
   "execution_count": null,
   "metadata": {},
   "outputs": [],
   "source": [
    "print('=================optimize 2: remove unncessary columns=================')\n",
    "\n",
    "# columns to consider droping are columns with low importance\n",
    "to_drop = feat_imp['index']\n",
    "to_drop = [a for a in to_drop if 'fire' not in a]\n",
    "for s in ['Humidity(%)','Temperature(C)','Wind Speed(kmph)']:\n",
    "        to_drop.remove(s)\n",
    "    to_drop.reverse()\n",
    "    model, new_x_cols = reduce_cols(dataset=data,x_cols=x_cols,to_drop=to_drop,model=model,trn_i=0, val_i=1)\n",
    "    data.x_cols = new_x_cols"
   ]
  },
  {
   "cell_type": "code",
   "execution_count": null,
   "metadata": {},
   "outputs": [],
   "source": []
  },
  {
   "cell_type": "code",
   "execution_count": null,
   "metadata": {},
   "outputs": [],
   "source": []
  },
  {
   "cell_type": "code",
   "execution_count": null,
   "metadata": {},
   "outputs": [],
   "source": []
  },
  {
   "cell_type": "markdown",
   "metadata": {},
   "source": [
    "# Compare Different of models"
   ]
  },
  {
   "cell_type": "code",
   "execution_count": 93,
   "metadata": {},
   "outputs": [],
   "source": [
    "# prepare a list of ml models\n",
    "def get_models(models=dict()):\n",
    "    # non-linear models\n",
    "    models['knn'] = KNeighborsRegressor(n_neighbors=7)\n",
    "     \n",
    "    models['extra'] = ExtraTreeRegressor()\n",
    "   \n",
    "    # # ensemble models\n",
    "    n_trees = 100\n",
    "    models['ada'] = AdaBoostRegressor(n_estimators=n_trees)\n",
    "    models['bag'] = BaggingRegressor(n_estimators=n_trees)\n",
    "    models['rf'] = RandomForestRegressor(n_estimators=n_trees)\n",
    "    models['et'] = ExtraTreesRegressor(n_estimators=n_trees)\n",
    "    models['gbm'] = GradientBoostingRegressor(n_estimators=n_trees)\n",
    "    \n",
    "    models['svmr'] = SVR()\n",
    "    \n",
    "    return models"
   ]
  },
  {
   "cell_type": "code",
   "execution_count": 94,
   "metadata": {},
   "outputs": [
    {
     "name": "stdout",
     "output_type": "stream",
     "text": [
      "{'val_r2_score': 0.5983752033937699, 'val_mean_squared_error': 480.0967562540616, 'val_mean_absolute_error': 12.951603639204153, 'model': 'knn'}\n",
      "{'val_r2_score': 0.3077305706507292, 'val_mean_squared_error': 827.5293515063794, 'val_mean_absolute_error': 18.713053500589687, 'model': 'extra'}\n",
      "{'val_r2_score': 0.1528640537993985, 'val_mean_squared_error': 1012.6546550756847, 'val_mean_absolute_error': 26.661358498228136, 'model': 'ada'}\n",
      "{'val_r2_score': 0.5796934685803758, 'val_mean_squared_error': 502.42864502412345, 'val_mean_absolute_error': 13.30477388227726, 'model': 'bag'}\n",
      "{'val_r2_score': 0.5762734576088353, 'val_mean_squared_error': 506.5168790865229, 'val_mean_absolute_error': 13.323806154176047, 'model': 'rf'}\n",
      "{'val_r2_score': 0.5899842409338647, 'val_mean_squared_error': 490.1271973346199, 'val_mean_absolute_error': 13.170514206068404, 'model': 'et'}\n",
      "{'val_r2_score': 0.5951410603800058, 'val_mean_squared_error': 483.96280631693196, 'val_mean_absolute_error': 12.180557233448726, 'model': 'gbm'}\n",
      "{'val_r2_score': 0.530902491748594, 'val_mean_squared_error': 560.7527074558853, 'val_mean_absolute_error': 11.848127267773565, 'model': 'svmr'}\n"
     ]
    },
    {
     "data": {
      "text/html": [
       "<div>\n",
       "<style scoped>\n",
       "    .dataframe tbody tr th:only-of-type {\n",
       "        vertical-align: middle;\n",
       "    }\n",
       "\n",
       "    .dataframe tbody tr th {\n",
       "        vertical-align: top;\n",
       "    }\n",
       "\n",
       "    .dataframe thead th {\n",
       "        text-align: right;\n",
       "    }\n",
       "</style>\n",
       "<table border=\"1\" class=\"dataframe\">\n",
       "  <thead>\n",
       "    <tr style=\"text-align: right;\">\n",
       "      <th></th>\n",
       "      <th>val_r2_score</th>\n",
       "      <th>val_mean_squared_error</th>\n",
       "      <th>val_mean_absolute_error</th>\n",
       "      <th>model</th>\n",
       "    </tr>\n",
       "  </thead>\n",
       "  <tbody>\n",
       "    <tr>\n",
       "      <th>7</th>\n",
       "      <td>0.530902</td>\n",
       "      <td>560.752707</td>\n",
       "      <td>11.848127</td>\n",
       "      <td>svmr</td>\n",
       "    </tr>\n",
       "    <tr>\n",
       "      <th>6</th>\n",
       "      <td>0.595141</td>\n",
       "      <td>483.962806</td>\n",
       "      <td>12.180557</td>\n",
       "      <td>gbm</td>\n",
       "    </tr>\n",
       "    <tr>\n",
       "      <th>0</th>\n",
       "      <td>0.598375</td>\n",
       "      <td>480.096756</td>\n",
       "      <td>12.951604</td>\n",
       "      <td>knn</td>\n",
       "    </tr>\n",
       "    <tr>\n",
       "      <th>5</th>\n",
       "      <td>0.589984</td>\n",
       "      <td>490.127197</td>\n",
       "      <td>13.170514</td>\n",
       "      <td>et</td>\n",
       "    </tr>\n",
       "    <tr>\n",
       "      <th>3</th>\n",
       "      <td>0.579693</td>\n",
       "      <td>502.428645</td>\n",
       "      <td>13.304774</td>\n",
       "      <td>bag</td>\n",
       "    </tr>\n",
       "    <tr>\n",
       "      <th>4</th>\n",
       "      <td>0.576273</td>\n",
       "      <td>506.516879</td>\n",
       "      <td>13.323806</td>\n",
       "      <td>rf</td>\n",
       "    </tr>\n",
       "    <tr>\n",
       "      <th>1</th>\n",
       "      <td>0.307731</td>\n",
       "      <td>827.529352</td>\n",
       "      <td>18.713054</td>\n",
       "      <td>extra</td>\n",
       "    </tr>\n",
       "    <tr>\n",
       "      <th>2</th>\n",
       "      <td>0.152864</td>\n",
       "      <td>1012.654655</td>\n",
       "      <td>26.661358</td>\n",
       "      <td>ada</td>\n",
       "    </tr>\n",
       "  </tbody>\n",
       "</table>\n",
       "</div>"
      ],
      "text/plain": [
       "   val_r2_score  val_mean_squared_error  val_mean_absolute_error  model\n",
       "7      0.530902              560.752707                11.848127   svmr\n",
       "6      0.595141              483.962806                12.180557    gbm\n",
       "0      0.598375              480.096756                12.951604    knn\n",
       "5      0.589984              490.127197                13.170514     et\n",
       "3      0.579693              502.428645                13.304774    bag\n",
       "4      0.576273              506.516879                13.323806     rf\n",
       "1      0.307731              827.529352                18.713054  extra\n",
       "2      0.152864             1012.654655                26.661358    ada"
      ]
     },
     "execution_count": 94,
     "metadata": {},
     "output_type": "execute_result"
    }
   ],
   "source": [
    "models = get_models()\n",
    "\n",
    "model_search_df = []\n",
    "for k, model in models.items():\n",
    "    model.fit(xtrn,ytrn)\n",
    "    score_dict = cal_scores(yval, model.predict(xval), header_str ='val_')\n",
    "    score_dict['model'] = k\n",
    "    print(score_dict)\n",
    "    model_search_df.append(pd.DataFrame(score_dict, index=[0]))\n",
    "    \n",
    "model_search_df  = pd.concat(model_search_df, ignore_index=True)\n",
    "model_search_df.sort_values('val_mean_absolute_error')"
   ]
  },
  {
   "cell_type": "markdown",
   "metadata": {},
   "source": [
    "# Useing RF"
   ]
  },
  {
   "cell_type": "code",
   "execution_count": 12,
   "metadata": {},
   "outputs": [
    {
     "name": "stdout",
     "output_type": "stream",
     "text": [
      "data no fire has shape (77746, 15)\n",
      "Index(['Temperature(C)', 'Humidity(%)', 'Wind Speed(kmph)', 'wind_CALM',\n",
      "       'wind_E', 'wind_N', 'wind_S', 'wind_W', 'is_rain', 'is_holiday',\n",
      "       'is_weekend', 'day_of_week', 'time_of_day', 'fire_0_100',\n",
      "       'fire_100_400', 'fire_400_700', 'fire_700_1000'],\n",
      "      dtype='object')\n"
     ]
    }
   ],
   "source": [
    "data = Dataset('Chiang Mai')\n",
    "data.load_()\n",
    "data.monitor  = data.pollutant = 'PM2.5'\n",
    "# build the first dataset \n",
    "data.feature_no_fire()\n",
    "data.fire_dict = {'w_speed': 20, 'shift': -18, 'roll': 120}\n",
    "# use default fire feature\n",
    "data.merge_fire(data.fire_dict)\n",
    "x_cols = data.data.columns.drop([data.pollutant, data.monitor, 'PM2.5_lag_1' ] )\n",
    "print(x_cols)\n",
    "# drop the PM2.5 lag columns\n",
    "data.data_back = data.data.copy().drop('PM2.5_lag_1', axis=1)\n",
    "data.data_back.head()\n",
    "data.x_cols_back = x_cols"
   ]
  },
  {
   "cell_type": "code",
   "execution_count": 17,
   "metadata": {},
   "outputs": [
    {
     "name": "stdout",
     "output_type": "stream",
     "text": [
      "(23299, 306)\n"
     ]
    }
   ],
   "source": [
    "data.build_lag(max_n = 18)\n",
    "\n",
    "data.split_data(split_ratio=[0.3, 0.25, 0.25, 0.2])\n",
    "xtrn, ytrn, x_cols = data.get_data_matrix(use_index=data.split_list[0])\n",
    "xval, yval, _ = data.get_data_matrix(use_index=data.split_list[1])\n",
    "print(xtrn.shape)\n",
    "data.x_cols = x_cols"
   ]
  },
  {
   "cell_type": "code",
   "execution_count": 18,
   "metadata": {},
   "outputs": [
    {
     "name": "stdout",
     "output_type": "stream",
     "text": [
      "=================optimize 1: find the best knn model=================\n",
      "optimize 1 score {'val_r2_score': 0.5388482407514033, 'val_mean_squared_error': 580.7507219664195, 'val_mean_absolute_error': 15.157248145859086}\n"
     ]
    }
   ],
   "source": [
    "print('=================optimize 1: find the best knn model=================')\n",
    "\n",
    "model = ExtraTreesRegressor()\n",
    "model.fit(xtrn,ytrn)\n",
    "score_dict = cal_scores(yval, model.predict(xval), header_str ='val_')\n",
    "print('optimize 1 score', score_dict) "
   ]
  },
  {
   "cell_type": "code",
   "execution_count": null,
   "metadata": {},
   "outputs": [
    {
     "name": "stdout",
     "output_type": "stream",
     "text": [
      "old cols length 306\n",
      "drop is_rain_lag_3\n",
      "drop is_rain_lag_13\n",
      "drop is_rain_lag_12\n",
      "drop is_rain\n",
      "drop is_rain_lag_10\n",
      "drop is_rain_lag_14\n",
      "drop is_rain_lag_8\n",
      "drop is_rain_lag_7\n",
      "drop is_rain_lag_6\n",
      "drop is_rain_lag_4\n",
      "drop is_rain_lag_17\n",
      "drop is_rain_lag_5\n",
      "drop is_holiday_lag_8\n",
      "drop is_holiday_lag_7\n",
      "drop is_holiday_lag_16\n",
      "drop is_holiday_lag_14\n",
      "drop is_holiday_lag_6\n"
     ]
    }
   ],
   "source": [
    "importances = model.feature_importances_\n",
    "feat_imp = pd.DataFrame(importances, index=x_cols, columns=['importance']) \n",
    "feat_imp = feat_imp.sort_values('importance',ascending=False).reset_index()\n",
    "\n",
    "# columns to consider droping are columns with low importance\n",
    "to_drop = feat_imp['index'].to_list()\n",
    "\n",
    "no_drop = ['Humidity(%)','Temperature(C)','Wind Speed(kmph)'] + [a for a in data.x_cols_back if 'fire' in a]\n",
    "\n",
    "for s in  no_drop:\n",
    "    to_drop.remove(s)\n",
    "    \n",
    "to_drop.reverse()\n",
    "model, new_x_cols = reduce_cols(dataset=data,x_cols=x_cols,to_drop=to_drop,model=model,trn_i=0, val_i=1)\n",
    "data.x_cols = new_x_cols"
   ]
  },
  {
   "cell_type": "code",
   "execution_count": null,
   "metadata": {},
   "outputs": [],
   "source": [
    "print('==========optimize fire featuree====')\n",
    "x_cols = dataset.x_cols\n",
    "data.split_data(split_ratio=[0.5, 0.3, 0.2])\n",
    "xtrn, ytrn, x_cols = data.get_data_matrix(use_index=data.split_list[0])\n",
    "xval, yval, _ = data.get_data_matrix(use_index=data.split_list[1])\n",
    "\n",
    "model.fit(xtrn,ytrn)\n",
    "best_score = mean_absolute_error(yval,model.predict(xval))\n",
    "best_fire_dict = dataset.fire_dict\n",
    "print('old score', best_score, 'fire dict', best_fire_dict)\n",
    "\n",
    "print('optimizing fire parameter using skopt optimizer. This will take about 20 mins')\n",
    "# build search space \n",
    "wind_speed = Real(low=wind_range[0], high=wind_range[1], name='wind_speed')\n",
    "shift = Integer(low=shift_range[0], high=shift_range[1], name='shift')\n",
    "roll = Integer(low=roll_range[0],high=roll_range[1], name='roll')\n",
    "\n",
    "dimensions = [wind_speed, shift, roll]\n",
    "# setup the function for skopt\n",
    "@use_named_args(dimensions)\n",
    "def fit_with( wind_speed, shift, roll):\n",
    "    # function to return the score (smaller better)\n",
    "    fire_dict = { 'w_speed': wind_speed, \n",
    "                      'shift': shift,\n",
    "                      'roll': roll}\n",
    "    \n",
    "    _ = dataset.merge_fire(fire_dict)\n",
    "    data.data_back = data.data.copy().drop('PM2.5_lag_1', axis=1)\n",
    "    \n",
    "    xtrn, ytrn, x_cols = dataset.get_data_matrix(use_index= trn_index, x_cols=dataset.x_cols)\n",
    "    xval, yval, _ = dataset.get_data_matrix(use_index=val_index, x_cols=dataset.x_cols)\n",
    "    \n",
    "    model.fit(xtrn,ytrn)\n",
    "    y_pred = model.predict(xval)\n",
    "    \n",
    "    return mean_absolute_error(yval,y_pred)\n",
    "\n",
    "gp_result = gp_minimize(func=fit_with,dimensions=dimensions,n_jobs=-1,random_state=30)\n",
    "    \n",
    "wind_speed, shift, roll = gp_result.x\n",
    "score = gp_result.fun"
   ]
  },
  {
   "cell_type": "code",
   "execution_count": null,
   "metadata": {},
   "outputs": [],
   "source": [
    "fire_dict =  {'w_speed': int(wind_speed), 'shift': int(shift), 'roll': int(roll)}\n",
    "print(fire_dict)"
   ]
  },
  {
   "cell_type": "code",
   "execution_count": null,
   "metadata": {},
   "outputs": [],
   "source": []
  }
 ],
 "metadata": {
  "kernelspec": {
   "display_name": "Python 3",
   "language": "python",
   "name": "python3"
  },
  "language_info": {
   "codemirror_mode": {
    "name": "ipython",
    "version": 3
   },
   "file_extension": ".py",
   "mimetype": "text/x-python",
   "name": "python",
   "nbconvert_exporter": "python",
   "pygments_lexer": "ipython3",
   "version": "3.7.5"
  },
  "toc": {
   "base_numbering": 1,
   "nav_menu": {},
   "number_sections": true,
   "sideBar": true,
   "skip_h1_title": false,
   "title_cell": "Table of Contents",
   "title_sidebar": "Contents",
   "toc_cell": false,
   "toc_position": {},
   "toc_section_display": true,
   "toc_window_display": false
  }
 },
 "nbformat": 4,
 "nbformat_minor": 4
}
