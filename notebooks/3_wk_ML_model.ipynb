{
 "cells": [
  {
   "cell_type": "markdown",
   "metadata": {},
   "source": [
    "# Imports"
   ]
  },
  {
   "cell_type": "code",
   "execution_count": 55,
   "metadata": {},
   "outputs": [
    {
     "name": "stdout",
     "output_type": "stream",
     "text": [
      "The autoreload extension is already loaded. To reload it, use:\n",
      "  %reload_ext autoreload\n"
     ]
    },
    {
     "data": {
      "text/html": [
       "\n",
       "    <div class=\"bk-root\">\n",
       "        <a href=\"https://bokeh.org\" target=\"_blank\" class=\"bk-logo bk-logo-small bk-logo-notebook\"></a>\n",
       "        <span id=\"1002\">Loading BokehJS ...</span>\n",
       "    </div>"
      ]
     },
     "metadata": {},
     "output_type": "display_data"
    },
    {
     "data": {
      "application/javascript": [
       "\n",
       "(function(root) {\n",
       "  function now() {\n",
       "    return new Date();\n",
       "  }\n",
       "\n",
       "  var force = true;\n",
       "\n",
       "  if (typeof root._bokeh_onload_callbacks === \"undefined\" || force === true) {\n",
       "    root._bokeh_onload_callbacks = [];\n",
       "    root._bokeh_is_loading = undefined;\n",
       "  }\n",
       "\n",
       "  var JS_MIME_TYPE = 'application/javascript';\n",
       "  var HTML_MIME_TYPE = 'text/html';\n",
       "  var EXEC_MIME_TYPE = 'application/vnd.bokehjs_exec.v0+json';\n",
       "  var CLASS_NAME = 'output_bokeh rendered_html';\n",
       "\n",
       "  /**\n",
       "   * Render data to the DOM node\n",
       "   */\n",
       "  function render(props, node) {\n",
       "    var script = document.createElement(\"script\");\n",
       "    node.appendChild(script);\n",
       "  }\n",
       "\n",
       "  /**\n",
       "   * Handle when an output is cleared or removed\n",
       "   */\n",
       "  function handleClearOutput(event, handle) {\n",
       "    var cell = handle.cell;\n",
       "\n",
       "    var id = cell.output_area._bokeh_element_id;\n",
       "    var server_id = cell.output_area._bokeh_server_id;\n",
       "    // Clean up Bokeh references\n",
       "    if (id != null && id in Bokeh.index) {\n",
       "      Bokeh.index[id].model.document.clear();\n",
       "      delete Bokeh.index[id];\n",
       "    }\n",
       "\n",
       "    if (server_id !== undefined) {\n",
       "      // Clean up Bokeh references\n",
       "      var cmd = \"from bokeh.io.state import curstate; print(curstate().uuid_to_server['\" + server_id + \"'].get_sessions()[0].document.roots[0]._id)\";\n",
       "      cell.notebook.kernel.execute(cmd, {\n",
       "        iopub: {\n",
       "          output: function(msg) {\n",
       "            var id = msg.content.text.trim();\n",
       "            if (id in Bokeh.index) {\n",
       "              Bokeh.index[id].model.document.clear();\n",
       "              delete Bokeh.index[id];\n",
       "            }\n",
       "          }\n",
       "        }\n",
       "      });\n",
       "      // Destroy server and session\n",
       "      var cmd = \"import bokeh.io.notebook as ion; ion.destroy_server('\" + server_id + \"')\";\n",
       "      cell.notebook.kernel.execute(cmd);\n",
       "    }\n",
       "  }\n",
       "\n",
       "  /**\n",
       "   * Handle when a new output is added\n",
       "   */\n",
       "  function handleAddOutput(event, handle) {\n",
       "    var output_area = handle.output_area;\n",
       "    var output = handle.output;\n",
       "\n",
       "    // limit handleAddOutput to display_data with EXEC_MIME_TYPE content only\n",
       "    if ((output.output_type != \"display_data\") || (!output.data.hasOwnProperty(EXEC_MIME_TYPE))) {\n",
       "      return\n",
       "    }\n",
       "\n",
       "    var toinsert = output_area.element.find(\".\" + CLASS_NAME.split(' ')[0]);\n",
       "\n",
       "    if (output.metadata[EXEC_MIME_TYPE][\"id\"] !== undefined) {\n",
       "      toinsert[toinsert.length - 1].firstChild.textContent = output.data[JS_MIME_TYPE];\n",
       "      // store reference to embed id on output_area\n",
       "      output_area._bokeh_element_id = output.metadata[EXEC_MIME_TYPE][\"id\"];\n",
       "    }\n",
       "    if (output.metadata[EXEC_MIME_TYPE][\"server_id\"] !== undefined) {\n",
       "      var bk_div = document.createElement(\"div\");\n",
       "      bk_div.innerHTML = output.data[HTML_MIME_TYPE];\n",
       "      var script_attrs = bk_div.children[0].attributes;\n",
       "      for (var i = 0; i < script_attrs.length; i++) {\n",
       "        toinsert[toinsert.length - 1].firstChild.setAttribute(script_attrs[i].name, script_attrs[i].value);\n",
       "        toinsert[toinsert.length - 1].firstChild.textContent = bk_div.children[0].textContent\n",
       "      }\n",
       "      // store reference to server id on output_area\n",
       "      output_area._bokeh_server_id = output.metadata[EXEC_MIME_TYPE][\"server_id\"];\n",
       "    }\n",
       "  }\n",
       "\n",
       "  function register_renderer(events, OutputArea) {\n",
       "\n",
       "    function append_mime(data, metadata, element) {\n",
       "      // create a DOM node to render to\n",
       "      var toinsert = this.create_output_subarea(\n",
       "        metadata,\n",
       "        CLASS_NAME,\n",
       "        EXEC_MIME_TYPE\n",
       "      );\n",
       "      this.keyboard_manager.register_events(toinsert);\n",
       "      // Render to node\n",
       "      var props = {data: data, metadata: metadata[EXEC_MIME_TYPE]};\n",
       "      render(props, toinsert[toinsert.length - 1]);\n",
       "      element.append(toinsert);\n",
       "      return toinsert\n",
       "    }\n",
       "\n",
       "    /* Handle when an output is cleared or removed */\n",
       "    events.on('clear_output.CodeCell', handleClearOutput);\n",
       "    events.on('delete.Cell', handleClearOutput);\n",
       "\n",
       "    /* Handle when a new output is added */\n",
       "    events.on('output_added.OutputArea', handleAddOutput);\n",
       "\n",
       "    /**\n",
       "     * Register the mime type and append_mime function with output_area\n",
       "     */\n",
       "    OutputArea.prototype.register_mime_type(EXEC_MIME_TYPE, append_mime, {\n",
       "      /* Is output safe? */\n",
       "      safe: true,\n",
       "      /* Index of renderer in `output_area.display_order` */\n",
       "      index: 0\n",
       "    });\n",
       "  }\n",
       "\n",
       "  // register the mime type if in Jupyter Notebook environment and previously unregistered\n",
       "  if (root.Jupyter !== undefined) {\n",
       "    var events = require('base/js/events');\n",
       "    var OutputArea = require('notebook/js/outputarea').OutputArea;\n",
       "\n",
       "    if (OutputArea.prototype.mime_types().indexOf(EXEC_MIME_TYPE) == -1) {\n",
       "      register_renderer(events, OutputArea);\n",
       "    }\n",
       "  }\n",
       "\n",
       "  \n",
       "  if (typeof (root._bokeh_timeout) === \"undefined\" || force === true) {\n",
       "    root._bokeh_timeout = Date.now() + 5000;\n",
       "    root._bokeh_failed_load = false;\n",
       "  }\n",
       "\n",
       "  var NB_LOAD_WARNING = {'data': {'text/html':\n",
       "     \"<div style='background-color: #fdd'>\\n\"+\n",
       "     \"<p>\\n\"+\n",
       "     \"BokehJS does not appear to have successfully loaded. If loading BokehJS from CDN, this \\n\"+\n",
       "     \"may be due to a slow or bad network connection. Possible fixes:\\n\"+\n",
       "     \"</p>\\n\"+\n",
       "     \"<ul>\\n\"+\n",
       "     \"<li>re-rerun `output_notebook()` to attempt to load from CDN again, or</li>\\n\"+\n",
       "     \"<li>use INLINE resources instead, as so:</li>\\n\"+\n",
       "     \"</ul>\\n\"+\n",
       "     \"<code>\\n\"+\n",
       "     \"from bokeh.resources import INLINE\\n\"+\n",
       "     \"output_notebook(resources=INLINE)\\n\"+\n",
       "     \"</code>\\n\"+\n",
       "     \"</div>\"}};\n",
       "\n",
       "  function display_loaded() {\n",
       "    var el = document.getElementById(\"1002\");\n",
       "    if (el != null) {\n",
       "      el.textContent = \"BokehJS is loading...\";\n",
       "    }\n",
       "    if (root.Bokeh !== undefined) {\n",
       "      if (el != null) {\n",
       "        el.textContent = \"BokehJS \" + root.Bokeh.version + \" successfully loaded.\";\n",
       "      }\n",
       "    } else if (Date.now() < root._bokeh_timeout) {\n",
       "      setTimeout(display_loaded, 100)\n",
       "    }\n",
       "  }\n",
       "\n",
       "\n",
       "  function run_callbacks() {\n",
       "    try {\n",
       "      root._bokeh_onload_callbacks.forEach(function(callback) {\n",
       "        if (callback != null)\n",
       "          callback();\n",
       "      });\n",
       "    } finally {\n",
       "      delete root._bokeh_onload_callbacks\n",
       "    }\n",
       "    console.debug(\"Bokeh: all callbacks have finished\");\n",
       "  }\n",
       "\n",
       "  function load_libs(css_urls, js_urls, callback) {\n",
       "    if (css_urls == null) css_urls = [];\n",
       "    if (js_urls == null) js_urls = [];\n",
       "\n",
       "    root._bokeh_onload_callbacks.push(callback);\n",
       "    if (root._bokeh_is_loading > 0) {\n",
       "      console.debug(\"Bokeh: BokehJS is being loaded, scheduling callback at\", now());\n",
       "      return null;\n",
       "    }\n",
       "    if (js_urls == null || js_urls.length === 0) {\n",
       "      run_callbacks();\n",
       "      return null;\n",
       "    }\n",
       "    console.debug(\"Bokeh: BokehJS not loaded, scheduling load and callback at\", now());\n",
       "    root._bokeh_is_loading = css_urls.length + js_urls.length;\n",
       "\n",
       "    function on_load() {\n",
       "      root._bokeh_is_loading--;\n",
       "      if (root._bokeh_is_loading === 0) {\n",
       "        console.debug(\"Bokeh: all BokehJS libraries/stylesheets loaded\");\n",
       "        run_callbacks()\n",
       "      }\n",
       "    }\n",
       "\n",
       "    function on_error() {\n",
       "      console.error(\"failed to load \" + url);\n",
       "    }\n",
       "\n",
       "    for (var i = 0; i < css_urls.length; i++) {\n",
       "      var url = css_urls[i];\n",
       "      const element = document.createElement(\"link\");\n",
       "      element.onload = on_load;\n",
       "      element.onerror = on_error;\n",
       "      element.rel = \"stylesheet\";\n",
       "      element.type = \"text/css\";\n",
       "      element.href = url;\n",
       "      console.debug(\"Bokeh: injecting link tag for BokehJS stylesheet: \", url);\n",
       "      document.body.appendChild(element);\n",
       "    }\n",
       "\n",
       "    const hashes = {\"https://cdn.bokeh.org/bokeh/release/bokeh-2.0.1.min.js\": \"JpP8FXbgAZLkfur7LiK3j9AGBhHNIvF742meBJrjO2ShJDhCG2I1uVvW+0DUtrmc\", \"https://cdn.bokeh.org/bokeh/release/bokeh-widgets-2.0.1.min.js\": \"xZlADit0Q04ISQEdKg2k3L4W9AwQBAuDs9nJL9fM/WwzL1tEU9VPNezOFX0nLEAz\", \"https://cdn.bokeh.org/bokeh/release/bokeh-tables-2.0.1.min.js\": \"4BuPRZkdMKSnj3zoxiNrQ86XgNw0rYmBOxe7nshquXwwcauupgBF2DHLVG1WuZlV\", \"https://cdn.bokeh.org/bokeh/release/bokeh-gl-2.0.1.min.js\": \"Dv1SQ87hmDqK6S5OhBf0bCuwAEvL5QYL0PuR/F1SPVhCS/r/abjkbpKDYL2zeM19\"};\n",
       "\n",
       "    for (var i = 0; i < js_urls.length; i++) {\n",
       "      var url = js_urls[i];\n",
       "      var element = document.createElement('script');\n",
       "      element.onload = on_load;\n",
       "      element.onerror = on_error;\n",
       "      element.async = false;\n",
       "      element.src = url;\n",
       "      if (url in hashes) {\n",
       "        element.crossOrigin = \"anonymous\";\n",
       "        element.integrity = \"sha384-\" + hashes[url];\n",
       "      }\n",
       "      console.debug(\"Bokeh: injecting script tag for BokehJS library: \", url);\n",
       "      document.head.appendChild(element);\n",
       "    }\n",
       "  };var element = document.getElementById(\"1002\");\n",
       "  if (element == null) {\n",
       "    console.error(\"Bokeh: ERROR: autoload.js configured with elementid '1002' but no matching script tag was found. \")\n",
       "    return false;\n",
       "  }\n",
       "\n",
       "  function inject_raw_css(css) {\n",
       "    const element = document.createElement(\"style\");\n",
       "    element.appendChild(document.createTextNode(css));\n",
       "    document.body.appendChild(element);\n",
       "  }\n",
       "\n",
       "  \n",
       "  var js_urls = [\"https://cdn.bokeh.org/bokeh/release/bokeh-2.0.1.min.js\", \"https://cdn.bokeh.org/bokeh/release/bokeh-widgets-2.0.1.min.js\", \"https://cdn.bokeh.org/bokeh/release/bokeh-tables-2.0.1.min.js\", \"https://cdn.bokeh.org/bokeh/release/bokeh-gl-2.0.1.min.js\"];\n",
       "  var css_urls = [];\n",
       "  \n",
       "\n",
       "  var inline_js = [\n",
       "    function(Bokeh) {\n",
       "      Bokeh.set_log_level(\"info\");\n",
       "    },\n",
       "    function(Bokeh) {\n",
       "    \n",
       "    \n",
       "    }\n",
       "  ];\n",
       "\n",
       "  function run_inline_js() {\n",
       "    \n",
       "    if (root.Bokeh !== undefined || force === true) {\n",
       "      \n",
       "    for (var i = 0; i < inline_js.length; i++) {\n",
       "      inline_js[i].call(root, root.Bokeh);\n",
       "    }\n",
       "    if (force === true) {\n",
       "        display_loaded();\n",
       "      }} else if (Date.now() < root._bokeh_timeout) {\n",
       "      setTimeout(run_inline_js, 100);\n",
       "    } else if (!root._bokeh_failed_load) {\n",
       "      console.log(\"Bokeh: BokehJS failed to load within specified timeout.\");\n",
       "      root._bokeh_failed_load = true;\n",
       "    } else if (force !== true) {\n",
       "      var cell = $(document.getElementById(\"1002\")).parents('.cell').data().cell;\n",
       "      cell.output_area.append_execute_result(NB_LOAD_WARNING)\n",
       "    }\n",
       "\n",
       "  }\n",
       "\n",
       "  if (root._bokeh_is_loading === 0) {\n",
       "    console.debug(\"Bokeh: BokehJS loaded, going straight to plotting\");\n",
       "    run_inline_js();\n",
       "  } else {\n",
       "    load_libs(css_urls, js_urls, function() {\n",
       "      console.debug(\"Bokeh: BokehJS plotting callback run at\", now());\n",
       "      run_inline_js();\n",
       "    });\n",
       "  }\n",
       "}(window));"
      ],
      "application/vnd.bokehjs_load.v0+json": "\n(function(root) {\n  function now() {\n    return new Date();\n  }\n\n  var force = true;\n\n  if (typeof root._bokeh_onload_callbacks === \"undefined\" || force === true) {\n    root._bokeh_onload_callbacks = [];\n    root._bokeh_is_loading = undefined;\n  }\n\n  \n\n  \n  if (typeof (root._bokeh_timeout) === \"undefined\" || force === true) {\n    root._bokeh_timeout = Date.now() + 5000;\n    root._bokeh_failed_load = false;\n  }\n\n  var NB_LOAD_WARNING = {'data': {'text/html':\n     \"<div style='background-color: #fdd'>\\n\"+\n     \"<p>\\n\"+\n     \"BokehJS does not appear to have successfully loaded. If loading BokehJS from CDN, this \\n\"+\n     \"may be due to a slow or bad network connection. Possible fixes:\\n\"+\n     \"</p>\\n\"+\n     \"<ul>\\n\"+\n     \"<li>re-rerun `output_notebook()` to attempt to load from CDN again, or</li>\\n\"+\n     \"<li>use INLINE resources instead, as so:</li>\\n\"+\n     \"</ul>\\n\"+\n     \"<code>\\n\"+\n     \"from bokeh.resources import INLINE\\n\"+\n     \"output_notebook(resources=INLINE)\\n\"+\n     \"</code>\\n\"+\n     \"</div>\"}};\n\n  function display_loaded() {\n    var el = document.getElementById(\"1002\");\n    if (el != null) {\n      el.textContent = \"BokehJS is loading...\";\n    }\n    if (root.Bokeh !== undefined) {\n      if (el != null) {\n        el.textContent = \"BokehJS \" + root.Bokeh.version + \" successfully loaded.\";\n      }\n    } else if (Date.now() < root._bokeh_timeout) {\n      setTimeout(display_loaded, 100)\n    }\n  }\n\n\n  function run_callbacks() {\n    try {\n      root._bokeh_onload_callbacks.forEach(function(callback) {\n        if (callback != null)\n          callback();\n      });\n    } finally {\n      delete root._bokeh_onload_callbacks\n    }\n    console.debug(\"Bokeh: all callbacks have finished\");\n  }\n\n  function load_libs(css_urls, js_urls, callback) {\n    if (css_urls == null) css_urls = [];\n    if (js_urls == null) js_urls = [];\n\n    root._bokeh_onload_callbacks.push(callback);\n    if (root._bokeh_is_loading > 0) {\n      console.debug(\"Bokeh: BokehJS is being loaded, scheduling callback at\", now());\n      return null;\n    }\n    if (js_urls == null || js_urls.length === 0) {\n      run_callbacks();\n      return null;\n    }\n    console.debug(\"Bokeh: BokehJS not loaded, scheduling load and callback at\", now());\n    root._bokeh_is_loading = css_urls.length + js_urls.length;\n\n    function on_load() {\n      root._bokeh_is_loading--;\n      if (root._bokeh_is_loading === 0) {\n        console.debug(\"Bokeh: all BokehJS libraries/stylesheets loaded\");\n        run_callbacks()\n      }\n    }\n\n    function on_error() {\n      console.error(\"failed to load \" + url);\n    }\n\n    for (var i = 0; i < css_urls.length; i++) {\n      var url = css_urls[i];\n      const element = document.createElement(\"link\");\n      element.onload = on_load;\n      element.onerror = on_error;\n      element.rel = \"stylesheet\";\n      element.type = \"text/css\";\n      element.href = url;\n      console.debug(\"Bokeh: injecting link tag for BokehJS stylesheet: \", url);\n      document.body.appendChild(element);\n    }\n\n    const hashes = {\"https://cdn.bokeh.org/bokeh/release/bokeh-2.0.1.min.js\": \"JpP8FXbgAZLkfur7LiK3j9AGBhHNIvF742meBJrjO2ShJDhCG2I1uVvW+0DUtrmc\", \"https://cdn.bokeh.org/bokeh/release/bokeh-widgets-2.0.1.min.js\": \"xZlADit0Q04ISQEdKg2k3L4W9AwQBAuDs9nJL9fM/WwzL1tEU9VPNezOFX0nLEAz\", \"https://cdn.bokeh.org/bokeh/release/bokeh-tables-2.0.1.min.js\": \"4BuPRZkdMKSnj3zoxiNrQ86XgNw0rYmBOxe7nshquXwwcauupgBF2DHLVG1WuZlV\", \"https://cdn.bokeh.org/bokeh/release/bokeh-gl-2.0.1.min.js\": \"Dv1SQ87hmDqK6S5OhBf0bCuwAEvL5QYL0PuR/F1SPVhCS/r/abjkbpKDYL2zeM19\"};\n\n    for (var i = 0; i < js_urls.length; i++) {\n      var url = js_urls[i];\n      var element = document.createElement('script');\n      element.onload = on_load;\n      element.onerror = on_error;\n      element.async = false;\n      element.src = url;\n      if (url in hashes) {\n        element.crossOrigin = \"anonymous\";\n        element.integrity = \"sha384-\" + hashes[url];\n      }\n      console.debug(\"Bokeh: injecting script tag for BokehJS library: \", url);\n      document.head.appendChild(element);\n    }\n  };var element = document.getElementById(\"1002\");\n  if (element == null) {\n    console.error(\"Bokeh: ERROR: autoload.js configured with elementid '1002' but no matching script tag was found. \")\n    return false;\n  }\n\n  function inject_raw_css(css) {\n    const element = document.createElement(\"style\");\n    element.appendChild(document.createTextNode(css));\n    document.body.appendChild(element);\n  }\n\n  \n  var js_urls = [\"https://cdn.bokeh.org/bokeh/release/bokeh-2.0.1.min.js\", \"https://cdn.bokeh.org/bokeh/release/bokeh-widgets-2.0.1.min.js\", \"https://cdn.bokeh.org/bokeh/release/bokeh-tables-2.0.1.min.js\", \"https://cdn.bokeh.org/bokeh/release/bokeh-gl-2.0.1.min.js\"];\n  var css_urls = [];\n  \n\n  var inline_js = [\n    function(Bokeh) {\n      Bokeh.set_log_level(\"info\");\n    },\n    function(Bokeh) {\n    \n    \n    }\n  ];\n\n  function run_inline_js() {\n    \n    if (root.Bokeh !== undefined || force === true) {\n      \n    for (var i = 0; i < inline_js.length; i++) {\n      inline_js[i].call(root, root.Bokeh);\n    }\n    if (force === true) {\n        display_loaded();\n      }} else if (Date.now() < root._bokeh_timeout) {\n      setTimeout(run_inline_js, 100);\n    } else if (!root._bokeh_failed_load) {\n      console.log(\"Bokeh: BokehJS failed to load within specified timeout.\");\n      root._bokeh_failed_load = true;\n    } else if (force !== true) {\n      var cell = $(document.getElementById(\"1002\")).parents('.cell').data().cell;\n      cell.output_area.append_execute_result(NB_LOAD_WARNING)\n    }\n\n  }\n\n  if (root._bokeh_is_loading === 0) {\n    console.debug(\"Bokeh: BokehJS loaded, going straight to plotting\");\n    run_inline_js();\n  } else {\n    load_libs(css_urls, js_urls, function() {\n      console.debug(\"Bokeh: BokehJS plotting callback run at\", now());\n      run_inline_js();\n    });\n  }\n}(window));"
     },
     "metadata": {},
     "output_type": "display_data"
    }
   ],
   "source": [
    "#  Load the \"autoreload\" extension so that code can change\n",
    "%load_ext autoreload\n",
    "%reload_ext autoreload\n",
    "from pathlib import Path\n",
    "\n",
    "#  always reload modules so that as you change code in src, it gets loaded\n",
    "%autoreload 2\n",
    "%matplotlib inline\n",
    "\n",
    "import sys\n",
    "sys.path.append('../')\n",
    "from src.imports import *\n",
    "from src.data.download_data import *\n",
    "from src.data.fire_data import *\n",
    "from src.data.read_data import *\n",
    "from src.gen_functions import *\n",
    "from src.features.build_features import *\n",
    "from src.visualization.visualize import *\n",
    "import seaborn as sns\n",
    "output_notebook()\n",
    "# set font size \n",
    "plt.rcParams.update({'font.size': 16})\n",
    "\n",
    "from datetime import timedelta\n",
    "from matplotlib.ticker import MaxNLocator"
   ]
  },
  {
   "cell_type": "code",
   "execution_count": 2,
   "metadata": {},
   "outputs": [],
   "source": [
    "# transition from acceptable to unhealthy for sensitive group and to unhealthy. \n",
    "transition_dict = { 'PM2.5': [0, 35.5, 55.4, 1e3],\n",
    "                  'PM10': [0, 155, 254, 1e3],\n",
    "                  'O3':[0, 70 , 85, 1e3],\n",
    "                  'SO2':[0, 75, 185, 1e3],\n",
    "                  'NO2': [0, 100, 360, 1e3],\n",
    "                  'CO': [0, 6.4, 12.5, 1e3]}\n",
    "\n",
    "gas_list = ['PM2.5', 'PM10', 'O3', 'CO', 'NO2', 'SO2']\n",
    "\n",
    "city_info = {'Country': 'Thailand',\n",
    " 'City': 'Chiang Mai',\n",
    " 'City (ASCII)': 'Chiang Mai',\n",
    " 'Region': 'Chiang Mai',\n",
    " 'Region (ASCII)': 'Chiang Mai',\n",
    " 'Population': '200952',\n",
    " 'Latitude': '18.7904',\n",
    " 'Longitude': '98.9847',\n",
    " 'Time Zone': 'Asia/Bangkok'}\n",
    "\n",
    "city_name = city_info['City'].lower().replace(' ', '_')\n",
    "\n",
    "x = merc_x(city_info['Longitude'])\n",
    "y = merc_y(city_info['Latitude'])"
   ]
  },
  {
   "cell_type": "code",
   "execution_count": 6,
   "metadata": {},
   "outputs": [],
   "source": [
    "b_folder='../data/pm25/'\n",
    "a4th_folder ='../data/air4thai_hourly/'\n",
    "cm_folder ='../data/cm_proc/'\n",
    "cdc_folder = '../data/cdc_data/'\n",
    "aqm_folder = '../data/aqm_hourly2/'\n",
    "model_folder = f'../models/{city_name}/'\n",
    "if not os.path.exists(model_folder):\n",
    "    os.mkdir(model_folder)"
   ]
  },
  {
   "cell_type": "code",
   "execution_count": 7,
   "metadata": {},
   "outputs": [
    {
     "name": "stdout",
     "output_type": "stream",
     "text": [
      "Index(['CO', 'O3', 'NO2', 'SO2', 'PM10', 'PM2.5'], dtype='object')\n",
      "(168169, 8)\n",
      "(165291, 13)\n"
     ]
    }
   ],
   "source": [
    "aqm1 = pd.read_csv(cm_folder + '35t.csv').set_index('datetime').dropna(how='all')\n",
    "aqm1.index = pd.to_datetime(aqm1.index)\n",
    "aqm2 = pd.read_csv(cm_folder + '36t.csv').set_index('datetime').dropna(how='all')\n",
    "aqm2.index = pd.to_datetime(aqm2.index)\n",
    "print(aqm2.columns)\n",
    "# keep only the data after the satallite data which is 200-11-11 13 am\n",
    "aqm2_01 = aqm2[aqm2.index>='2000-11-01 00:00:00'].copy()\n",
    "aqm2_01 = add_season(aqm2_01)\n",
    "print(aqm2_01.shape)\n",
    "\n",
    "# weather data \n",
    "filename = 'C:/Users/Benny/Documents/Fern/aqi_thailand2/data/weather_cities/Mueang_Chiang_Mai.csv'\n",
    "wea = pd.read_csv(filename)\n",
    "wea.drop(['Time','Dew Point(C)','Wind Gust(kmph)','Pressure(in)','Precip.(in)'], axis=1, inplace=True)\n",
    "wea['datetime'] = pd.to_datetime(wea['datetime'])\n",
    "# merge with weather \n",
    "\n",
    "aqm2_01 = aqm2_01.merge(wea, left_index=True, right_on ='datetime',how='inner').set_index('datetime')\n",
    "print(aqm2_01.shape)"
   ]
  },
  {
   "cell_type": "code",
   "execution_count": 9,
   "metadata": {},
   "outputs": [
    {
     "data": {
      "text/html": [
       "<div>\n",
       "<style scoped>\n",
       "    .dataframe tbody tr th:only-of-type {\n",
       "        vertical-align: middle;\n",
       "    }\n",
       "\n",
       "    .dataframe tbody tr th {\n",
       "        vertical-align: top;\n",
       "    }\n",
       "\n",
       "    .dataframe thead th {\n",
       "        text-align: right;\n",
       "    }\n",
       "</style>\n",
       "<table border=\"1\" class=\"dataframe\">\n",
       "  <thead>\n",
       "    <tr style=\"text-align: right;\">\n",
       "      <th></th>\n",
       "      <th>confidence</th>\n",
       "      <th>lat_km</th>\n",
       "      <th>long_km</th>\n",
       "      <th>distance</th>\n",
       "      <th>power</th>\n",
       "      <th>count</th>\n",
       "    </tr>\n",
       "    <tr>\n",
       "      <th>datetime</th>\n",
       "      <th></th>\n",
       "      <th></th>\n",
       "      <th></th>\n",
       "      <th></th>\n",
       "      <th></th>\n",
       "      <th></th>\n",
       "    </tr>\n",
       "  </thead>\n",
       "  <tbody>\n",
       "    <tr>\n",
       "      <th>2002-07-04 13:03:00</th>\n",
       "      <td>67</td>\n",
       "      <td>1612.0</td>\n",
       "      <td>11453.0</td>\n",
       "      <td>665.551109</td>\n",
       "      <td>120.96</td>\n",
       "      <td>1</td>\n",
       "    </tr>\n",
       "    <tr>\n",
       "      <th>2002-07-04 13:04:00</th>\n",
       "      <td>52</td>\n",
       "      <td>2246.0</td>\n",
       "      <td>11701.0</td>\n",
       "      <td>694.254989</td>\n",
       "      <td>20.52</td>\n",
       "      <td>1</td>\n",
       "    </tr>\n",
       "    <tr>\n",
       "      <th>2002-07-04 13:04:00</th>\n",
       "      <td>48</td>\n",
       "      <td>2304.0</td>\n",
       "      <td>11682.0</td>\n",
       "      <td>689.069015</td>\n",
       "      <td>13.50</td>\n",
       "      <td>1</td>\n",
       "    </tr>\n",
       "    <tr>\n",
       "      <th>2002-07-04 13:04:00</th>\n",
       "      <td>91</td>\n",
       "      <td>2305.0</td>\n",
       "      <td>11682.0</td>\n",
       "      <td>689.341767</td>\n",
       "      <td>132.30</td>\n",
       "      <td>1</td>\n",
       "    </tr>\n",
       "    <tr>\n",
       "      <th>2002-07-04 13:05:00</th>\n",
       "      <td>62</td>\n",
       "      <td>2428.0</td>\n",
       "      <td>11936.0</td>\n",
       "      <td>968.527252</td>\n",
       "      <td>10.45</td>\n",
       "      <td>1</td>\n",
       "    </tr>\n",
       "  </tbody>\n",
       "</table>\n",
       "</div>"
      ],
      "text/plain": [
       "                     confidence  lat_km  long_km    distance   power  count\n",
       "datetime                                                                   \n",
       "2002-07-04 13:03:00          67  1612.0  11453.0  665.551109  120.96      1\n",
       "2002-07-04 13:04:00          52  2246.0  11701.0  694.254989   20.52      1\n",
       "2002-07-04 13:04:00          48  2304.0  11682.0  689.069015   13.50      1\n",
       "2002-07-04 13:04:00          91  2305.0  11682.0  689.341767  132.30      1\n",
       "2002-07-04 13:05:00          62  2428.0  11936.0  968.527252   10.45      1"
      ]
     },
     "execution_count": 9,
     "metadata": {},
     "output_type": "execute_result"
    }
   ],
   "source": [
    "fire = pd.read_csv('C:/Users/Benny/Documents/Fern/aqi_thailand2/data/cm_proc/file_m_proc.csv')\n",
    "fire['datetime'] = pd.to_datetime(fire['datetime'])\n",
    "fire = fire.set_index('datetime')\n",
    "fire.head()"
   ]
  },
  {
   "cell_type": "markdown",
   "metadata": {},
   "source": [
    "# Feature Engineering Functions"
   ]
  },
  {
   "cell_type": "code",
   "execution_count": 10,
   "metadata": {
    "code_folding": [
     1,
     44
    ]
   },
   "outputs": [],
   "source": [
    "# function for feature eng fire\n",
    "def cal_power_damp(series: pd.core.series.Series, distance: pd.core.series.Series, surface='sphere'):\n",
    "    \"\"\" Calculate the damped power based on the distance series. \n",
    "\n",
    "    The damping factor maybe 1/distance or 1/distance**2.\n",
    "    Args: \n",
    "        series: series to recalculate\n",
    "        distance: distance array. Must have the same lenght as the series\n",
    "        surface(optional): either 'circle' or 'sphere'\n",
    "\n",
    "    Returns:\n",
    "        new_series\n",
    "\n",
    "    Examples:\n",
    "        cal_power_damp(fire['power'], fire['distance'],surface='sphere')\n",
    "\n",
    "    \"\"\"\n",
    "    if surface == 'sphere':\n",
    "        new_series = series/distance**2\n",
    "\n",
    "    elif surface == 'circle':\n",
    "        new_series = series/distance\n",
    "\n",
    "    return new_series\n",
    "\n",
    "\n",
    "def cal_arrival_time(detection_time: pd.core.series.Series, distance: pd.core.series.Series, wind_speed: (float, np.array) = 2):\n",
    "    \"\"\" Calculate the approximate time that the pollution arrived at the city using the wind speed and distance from the hotspot.\n",
    "\n",
    "    Round arrival time to hour \n",
    "\n",
    "    Args:\n",
    "        detection_time: datetime series\n",
    "        distance: distance series in km\n",
    "        wind_speed(optional): approximate wind speed, can be floar or array in km/hour\n",
    "\n",
    "    Returns: \n",
    "        arrival_time: datetime series of arrival time\n",
    "\n",
    "    \"\"\"\n",
    "    arrival_time = detection_time + pd.to_timedelta(distance/wind_speed, 'h')\n",
    "    return arrival_time.dt.round('H')\n",
    "\n",
    "\n",
    "def shift_fire(fire_df: pd.core.frame.DataFrame, fire_col: str = 'power', damp_surface: str = 'sphere', shift: int = 0, roll: int = 48, w_speed: (float, int) = 8):\n",
    "    \"\"\" Feature engineer fire data. Account of the distance from the source and time lag using wind speed.\n",
    "\n",
    "    Args:\n",
    "        fire_df:\n",
    "        fire_col\n",
    "        damp_surface\n",
    "        shift\n",
    "        roll\n",
    "\n",
    "    \"\"\"\n",
    "    require_cols = ['distance', fire_col]\n",
    "    if fire_df.columns.isin(require_cols).sum() > len(require_cols):\n",
    "        raise AssertionError(\n",
    "            'missing required columns for feature engineering fire data')\n",
    "\n",
    "    # calculate the damping factors\n",
    "    fire_df['damp_'+fire_col] = cal_power_damp(\n",
    "        fire_df[fire_col], fire_df['distance'], surface=damp_surface)\n",
    "    # calculate particle arrival time\n",
    "    fire_df['arrival_time'] = cal_arrival_time(\n",
    "        detection_time=fire_df.index, distance=fire_df['distance'], wind_speed=w_speed)\n",
    "    fire_df = fire_df.set_index('arrival_time')\n",
    "    fire_df = fire_df.resample('h').sum()['damp_'+fire_col]\n",
    "    fire_df = fire_df.rolling(roll).sum()\n",
    "    fire_df = fire_df.shift(shift)\n",
    "    fire_df.index.name = 'datetime'\n",
    "    return fire_df\n",
    "\n",
    "\n",
    "def get_fire_feature(fire, zone_list=[0, 100, 200, 400, 800, 1000], fire_col: str = 'power', damp_surface: str = 'sphere', shift: int = 0, roll: int = 48, w_speed: (float, int) = 8):\n",
    "    \"\"\" Separate fire from different distance\n",
    "\n",
    "    \"\"\"\n",
    "    fire_col_list = []\n",
    "    new_fire = pd.DataFrame()\n",
    "    for start, stop in zip(zone_list, zone_list[1:]):\n",
    "        col_name = f'fire_{start}_{stop}'\n",
    "\n",
    "        fire_col_list.append(col_name)\n",
    "        # select sub-data baseline the distance\n",
    "        fire_s = fire[(fire['distance'] < stop) & (fire['distance'] >= start)][[fire_col, 'distance']].copy()\n",
    "        fire_s = shift_fire(fire_s, fire_col=fire_col, damp_surface=damp_surface,\n",
    "                            shift=shift, roll=roll, w_speed=w_speed)\n",
    "        fire_s.name = col_name\n",
    "        new_fire = pd.concat([new_fire, fire_s], axis=1, ignore_index=False)\n",
    "\n",
    "    new_fire = new_fire.fillna(0)\n",
    "    return new_fire, fire_col_list\n",
    "\n",
    "def sep_fire_zone(fire, fire_col, zone_list=[0, 100, 200, 400, 800, 1000]):\n",
    "    \"\"\" Separate fire data into zone mark by a distance in the zone_list without perform feature enginering.\n",
    "    Use for data visualization\n",
    "    \n",
    "    Args: \n",
    "        fire: fire dataframe\n",
    "        fire_col: 'power' or 'count'\n",
    "        zone_list:\n",
    "        \n",
    "    Return: \n",
    "        new_fire: a dataframe with each column, a fire data in that zone\n",
    "        fire_col_list: a list of column name\n",
    "    \n",
    "    \"\"\"\n",
    "    fire_col_list = []\n",
    "    new_fire = pd.DataFrame()\n",
    "    for start, stop in zip(zone_list, zone_list[1:]):\n",
    "        col_name = f'fire_{start}_{stop}'\n",
    "        fire_col_list.append(col_name)\n",
    "        # select sub-data baseline the distance\n",
    "        fire_s = fire[(fire['distance'] < stop) & (fire['distance'] >= start)][[fire_col]].copy()\n",
    "        fire_s.columns = [col_name]\n",
    "        fire_s = fire_s.resample('h').sum()\n",
    "        new_fire = pd.concat([new_fire, fire_s], axis=1, ignore_index=False)\n",
    "\n",
    "    return new_fire, fire_col_list"
   ]
  },
  {
   "cell_type": "code",
   "execution_count": 65,
   "metadata": {},
   "outputs": [],
   "source": [
    "def split_data_index(data_index, shuffle=False,val_size=0.3, test_size=0.25):\n",
    "    trn, test = train_test_split(data_index, test_size=test_size, shuffle=False)\n",
    "    trn, val  = train_test_split(trn, test_size=val_size, shuffle=False)\n",
    "    print('train size', len(trn))\n",
    "    print('validation size',len(val))\n",
    "    print('test size',len(test))\n",
    "    return trn,  val, test\n",
    "\n",
    "def get_data_matrix(data, pollutant,use_index, x_cols=[]):\n",
    "    \"\"\"Extract data in data dataframe into x,y matricies using use_index.\n",
    "    \n",
    "    \"\"\"\n",
    "    temp = data.loc[use_index]\n",
    "    \n",
    "    y = temp[pollutant].values\n",
    "    \n",
    "    if len(x_cols)==0:\n",
    "        x = temp.drop(pollutant,axis=1)\n",
    "    else:\n",
    "        x = temp[x_cols]\n",
    "        \n",
    "    x_cols = x.columns\n",
    "    return x.values, y, x_cols\n",
    "    \n",
    "# get data \n",
    "def get_data(data, pollutant:str,x_cols=[], shuffle=False, val_size=0.3, test_size=0.25):\n",
    "    \"\"\"Obtain xtrn, ytrn, xval, yval, xtest, ytest\n",
    "    \n",
    "    Args:\n",
    "        data: data dataframe\n",
    "        pollutant: name of the pollutant ex. 'PM2.5'\n",
    "        x_cols(optional): a list of input columns\n",
    "        shuffle(optional): suffle split the data\n",
    "        val_size: size of validation split\n",
    "        test_size: size of test split \n",
    "    \n",
    "    \"\"\"\n",
    "    y = data[pollutant]\n",
    "    if len(x_cols)==0:\n",
    "        x = data.drop(pollutant,axis=1)\n",
    "    else:\n",
    "        x = data[x_cols]\n",
    "        \n",
    "    x_cols = x.columns\n",
    "    data_index = x.index\n",
    "\n",
    "    trn_idx, val_idx, test_idx = split_data_index(data_index,shuffle=shuffle, val_size=val_size, test_size=test_size)\n",
    "    ytrn = y.loc[trn_idx].values\n",
    "    xtrn = x.loc[trn_idx].values\n",
    "\n",
    "    yval = y.loc[val_idx].values\n",
    "    xval = x.loc[val_idx].values\n",
    "\n",
    "    ytest = y.loc[test_idx].values\n",
    "    xtest = x.loc[test_idx].values\n",
    "    \n",
    "    index_list = [trn_idx,val_idx,test_idx]\n",
    "    \n",
    "    return xtrn, ytrn, xval, yval, xtest, ytest, index_list, x_cols"
   ]
  },
  {
   "cell_type": "code",
   "execution_count": 12,
   "metadata": {},
   "outputs": [],
   "source": [
    "# Add AutoRegressive Feature\n",
    "\n",
    "# calculate number of lag \n",
    "def find_num_lag(poll_series, thres=0.5):\n",
    "    \"\"\" Calculate the numbers of partial autocorrelation lag to add as feature to a time series. \n",
    "    \n",
    "    \"\"\"\n",
    "\n",
    "    pac = pacf(poll_series)\n",
    "    # find the number of lag \n",
    "    idxs = np.where(pac >= 0.5)[0]\n",
    "    return idxs[1:]\n",
    "\n",
    "def add_lags(data, pollutant):\n",
    "    \"\"\"Add lags columns to x_data.\n",
    "\n",
    "    \"\"\"\n",
    "    # calculate num lags\n",
    "    num_lags = find_num_lag(data[pollutant])\n",
    "    for idx in num_lags:\n",
    "        lag_name = f'{pollutant}_lag_{idx}'\n",
    "        lag_series = data[pollutant].shift(idx) \n",
    "        lag_series.name = lag_name\n",
    "        # add to data \n",
    "        data = pd.concat([data, lag_series], axis=1) \n",
    "    data = data.dropna()\n",
    "    return data"
   ]
  },
  {
   "cell_type": "markdown",
   "metadata": {},
   "source": [
    "# Model PM2.5"
   ]
  },
  {
   "cell_type": "markdown",
   "metadata": {},
   "source": [
    "Workflow for full feature engineering\n",
    "1. Create fire features:\n",
    "    parameters: fire_col, damp_surface, shift, roll, wind_speed, zone_list \n",
    "2. One hot encode wind columns for major wind directions (CLAM, N, E, W, S)\n",
    "3. Add rain boolean column\n",
    "4. Add information related to calendar: holiday, weekend, time of day, day of week\n",
    "5. Calculate the number of lag and add lag columns \n",
    "\n",
    " \n",
    "\n",
    "\n"
   ]
  },
  {
   "cell_type": "code",
   "execution_count": 20,
   "metadata": {},
   "outputs": [
    {
     "name": "stdout",
     "output_type": "stream",
     "text": [
      "['fire_0_100', 'fire_100_200', 'fire_200_400', 'fire_400_800', 'fire_800_1000']\n"
     ]
    }
   ],
   "source": [
    "## Featuare Eng Fires\n",
    "\n",
    "# fire feature engineering parameters \n",
    "# fire column either 'power' or 'count'\n",
    "fire_col = 'power'\n",
    "# surface damping factor\n",
    "damp_surface = 'sphere'\n",
    "# shifting of the data\n",
    "shift = 0\n",
    "# rolling average parameter (in hour)\n",
    "roll = 48\n",
    "# effective wind speed (km/h)\n",
    "w_speed = 8\n",
    "\n",
    "fire_proc, fire_col_list = get_fire_feature(fire, zone_list=[0, 100, 200, 400, 800, 1000], \n",
    "                        fire_col=fire_col,damp_surface=damp_surface, \n",
    "                        shift=shift, roll=roll, w_speed=w_speed)\n",
    "print(fire_col_list)"
   ]
  },
  {
   "cell_type": "code",
   "execution_count": 21,
   "metadata": {},
   "outputs": [
    {
     "data": {
      "text/plain": [
       "(0, 12)"
      ]
     },
     "execution_count": 21,
     "metadata": {},
     "output_type": "execute_result"
    },
    {
     "data": {
      "image/png": "[encoded data removed]",
      "text/plain": [
       "<Figure size 720x432 with 1 Axes>"
      ]
     },
     "metadata": {
      "needs_background": "light"
     },
     "output_type": "display_data"
    }
   ],
   "source": [
    "fire_proc[fire_col_list].plot(figsize=(10,6))\n",
    "plt.xlim(['2018', '2019-06'])\n",
    "plt.ylim([0,12])"
   ]
  },
  {
   "cell_type": "code",
   "execution_count": 22,
   "metadata": {},
   "outputs": [
    {
     "name": "stdout",
     "output_type": "stream",
     "text": [
      "data before merge has shape (74600, 15)\n",
      "data after merge has shape (73941, 20)\n",
      "Index(['PM2.5', 'Temperature(C)', 'Humidity(%)', 'Wind Speed(kmph)',\n",
      "       'wind_CALM', 'wind_E', 'wind_N', 'wind_S', 'wind_W', 'is_rain',\n",
      "       'is_holiday', 'is_weekend', 'day_of_week', 'time_of_day', 'PM2.5_lag_1',\n",
      "       'fire_0_100', 'fire_100_200', 'fire_200_400', 'fire_400_800',\n",
      "       'fire_800_1000'],\n",
      "      dtype='object')\n",
      "number of columns 20\n"
     ]
    }
   ],
   "source": [
    "# load the data and keep only relavant data \n",
    "pollutant = 'PM2.5'\n",
    "cols = [pollutant, 'Temperature(C)', 'Humidity(%)', 'Wind', 'Wind Speed(kmph)', 'Condition']\n",
    "data = aqm2_01[cols].dropna()\n",
    "\n",
    "if pollutant == 'PM2.5':\n",
    "    data = data.loc['2010':]\n",
    "\n",
    "# add weather \n",
    "dummies = wind_to_dummies(data['Wind'])\n",
    "data.drop('Wind',axis=1, inplace=True)\n",
    "data = pd.concat([data, dummies], axis=1)\n",
    "data = add_is_rain(data)\n",
    "data = add_calendar_info(data)\n",
    "data = add_lags(data, pollutant)\n",
    "data_no_fire = data.astype(float)\n",
    "\n",
    "# inner joint fire with pm data\n",
    "print('data before merge has shape', data.shape)\n",
    "data = data_no_fire.merge(fire_proc, left_index=True, right_index=True, how='inner')\n",
    "data = data.dropna()\n",
    "print('data after merge has shape', data.shape)\n",
    "\n",
    "print(data.columns)\n",
    "print('number of columns', len(data.columns))"
   ]
  },
  {
   "cell_type": "markdown",
   "metadata": {},
   "source": [
    "# Hierarcal relationship among features and Highly Correlated Columns"
   ]
  },
  {
   "cell_type": "code",
   "execution_count": 462,
   "metadata": {},
   "outputs": [
    {
     "data": {
      "image/png": "[encoded data removed]",
      "text/plain": [
       "<Figure size 1152x720 with 1 Axes>"
      ]
     },
     "metadata": {
      "needs_background": "light"
     },
     "output_type": "display_data"
    }
   ],
   "source": [
    "ax = plot_dendogram(data,front_size=18)"
   ]
  },
  {
   "cell_type": "code",
   "execution_count": 93,
   "metadata": {},
   "outputs": [],
   "source": [
    "def find_high_corr_pair(data, x_cols, thres = 0.7):\n",
    "    \"\"\"Find highly correlated columns to later drop.\n",
    "    \n",
    "    Returns: 2D numpy array of two highly correlation columns and their correlation values. \n",
    "    \"\"\"\n",
    "\n",
    "    high_corr_list = []\n",
    "    corr_mat = data.corr('spearman').abs()\n",
    "    # find highly correlated pairs\n",
    "    for col1, col2 in combinations(x_cols, 2):\n",
    "        cor_value = corr_mat.loc[col1,col2]\n",
    "        if cor_value>= thres:\n",
    "            high_corr_list.append([col1, col2])\n",
    "            \n",
    "    return high_corr_list"
   ]
  },
  {
   "cell_type": "code",
   "execution_count": 470,
   "metadata": {},
   "outputs": [
    {
     "data": {
      "text/plain": [
       "[['Wind Speed(kmph)', 'wind_CALM', 0.7440470814020276],\n",
       " ['fire_0_100', 'fire_100_200', 0.7170139723912583],\n",
       " ['fire_0_100', 'fire_200_400', 0.747887827673642],\n",
       " ['fire_0_100', 'fire_400_800', 0.7079757850575487],\n",
       " ['fire_0_100', 'fire_800_1000', 0.7027736819822249],\n",
       " ['fire_100_200', 'fire_200_400', 0.8728102331380816],\n",
       " ['fire_100_200', 'fire_400_800', 0.8112715087144022],\n",
       " ['fire_100_200', 'fire_800_1000', 0.7668008645985953],\n",
       " ['fire_200_400', 'fire_400_800', 0.8923703103774102],\n",
       " ['fire_200_400', 'fire_800_1000', 0.8241493942797838],\n",
       " ['fire_400_800', 'fire_800_1000', 0.8806203704993413],\n",
       " ['is_weekend', 'day_of_week', 0.790412635036172]]"
      ]
     },
     "execution_count": 470,
     "metadata": {},
     "output_type": "execute_result"
    }
   ],
   "source": [
    "x_cols = data.drop(pollutant, axis=1).columns\n",
    "high_corr_list = find_high_corr_pair(data, x_cols, thres = 0.7)\n",
    "high_corr_list"
   ]
  },
  {
   "cell_type": "markdown",
   "metadata": {},
   "source": [
    "# Split the data"
   ]
  },
  {
   "cell_type": "code",
   "execution_count": 420,
   "metadata": {},
   "outputs": [
    {
     "data": {
      "image/png": "[encoded data removed]",
      "text/plain": [
       "<Figure size 648x180 with 1 Axes>"
      ]
     },
     "metadata": {
      "needs_background": "light"
     },
     "output_type": "display_data"
    }
   ],
   "source": [
    "display_time_split(trn_idx, val_idx, test_idx)"
   ]
  },
  {
   "cell_type": "code",
   "execution_count": 23,
   "metadata": {},
   "outputs": [
    {
     "name": "stdout",
     "output_type": "stream",
     "text": [
      "train size 31054\n",
      "validation size 20704\n",
      "test size 22183\n",
      "internal split for rf & fire feature 20185 10869\n"
     ]
    }
   ],
   "source": [
    "# split data index \n",
    "# because will be building new feature later in the pipeline, therefore only need index here.\n",
    "trn_idx, val_idx, test_idx = split_data_index(data.index,shuffle=False, val_size=0.4, test_size=0.3)\n",
    "# split furture for rf \n",
    "trn_rf_idx, val_rf_idx = train_test_split(trn_idx,test_size=0.35)\n",
    "\n",
    "print('internal split for rf & fire feature', len(trn_rf_idx), len(val_rf_idx))\n",
    "\n",
    "# obtain xtrn_rf and xval_rf\n",
    "xtrn_rf, ytrn_rf, x_cols = get_data_matrix(data, pollutant,trn_rf_idx)\n",
    "xval_rf, yval_rf, _ = get_data_matrix(data, pollutant,val_rf_idx)"
   ]
  },
  {
   "cell_type": "markdown",
   "metadata": {},
   "source": [
    "# RF Feature of Important Search"
   ]
  },
  {
   "cell_type": "code",
   "execution_count": 28,
   "metadata": {},
   "outputs": [],
   "source": [
    "def do_rf_search(x_trn,y_trn, cv_split='time', n_splits=5):\n",
    "    ''' Randomize search for randomforest regressor\n",
    "    return the best estimator \n",
    "    \n",
    "    '''\n",
    "    # rf \n",
    "    m = RandomForestRegressor(n_jobs=-1, random_state=42)\n",
    "    \n",
    "    param_dist = {'n_estimators':range(20,200,20),\n",
    "              'max_depth': [3, None],\n",
    "              'min_samples_split' : [2, 5, 10, 20], \n",
    "              'max_features' : range(2,x_trn.shape[1]),\n",
    "               'bootstrap' : [True, False],\n",
    "              'min_samples_leaf': range(1, 8)}\n",
    "    \n",
    "    if cv_split =='time':\n",
    "        cv = TimeSeriesSplit(n_splits=n_splits)\n",
    "        \n",
    "    else:\n",
    "        cv = n_splits\n",
    "    #hyper parameter tuning\n",
    "    search = RandomizedSearchCV(m, param_distributions=param_dist,\n",
    "                            n_iter=100,n_jobs=-1, cv=cv, random_state=40)\n",
    "    \n",
    "    search.fit(x_trn,y_trn)\n",
    "    print(search.best_params_, search.best_score_)\n",
    "    \n",
    "    return search.best_estimator_"
   ]
  },
  {
   "cell_type": "code",
   "execution_count": 508,
   "metadata": {},
   "outputs": [
    {
     "name": "stdout",
     "output_type": "stream",
     "text": [
      "{'n_estimators': 160, 'min_samples_split': 10, 'min_samples_leaf': 6, 'max_features': 7, 'max_depth': None, 'bootstrap': True} 0.8374674704519762\n"
     ]
    },
    {
     "ename": "ValueError",
     "evalue": "Number of features of the model must match the input. Model n_features is 14 and input n_features is 19 ",
     "output_type": "error",
     "traceback": [
      "\u001b[1;31m---------------------------------------------------------------------------\u001b[0m",
      "\u001b[1;31mValueError\u001b[0m                                Traceback (most recent call last)",
      "\u001b[1;32m<timed exec>\u001b[0m in \u001b[0;36m<module>\u001b[1;34m\u001b[0m\n",
      "\u001b[1;32mc:\\users\\benny\\pyenv\\geo\\lib\\site-packages\\sklearn\\ensemble\\_forest.py\u001b[0m in \u001b[0;36mpredict\u001b[1;34m(self, X)\u001b[0m\n\u001b[0;32m    764\u001b[0m         \u001b[0mcheck_is_fitted\u001b[0m\u001b[1;33m(\u001b[0m\u001b[0mself\u001b[0m\u001b[1;33m)\u001b[0m\u001b[1;33m\u001b[0m\u001b[1;33m\u001b[0m\u001b[0m\n\u001b[0;32m    765\u001b[0m         \u001b[1;31m# Check data\u001b[0m\u001b[1;33m\u001b[0m\u001b[1;33m\u001b[0m\u001b[1;33m\u001b[0m\u001b[0m\n\u001b[1;32m--> 766\u001b[1;33m         \u001b[0mX\u001b[0m \u001b[1;33m=\u001b[0m \u001b[0mself\u001b[0m\u001b[1;33m.\u001b[0m\u001b[0m_validate_X_predict\u001b[0m\u001b[1;33m(\u001b[0m\u001b[0mX\u001b[0m\u001b[1;33m)\u001b[0m\u001b[1;33m\u001b[0m\u001b[1;33m\u001b[0m\u001b[0m\n\u001b[0m\u001b[0;32m    767\u001b[0m \u001b[1;33m\u001b[0m\u001b[0m\n\u001b[0;32m    768\u001b[0m         \u001b[1;31m# Assign chunk of trees to jobs\u001b[0m\u001b[1;33m\u001b[0m\u001b[1;33m\u001b[0m\u001b[1;33m\u001b[0m\u001b[0m\n",
      "\u001b[1;32mc:\\users\\benny\\pyenv\\geo\\lib\\site-packages\\sklearn\\ensemble\\_forest.py\u001b[0m in \u001b[0;36m_validate_X_predict\u001b[1;34m(self, X)\u001b[0m\n\u001b[0;32m    410\u001b[0m         \u001b[0mcheck_is_fitted\u001b[0m\u001b[1;33m(\u001b[0m\u001b[0mself\u001b[0m\u001b[1;33m)\u001b[0m\u001b[1;33m\u001b[0m\u001b[1;33m\u001b[0m\u001b[0m\n\u001b[0;32m    411\u001b[0m \u001b[1;33m\u001b[0m\u001b[0m\n\u001b[1;32m--> 412\u001b[1;33m         \u001b[1;32mreturn\u001b[0m \u001b[0mself\u001b[0m\u001b[1;33m.\u001b[0m\u001b[0mestimators_\u001b[0m\u001b[1;33m[\u001b[0m\u001b[1;36m0\u001b[0m\u001b[1;33m]\u001b[0m\u001b[1;33m.\u001b[0m\u001b[0m_validate_X_predict\u001b[0m\u001b[1;33m(\u001b[0m\u001b[0mX\u001b[0m\u001b[1;33m,\u001b[0m \u001b[0mcheck_input\u001b[0m\u001b[1;33m=\u001b[0m\u001b[1;32mTrue\u001b[0m\u001b[1;33m)\u001b[0m\u001b[1;33m\u001b[0m\u001b[1;33m\u001b[0m\u001b[0m\n\u001b[0m\u001b[0;32m    413\u001b[0m \u001b[1;33m\u001b[0m\u001b[0m\n\u001b[0;32m    414\u001b[0m     \u001b[1;33m@\u001b[0m\u001b[0mproperty\u001b[0m\u001b[1;33m\u001b[0m\u001b[1;33m\u001b[0m\u001b[0m\n",
      "\u001b[1;32mc:\\users\\benny\\pyenv\\geo\\lib\\site-packages\\sklearn\\tree\\_classes.py\u001b[0m in \u001b[0;36m_validate_X_predict\u001b[1;34m(self, X, check_input)\u001b[0m\n\u001b[0;32m    389\u001b[0m                              \u001b[1;34m\"match the input. Model n_features is %s and \"\u001b[0m\u001b[1;33m\u001b[0m\u001b[1;33m\u001b[0m\u001b[0m\n\u001b[0;32m    390\u001b[0m                              \u001b[1;34m\"input n_features is %s \"\u001b[0m\u001b[1;33m\u001b[0m\u001b[1;33m\u001b[0m\u001b[0m\n\u001b[1;32m--> 391\u001b[1;33m                              % (self.n_features_, n_features))\n\u001b[0m\u001b[0;32m    392\u001b[0m \u001b[1;33m\u001b[0m\u001b[0m\n\u001b[0;32m    393\u001b[0m         \u001b[1;32mreturn\u001b[0m \u001b[0mX\u001b[0m\u001b[1;33m\u001b[0m\u001b[1;33m\u001b[0m\u001b[0m\n",
      "\u001b[1;31mValueError\u001b[0m: Number of features of the model must match the input. Model n_features is 14 and input n_features is 19 "
     ]
    }
   ],
   "source": [
    "%%time\n",
    "# search using normal split \n",
    "best_rf_shuffle = do_rf_search(xtrn_rf, ytrn_rf,cv_split=None, n_splits=5)\n",
    "print(cal_scores(ytrn_rf, best_rf_shuffle.predict(xtrn_rf), header_str ='trn_'))\n",
    "val_score_shuffle = cal_scores(yval_rf, best_rf_shuffle.predict(xval_rf), header_str ='val_')\n",
    "print(val_score_shuffle)\n",
    "val_score_shuffle = val_score_shuffle['val_mean_squared_error']\n",
    "\n",
    "# search using time split \n",
    "best_rf_time  = do_rf_search(xtrn_rf, ytrn_rf,cv_split='time', n_splits=5)\n",
    "print(cal_scores(ytrn_rf, best_rf_time.predict(xtrn_rf), header_str ='trn_'))\n",
    "val_score_time = cal_scores(yval_rf, best_rf_time.predict(xval_rf), header_str ='val_')\n",
    "print(val_score_time)\n",
    "val_score_time = val_score_time['val_mean_squared_error']\n",
    "\n",
    "if val_score_shuffle < val_score_time:\n",
    "    print('shuffle is better')\n",
    "    best_rf = best_rf_shuffle\n",
    "else:\n",
    "    print('time split is better')\n",
    "    best_rf = best_rf_time\n",
    "\n",
    "print(best_rf.get_params())"
   ]
  },
  {
   "cell_type": "markdown",
   "metadata": {},
   "source": [
    "# Hunt for the best fire features\n",
    "\n",
    "For each fire zone. It need proper surface damping factor, timelag, shift and rolling sum, and windspeed. To do that, split the training data further and"
   ]
  },
  {
   "cell_type": "code",
   "execution_count": 518,
   "metadata": {},
   "outputs": [],
   "source": [
    "from itertools import product"
   ]
  },
  {
   "cell_type": "code",
   "execution_count": 214,
   "metadata": {},
   "outputs": [],
   "source": [
    "def get_fire_hyperparams():\n",
    "    #fire_col = ['power','count']\n",
    "    fire_col = ['power']\n",
    "    #surface_list = ['sphere','circle']\n",
    "    surface_list  = ['sphere']\n",
    "    w_speed_list = np.arange(4, 12, 2)\n",
    "\n",
    "    shift_list = np.arange(-48, 24+12, 12)\n",
    "    roll_list = np.arange(36, 120, 12)\n",
    "\n",
    "    params_list = [*product(fire_col, surface_list, w_speed_list, shift_list, roll_list)]\n",
    "\n",
    "    cols =['fire_col','surface','w_speed','shift', 'roll']\n",
    "    params_df = pd.DataFrame(params_list,columns=cols)\n",
    "    return params_df"
   ]
  },
  {
   "cell_type": "code",
   "execution_count": 212,
   "metadata": {},
   "outputs": [],
   "source": [
    "def search_fire_hyper(model, data_no_fire,fire, pollutant, params_df,trn_index,val_index,model_folder, filename='search_fire.csv'):\n",
    "    \"\"\" Search for the best fire feature engineering parameters. \n",
    "    \n",
    "    Args:\n",
    "        model:\n",
    "        data_no_fire\n",
    "        fire:\n",
    "        pollutant:\n",
    "        params_df:\n",
    "        trn_index:\n",
    "        val_index:\n",
    "    \n",
    "    \"\"\"\n",
    "    temp_data = data_no_fire.loc[trn_index.append(val_index)]\n",
    "    search_fire = pd.DataFrame()\n",
    "    \n",
    "    for i, params in tqdm(params_df.iterrows()): \n",
    "        result_dict = params.to_dict()\n",
    "        fire_col = result_dict['fire_col']\n",
    "        w_speed = result_dict['w_speed']\n",
    "        damp_surface = result_dict['surface']\n",
    "        shift = result_dict['shift']\n",
    "        roll = result_dict['roll']\n",
    "        # obtain fire data \n",
    "        fire_proc, fire_col_list = get_fire_feature(fire, zone_list=[0, 100, 200, 400, 800, 1000], \n",
    "                        fire_col=fire_col,damp_surface=damp_surface, \n",
    "                        shift=shift, roll=roll, w_speed=w_speed)\n",
    "         \n",
    "        # merge fire data \n",
    "        data = temp_data.merge(fire_proc, left_index=True, right_index=True, how='inner')\n",
    "        data = data.dropna()\n",
    "         \n",
    "    \n",
    "        xtrn_temp, ytrn_temp, _ = get_data_matrix(data, pollutant,trn_index)\n",
    "        xval_temp, yval_temp, _ = get_data_matrix(data, pollutant,val_index)\n",
    "    \n",
    "        model.fit(xtrn_temp, ytrn_temp)\n",
    "        score = cal_scores(ytrn_temp, rf.predict(xtrn_temp), header_str ='trn_')\n",
    "        result_dict.update(score)\n",
    "        score = cal_scores(yval_temp, rf.predict(xval_temp), header_str ='val_')\n",
    "        result_dict.update(score)\n",
    "    \n",
    "        search_fire = pd.concat([search_fire, pd.DataFrame(result_dict, index=[i] )])\n",
    "        \n",
    "        if i%10==1:\n",
    "            search_fire.to_csv(model_folder+filename,index=False)\n",
    "            \n",
    "    search_fire.to_csv(model_folder+filename,index=False)\n",
    "    search_fire = search_fire.sort_values('val_mean_squared_error')\n",
    "    \n",
    "    return search_fire\n",
    "    "
   ]
  },
  {
   "cell_type": "code",
   "execution_count": null,
   "metadata": {
    "scrolled": true
   },
   "outputs": [
    {
     "name": "stderr",
     "output_type": "stream",
     "text": [
      "\r",
      "0it [00:00, ?it/s]"
     ]
    },
    {
     "name": "stdout",
     "output_type": "stream",
     "text": [
      "(196, 5)\n"
     ]
    },
    {
     "name": "stderr",
     "output_type": "stream",
     "text": [
      "72it [22:24, 18.68s/it]"
     ]
    }
   ],
   "source": [
    "rf = RandomForestRegressor(n_estimators=160, min_samples_split=10, min_samples_leaf=6, \n",
    "                           max_features=7, max_depth=None, bootstrap=True)\n",
    "\n",
    "params_df = get_fire_hyperparams()\n",
    "print(params_df.shape)\n",
    "cols = ['Wind Speed(kmph)', 'Temperature(C)', 'Humidity(%)', 'time_of_day', 'PM2.5_lag_1'] + [pollutant]\n",
    "search_fire_df = search_fire_hyper(rf, data_no_fire[cols], fire, pollutant, params_df, trn_rf_idx, val_rf_idx,model_folder, filename='search_fire2.csv')\n",
    "search_fire_df.head()"
   ]
  },
  {
   "cell_type": "code",
   "execution_count": 18,
   "metadata": {},
   "outputs": [
    {
     "data": {
      "text/plain": [
       "{'fire_col': 'power',\n",
       " 'surface': 'sphere',\n",
       " 'w_speed': 4,\n",
       " 'shift': -24,\n",
       " 'roll': 108,\n",
       " 'trn_r2_score': 0.9065393722740052,\n",
       " 'trn_mean_squared_error': 65.39628296541208,\n",
       " 'val_r2_score': 0.8323982247649917,\n",
       " 'val_mean_squared_error': 114.21994900552471}"
      ]
     },
     "execution_count": 18,
     "metadata": {},
     "output_type": "execute_result"
    }
   ],
   "source": [
    "search_fire1 = pd.read_csv(model_folder+'search_fire.csv')\n",
    "search_fire2 = pd.read_csv(model_folder+'search_fire_v1.csv')\n",
    "\n",
    "search_fire = pd.concat([search_fire1, search_fire2], ignore_index=True)\n",
    "fire_dict = search_fire.sort_values('val_mean_squared_error').iloc[0].to_dict()\n",
    "fire_dict"
   ]
  },
  {
   "cell_type": "code",
   "execution_count": 25,
   "metadata": {},
   "outputs": [],
   "source": [
    "# implement the best parameters \n",
    "fire_col = fire_dict['fire_col']\n",
    "w_speed = fire_dict['w_speed']\n",
    "damp_surface = fire_dict['surface']\n",
    "shift = fire_dict['shift']\n",
    "roll = fire_dict['roll']\n",
    "# obtain fire data \n",
    "fire_proc, fire_col_list = get_fire_feature(fire, zone_list=[0, 100, 200, 400, 800, 1000], \n",
    "fire_col=fire_col,damp_surface=damp_surface, \n",
    "shift=shift, roll=roll, w_speed=w_speed)\n",
    " \n",
    "# merge fire data \n",
    "data = data_no_fire.merge(fire_proc, left_index=True, right_index=True, how='inner')\n",
    "data = data.dropna()\n",
    " \n",
    "    \n",
    "xtrn, ytrn, x_cols = get_data_matrix(data, pollutant,trn_idx)\n",
    "xval, yval, _ = get_data_matrix(data, pollutant,val_idx)"
   ]
  },
  {
   "cell_type": "markdown",
   "metadata": {},
   "source": [
    "# Feature of Importance"
   ]
  },
  {
   "cell_type": "code",
   "execution_count": 30,
   "metadata": {},
   "outputs": [
    {
     "name": "stdout",
     "output_type": "stream",
     "text": [
      "{'n_estimators': 100, 'min_samples_split': 20, 'min_samples_leaf': 6, 'max_features': 14, 'max_depth': None, 'bootstrap': True} 0.7046253552619095\n",
      "{'trn_r2_score': 0.8983493329609866, 'trn_mean_squared_error': 71.21894620347157}\n",
      "{'val_r2_score': 0.9245408610524823, 'val_mean_squared_error': 79.4499124184908}\n",
      "{'n_estimators': 180, 'min_samples_split': 2, 'min_samples_leaf': 1, 'max_features': 15, 'max_depth': None, 'bootstrap': True} 0.6775658795334815\n"
     ]
    },
    {
     "ename": "NameError",
     "evalue": "name 'best' is not defined",
     "output_type": "error",
     "traceback": [
      "\u001b[1;31m---------------------------------------------------------------------------\u001b[0m",
      "\u001b[1;31mNameError\u001b[0m                                 Traceback (most recent call last)",
      "\u001b[1;32m<timed exec>\u001b[0m in \u001b[0;36m<module>\u001b[1;34m\u001b[0m\n",
      "\u001b[1;31mNameError\u001b[0m: name 'best' is not defined"
     ]
    }
   ],
   "source": [
    "%%time\n",
    "# search using normal split \n",
    "best_rf_shuffle = do_rf_search(xtrn, ytrn,cv_split=None, n_splits=5)\n",
    "print(cal_scores(ytrn, best_rf_shuffle.predict(xtrn), header_str ='trn_'))\n",
    "val_score_shuffle = cal_scores(yval, best_rf_shuffle.predict(xval), header_str ='val_')\n",
    "print(val_score_shuffle)\n",
    "val_score_shuffle = val_score_shuffle['val_mean_squared_error']\n",
    "\n",
    "# search using time split \n",
    "best_rf_time  = do_rf_search(xtrn, ytrn,cv_split='time', n_splits=5)\n",
    "print(cal_scores(ytrn, best_rf_time.predict(xtrn), header_str ='trn_'))\n",
    "val_score_time = cal_scores(yval, best_rf_time.predict(xval), header_str ='val_')\n",
    "print(val_score_time)\n",
    "val_score_time = val_score_time['val_mean_squared_error']\n",
    "\n",
    "if val_score_shuffle < val_score_time:\n",
    "    print('shuffle is better')\n",
    "    best = best_rf_shuffle\n",
    "else:\n",
    "    print('time split is better')\n",
    "    best = best_rf_time\n",
    "\n",
    "print(best.get_params())"
   ]
  },
  {
   "cell_type": "code",
   "execution_count": 32,
   "metadata": {},
   "outputs": [
    {
     "name": "stdout",
     "output_type": "stream",
     "text": [
      "{'trn_r2_score': 0.9762446056995663, 'trn_mean_squared_error': 16.643610888215072}\n",
      "{'val_r2_score': 0.9177438308587034, 'val_mean_squared_error': 86.60641408460656}\n",
      "shuffle is better\n",
      "best estimator {'bootstrap': True, 'ccp_alpha': 0.0, 'criterion': 'mse', 'max_depth': None, 'max_features': 14, 'max_leaf_nodes': None, 'max_samples': None, 'min_impurity_decrease': 0.0, 'min_impurity_split': None, 'min_samples_leaf': 6, 'min_samples_split': 20, 'min_weight_fraction_leaf': 0.0, 'n_estimators': 100, 'n_jobs': -1, 'oob_score': False, 'random_state': 42, 'verbose': 0, 'warm_start': False}\n"
     ]
    }
   ],
   "source": [
    "print(cal_scores(ytrn, best_rf_time.predict(xtrn), header_str ='trn_'))\n",
    "val_score_time = cal_scores(yval, best_rf_time.predict(xval), header_str ='val_')\n",
    "print(val_score_time)\n",
    "val_score_time = val_score_time['val_mean_squared_error']\n",
    "\n",
    "if val_score_shuffle < val_score_time:\n",
    "    print('shuffle is better')\n",
    "    best = best_rf_shuffle\n",
    "else:\n",
    "    print('time split is better')\n",
    "    best = best_rf_time\n",
    "\n",
    "print('best estimator', best.get_params())"
   ]
  },
  {
   "cell_type": "code",
   "execution_count": 33,
   "metadata": {},
   "outputs": [],
   "source": [
    "rf_parma_dict = {'bootstrap': True, 'ccp_alpha': 0.0, 'criterion': 'mse', 'max_depth': None, 'max_features': 14, 'max_leaf_nodes': None, 'max_samples': None, 'min_impurity_decrease': 0.0, 'min_impurity_split': None, 'min_samples_leaf': 6, 'min_samples_split': 20, 'min_weight_fraction_leaf': 0.0, 'n_estimators': 100, 'n_jobs': -1, 'oob_score': False, 'random_state': 42, 'verbose': 0, 'warm_start': False}\n",
    "\n",
    "rf = RandomForestRegressor(**rf_parma_dict)"
   ]
  },
  {
   "cell_type": "code",
   "execution_count": 34,
   "metadata": {},
   "outputs": [
    {
     "data": {
      "text/plain": [
       "RandomForestRegressor(bootstrap=True, ccp_alpha=0.0, criterion='mse',\n",
       "                      max_depth=None, max_features=14, max_leaf_nodes=None,\n",
       "                      max_samples=None, min_impurity_decrease=0.0,\n",
       "                      min_impurity_split=None, min_samples_leaf=6,\n",
       "                      min_samples_split=20, min_weight_fraction_leaf=0.0,\n",
       "                      n_estimators=100, n_jobs=-1, oob_score=False,\n",
       "                      random_state=42, verbose=0, warm_start=False)"
      ]
     },
     "execution_count": 34,
     "metadata": {},
     "output_type": "execute_result"
    }
   ],
   "source": [
    "rf.fit(xtrn,ytrn)"
   ]
  },
  {
   "cell_type": "code",
   "execution_count": 36,
   "metadata": {},
   "outputs": [
    {
     "data": {
      "text/html": [
       "<div>\n",
       "<style scoped>\n",
       "    .dataframe tbody tr th:only-of-type {\n",
       "        vertical-align: middle;\n",
       "    }\n",
       "\n",
       "    .dataframe tbody tr th {\n",
       "        vertical-align: top;\n",
       "    }\n",
       "\n",
       "    .dataframe thead th {\n",
       "        text-align: right;\n",
       "    }\n",
       "</style>\n",
       "<table border=\"1\" class=\"dataframe\">\n",
       "  <thead>\n",
       "    <tr style=\"text-align: right;\">\n",
       "      <th></th>\n",
       "      <th>index</th>\n",
       "      <th>importance</th>\n",
       "    </tr>\n",
       "  </thead>\n",
       "  <tbody>\n",
       "    <tr>\n",
       "      <th>0</th>\n",
       "      <td>is_rain</td>\n",
       "      <td>0.000078</td>\n",
       "    </tr>\n",
       "    <tr>\n",
       "      <th>1</th>\n",
       "      <td>is_holiday</td>\n",
       "      <td>0.000198</td>\n",
       "    </tr>\n",
       "    <tr>\n",
       "      <th>2</th>\n",
       "      <td>wind_CALM</td>\n",
       "      <td>0.000270</td>\n",
       "    </tr>\n",
       "    <tr>\n",
       "      <th>3</th>\n",
       "      <td>is_weekend</td>\n",
       "      <td>0.000383</td>\n",
       "    </tr>\n",
       "    <tr>\n",
       "      <th>4</th>\n",
       "      <td>wind_E</td>\n",
       "      <td>0.000744</td>\n",
       "    </tr>\n",
       "    <tr>\n",
       "      <th>5</th>\n",
       "      <td>wind_N</td>\n",
       "      <td>0.000749</td>\n",
       "    </tr>\n",
       "    <tr>\n",
       "      <th>6</th>\n",
       "      <td>wind_S</td>\n",
       "      <td>0.000828</td>\n",
       "    </tr>\n",
       "    <tr>\n",
       "      <th>7</th>\n",
       "      <td>wind_W</td>\n",
       "      <td>0.000944</td>\n",
       "    </tr>\n",
       "    <tr>\n",
       "      <th>8</th>\n",
       "      <td>day_of_week</td>\n",
       "      <td>0.003029</td>\n",
       "    </tr>\n",
       "    <tr>\n",
       "      <th>9</th>\n",
       "      <td>Wind Speed(kmph)</td>\n",
       "      <td>0.004493</td>\n",
       "    </tr>\n",
       "    <tr>\n",
       "      <th>10</th>\n",
       "      <td>Temperature(C)</td>\n",
       "      <td>0.006299</td>\n",
       "    </tr>\n",
       "    <tr>\n",
       "      <th>11</th>\n",
       "      <td>Humidity(%)</td>\n",
       "      <td>0.006658</td>\n",
       "    </tr>\n",
       "    <tr>\n",
       "      <th>12</th>\n",
       "      <td>time_of_day</td>\n",
       "      <td>0.008220</td>\n",
       "    </tr>\n",
       "    <tr>\n",
       "      <th>13</th>\n",
       "      <td>fire_400_800</td>\n",
       "      <td>0.010093</td>\n",
       "    </tr>\n",
       "    <tr>\n",
       "      <th>14</th>\n",
       "      <td>fire_800_1000</td>\n",
       "      <td>0.011393</td>\n",
       "    </tr>\n",
       "    <tr>\n",
       "      <th>15</th>\n",
       "      <td>fire_200_400</td>\n",
       "      <td>0.025814</td>\n",
       "    </tr>\n",
       "    <tr>\n",
       "      <th>16</th>\n",
       "      <td>fire_0_100</td>\n",
       "      <td>0.056418</td>\n",
       "    </tr>\n",
       "    <tr>\n",
       "      <th>17</th>\n",
       "      <td>fire_100_200</td>\n",
       "      <td>0.096886</td>\n",
       "    </tr>\n",
       "    <tr>\n",
       "      <th>18</th>\n",
       "      <td>PM2.5_lag_1</td>\n",
       "      <td>0.766502</td>\n",
       "    </tr>\n",
       "  </tbody>\n",
       "</table>\n",
       "</div>"
      ],
      "text/plain": [
       "               index  importance\n",
       "0            is_rain    0.000078\n",
       "1         is_holiday    0.000198\n",
       "2          wind_CALM    0.000270\n",
       "3         is_weekend    0.000383\n",
       "4             wind_E    0.000744\n",
       "5             wind_N    0.000749\n",
       "6             wind_S    0.000828\n",
       "7             wind_W    0.000944\n",
       "8        day_of_week    0.003029\n",
       "9   Wind Speed(kmph)    0.004493\n",
       "10    Temperature(C)    0.006299\n",
       "11       Humidity(%)    0.006658\n",
       "12       time_of_day    0.008220\n",
       "13      fire_400_800    0.010093\n",
       "14     fire_800_1000    0.011393\n",
       "15      fire_200_400    0.025814\n",
       "16        fire_0_100    0.056418\n",
       "17      fire_100_200    0.096886\n",
       "18       PM2.5_lag_1    0.766502"
      ]
     },
     "execution_count": 36,
     "metadata": {},
     "output_type": "execute_result"
    }
   ],
   "source": [
    "importances = rf.feature_importances_\n",
    "feat_imp = pd.DataFrame(importances, index=x_cols, columns=[\n",
    "                        'importance']) \n",
    "feat_imp = feat_imp.sort_values('importance').reset_index()\n",
    "feat_imp"
   ]
  },
  {
   "cell_type": "code",
   "execution_count": 37,
   "metadata": {},
   "outputs": [
    {
     "data": {
      "text/plain": [
       "<matplotlib.axes._subplots.AxesSubplot at 0x21f65863348>"
      ]
     },
     "execution_count": 37,
     "metadata": {},
     "output_type": "execute_result"
    },
    {
     "data": {
      "image/png": "[encoded data removed]",
      "text/plain": [
       "<Figure size 360x576 with 1 Axes>"
      ]
     },
     "metadata": {
      "needs_background": "light"
     },
     "output_type": "display_data"
    }
   ],
   "source": [
    "feat_imp.plot('index','importance',kind='barh',figsize=(5,8))"
   ]
  },
  {
   "cell_type": "code",
   "execution_count": 127,
   "metadata": {},
   "outputs": [
    {
     "data": {
      "text/plain": [
       "['day_of_week',\n",
       " 'Wind Speed(kmph)',\n",
       " 'Temperature(C)',\n",
       " 'Humidity(%)',\n",
       " 'time_of_day',\n",
       " 'fire_400_800',\n",
       " 'fire_800_1000',\n",
       " 'fire_200_400',\n",
       " 'fire_0_100',\n",
       " 'fire_100_200',\n",
       " 'PM2.5_lag_1']"
      ]
     },
     "execution_count": 127,
     "metadata": {},
     "output_type": "execute_result"
    }
   ],
   "source": [
    "thres= 0.001\n",
    "new_cols = feat_imp[feat_imp['importance'] > thres]['index'].to_list()\n",
    "new_cols"
   ]
  },
  {
   "cell_type": "code",
   "execution_count": 128,
   "metadata": {},
   "outputs": [],
   "source": [
    "# merge fire data \n",
    "data = data_no_fire.merge(fire_proc, left_index=True, right_index=True, how='inner')\n",
    "data = data.dropna()\n",
    "data = data[new_cols+[pollutant] ]\n",
    "    \n",
    "xtrn, ytrn, x_cols = get_data_matrix(data, pollutant,trn_idx)\n",
    "xval, yval, _ = get_data_matrix(data, pollutant,val_idx)"
   ]
  },
  {
   "cell_type": "code",
   "execution_count": 50,
   "metadata": {},
   "outputs": [
    {
     "name": "stdout",
     "output_type": "stream",
     "text": [
      "{'n_estimators': 80, 'min_samples_split': 20, 'min_samples_leaf': 7, 'max_features': 6, 'max_depth': None, 'bootstrap': True} 0.702701934682415\n",
      "{'trn_r2_score': 0.8931373688859174, 'trn_mean_squared_error': 74.87057584732149}\n",
      "{'val_r2_score': 0.9126178264658423, 'val_mean_squared_error': 92.00351516142729}\n"
     ]
    }
   ],
   "source": [
    "best_rf_shuffle = do_rf_search(xtrn, ytrn,cv_split=None, n_splits=5)\n",
    "print(cal_scores(ytrn, best_rf_shuffle.predict(xtrn), header_str ='trn_'))\n",
    "val_score_shuffle = cal_scores(yval, best_rf_shuffle.predict(xval), header_str ='val_')\n",
    "print(val_score_shuffle)"
   ]
  },
  {
   "cell_type": "markdown",
   "metadata": {},
   "source": [
    "## Reduce reduntant pair"
   ]
  },
  {
   "cell_type": "code",
   "execution_count": 51,
   "metadata": {},
   "outputs": [],
   "source": [
    "rf_parma_dict = best_rf_shuffle.get_params()\n",
    "\n",
    "rf = RandomForestRegressor(**rf_parma_dict)"
   ]
  },
  {
   "cell_type": "code",
   "execution_count": 94,
   "metadata": {},
   "outputs": [
    {
     "data": {
      "text/plain": [
       "[['fire_400_800', 'fire_800_1000'],\n",
       " ['fire_400_800', 'fire_200_400'],\n",
       " ['fire_400_800', 'fire_0_100'],\n",
       " ['fire_400_800', 'fire_100_200'],\n",
       " ['fire_800_1000', 'fire_200_400'],\n",
       " ['fire_800_1000', 'fire_0_100'],\n",
       " ['fire_800_1000', 'fire_100_200'],\n",
       " ['fire_200_400', 'fire_0_100'],\n",
       " ['fire_200_400', 'fire_100_200'],\n",
       " ['fire_0_100', 'fire_100_200']]"
      ]
     },
     "execution_count": 94,
     "metadata": {},
     "output_type": "execute_result"
    }
   ],
   "source": [
    "high_corr_list = find_high_corr_pair(data, x_cols, thres = 0.7)\n",
    "high_corr_list"
   ]
  },
  {
   "cell_type": "code",
   "execution_count": 161,
   "metadata": {},
   "outputs": [
    {
     "data": {
      "text/plain": [
       "['fire_800_1000', 'fire_400_800', 'fire_200_400', 'fire_100_200', 'fire_0_100']"
      ]
     },
     "execution_count": 161,
     "metadata": {},
     "output_type": "execute_result"
    }
   ],
   "source": [
    "col_to_try = np.unique(np.array(high_corr_list).flatten()).tolist()  \n",
    "col_to_try.reverse()\n",
    "col_to_try"
   ]
  },
  {
   "cell_type": "code",
   "execution_count": 144,
   "metadata": {},
   "outputs": [],
   "source": [
    "def remove_high_corr_pair(data, x_cols, trn_idx, val_idx, high_corr_pair:list, model):\n",
    "    \"\"\"Improve the model by trying to drop one of the pair of data or both.\n",
    "\n",
    "    See the model rmse value on the validation set\n",
    "    Args:\n",
    "        data:\n",
    "        x_cols:\n",
    "        trn_idx:\n",
    "        val_idx:\n",
    "        high_corr_list:\n",
    "    \n",
    "    Returns: best columns choice \n",
    "        best_cols\n",
    "        \n",
    "    \"\"\"\n",
    "    print('compare ', high_corr_pair)\n",
    "    cols = np.array(high_corr_pair)\n",
    "    # establish a baseline\n",
    "    \n",
    "    best_cols = x_cols\n",
    "    best_rmse = np.inf\n",
    "    best_drop = None\n",
    "\n",
    "\n",
    "    for i, choice in enumerate(product([False, True], [False, True])):\n",
    "        drop_col = cols[list(choice)]\n",
    "        if np.sum(choice)> 0:\n",
    "            try:\n",
    "                new_cols = x_cols.drop(drop_col).copy()\n",
    "            except:\n",
    "                new_cols = x_cols      \n",
    "        else:\n",
    "            new_cols = x_cols\n",
    "    \n",
    "        xtrn, ytrn, new_x_cols = get_data_matrix(data, pollutant,trn_idx, x_cols=new_cols)\n",
    "        xval, yval, _ = get_data_matrix(data, pollutant,val_idx, x_cols=new_cols)\n",
    "        model.fit(xtrn, ytrn)\n",
    "        rmse = cal_scores(yval, model.predict(xval), header_str ='')['mean_squared_error']\n",
    "        if i ==0:\n",
    "            print('rmse before dropping', rmse)\n",
    "        if rmse< best_rmse:\n",
    "            best_cols = new_x_cols\n",
    "            best_rmse = rmse\n",
    "            best_drop = drop_col\n",
    "    \n",
    "    print('dropping', best_drop, ' rmse is', best_rmse)\n",
    "    return drop_col.tolist()"
   ]
  },
  {
   "cell_type": "code",
   "execution_count": 206,
   "metadata": {
    "scrolled": false
   },
   "outputs": [
    {
     "name": "stdout",
     "output_type": "stream",
     "text": [
      "['day_of_week', 'Wind Speed(kmph)', 'Temperature(C)', 'Humidity(%)', 'time_of_day', 'fire_400_800', 'fire_800_1000', 'fire_200_400', 'fire_0_100', 'fire_100_200', 'PM2.5_lag_1']\n",
      "new r2 0.5224275375236151\n",
      "drop day_of_week\n"
     ]
    }
   ],
   "source": [
    "to_drop = ['day_of_week',\n",
    " 'Wind Speed(kmph)',\n",
    " 'Temperature(C)',\n",
    " 'Humidity(%)',\n",
    " 'time_of_day',\n",
    " 'fire_400_800',\n",
    " 'fire_800_1000',\n",
    " 'fire_200_400',\n",
    " 'fire_0_100',\n",
    " 'fire_100_200',\n",
    " 'PM2.5_lag_1']\n",
    "\n",
    "x_cols = to_drop\n",
    "to_drop = [a for a in to_drop if 'fire' not in a]\n",
    "print(x_cols)\n",
    " \n",
    "for col in to_drop:\n",
    "    xtrn, ytrn, x_cols = get_data_matrix(data, pollutant,trn_idx, x_cols=x_cols)\n",
    "    xval, yval, _ = get_data_matrix(data, pollutant,val_idx, x_cols=x_cols) \n",
    "    \n",
    "    rf.fit(xtrn, ytrn)\n",
    "    base_score = cal_scores(yval, rf.predict(xval), header_str ='')['r2_score']\n",
    "     \n",
    "    new_cols = x_cols.drop(col).copy()\n",
    "    xtrn, ytrn, new_x_cols = get_data_matrix(data, pollutant,trn_idx, x_cols=new_cols)\n",
    "    xval, yval, _ = get_data_matrix(data, pollutant,val_idx, x_cols=new_cols)\n",
    "\n",
    "    if rf.get_params()['max_features'] > xtrn.shape[1]:\n",
    "        rf.set_params(**{'max_features':xtrn.shape[1]})\n",
    "    rf.fit(xtrn, ytrn)\n",
    "    score = cal_scores(yval, rf.predict(xval), header_str ='')['r2_score']\n",
    "    if score> base_score:\n",
    "        x_cols = x_cols.drop(col)\n",
    "        print('new r2', rmse)\n",
    "        print('drop', col)\n",
    "\n",
    "xtrn, ytrn, x_cols = get_data_matrix(data, pollutant,trn_idx, x_cols=x_cols)\n",
    "xval, yval, _ = get_data_matrix(data, pollutant,val_idx, x_cols=x_cols) \n",
    "    \n",
    "rf.fit(xtrn, ytrn)\n",
    "best_score = cal_scores(yval, rf.predict(xval), header_str ='')['r2_score']"
   ]
  },
  {
   "cell_type": "code",
   "execution_count": 207,
   "metadata": {},
   "outputs": [],
   "source": [
    "xtrn, ytrn, x_cols = get_data_matrix(data, pollutant,trn_idx, x_cols=x_cols)\n",
    "xval, yval, _ = get_data_matrix(data, pollutant,val_idx, x_cols=x_cols) \n",
    "    \n",
    "rf.fit(xtrn, ytrn)\n",
    "best_score = cal_scores(yval, rf.predict(xval), header_str ='')['r2_score']"
   ]
  },
  {
   "cell_type": "code",
   "execution_count": 208,
   "metadata": {},
   "outputs": [
    {
     "data": {
      "text/plain": [
       "0.7948857610337917"
      ]
     },
     "execution_count": 208,
     "metadata": {},
     "output_type": "execute_result"
    }
   ],
   "source": [
    "xtest, ytest, _ = get_data_matrix(data, pollutant, test_idx, x_cols=x_cols) \n",
    "\n",
    "cal_scores(ytest, rf.predict(xtest), header_str ='')['r2_score']"
   ]
  },
  {
   "cell_type": "code",
   "execution_count": 210,
   "metadata": {},
   "outputs": [
    {
     "data": {
      "text/plain": [
       "Index(['Wind Speed(kmph)', 'Temperature(C)', 'Humidity(%)', 'time_of_day',\n",
       "       'fire_400_800', 'fire_800_1000', 'fire_200_400', 'fire_0_100',\n",
       "       'fire_100_200', 'PM2.5_lag_1'],\n",
       "      dtype='object')"
      ]
     },
     "execution_count": 210,
     "metadata": {},
     "output_type": "execute_result"
    }
   ],
   "source": [
    "x_cols"
   ]
  },
  {
   "cell_type": "code",
   "execution_count": 209,
   "metadata": {},
   "outputs": [
    {
     "data": {
      "text/plain": [
       "<matplotlib.axes._subplots.AxesSubplot at 0x21f1fa87488>"
      ]
     },
     "execution_count": 209,
     "metadata": {},
     "output_type": "execute_result"
    },
    {
     "data": {
      "image/png": "[encoded data removed]",
      "text/plain": [
       "<Figure size 360x576 with 1 Axes>"
      ]
     },
     "metadata": {
      "needs_background": "light"
     },
     "output_type": "display_data"
    }
   ],
   "source": [
    "importances = rf.feature_importances_\n",
    "feat_imp = pd.DataFrame(importances, index=x_cols, columns=['importance']) \n",
    "feat_imp = feat_imp.sort_values('importance').reset_index()\n",
    "feat_imp.plot('index','importance',kind='barh',figsize=(5,8))"
   ]
  },
  {
   "cell_type": "code",
   "execution_count": 185,
   "metadata": {},
   "outputs": [
    {
     "data": {
      "text/plain": [
       "{'r2_score': 0.7527794170223607, 'mean_squared_error': 260.29522652362317}"
      ]
     },
     "execution_count": 185,
     "metadata": {},
     "output_type": "execute_result"
    }
   ],
   "source": [
    "cal_scores(yval, rf.predict(xval), header_str ='')"
   ]
  },
  {
   "cell_type": "code",
   "execution_count": 182,
   "metadata": {},
   "outputs": [],
   "source": [
    "if rf.get_params()['max_features'] > xtrn.shape[1]:\n",
    "        rf.set_params(**{'max_features':xtrn.shape[1]})"
   ]
  },
  {
   "cell_type": "code",
   "execution_count": 170,
   "metadata": {},
   "outputs": [
    {
     "data": {
      "text/plain": [
       "['PM2.5_lag_1',\n",
       " 'fire_100_200',\n",
       " 'fire_0_100',\n",
       " 'fire_200_400',\n",
       " 'fire_800_1000',\n",
       " 'fire_400_800',\n",
       " 'time_of_day',\n",
       " 'Humidity(%)',\n",
       " 'Temperature(C)',\n",
       " 'Wind Speed(kmph)',\n",
       " 'day_of_week']"
      ]
     },
     "execution_count": 170,
     "metadata": {},
     "output_type": "execute_result"
    }
   ],
   "source": [
    "x_cols = ['day_of_week',\n",
    " 'Wind Speed(kmph)',\n",
    " 'Temperature(C)',\n",
    " 'Humidity(%)',\n",
    " 'time_of_day',\n",
    " 'fire_400_800',\n",
    " 'fire_800_1000',\n",
    " 'fire_200_400',\n",
    " 'fire_0_100',\n",
    " 'fire_100_200',\n",
    " 'PM2.5_lag_1']\n",
    "\n",
    "x_cols.reverse()\n",
    "x_cols"
   ]
  },
  {
   "cell_type": "code",
   "execution_count": null,
   "metadata": {},
   "outputs": [],
   "source": []
  }
 ],
 "metadata": {
  "kernelspec": {
   "display_name": "Python 3",
   "language": "python",
   "name": "python3"
  },
  "language_info": {
   "codemirror_mode": {
    "name": "ipython",
    "version": 3
   },
   "file_extension": ".py",
   "mimetype": "text/x-python",
   "name": "python",
   "nbconvert_exporter": "python",
   "pygments_lexer": "ipython3",
   "version": "3.7.5"
  },
  "toc": {
   "base_numbering": 1,
   "nav_menu": {},
   "number_sections": true,
   "sideBar": true,
   "skip_h1_title": false,
   "title_cell": "Table of Contents",
   "title_sidebar": "Contents",
   "toc_cell": false,
   "toc_position": {
    "height": "calc(100% - 180px)",
    "left": "10px",
    "top": "150px",
    "width": "372.364px"
   },
   "toc_section_display": true,
   "toc_window_display": true
  }
 },
 "nbformat": 4,
 "nbformat_minor": 4
}
