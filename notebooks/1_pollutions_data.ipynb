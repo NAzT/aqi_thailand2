{
 "cells": [
  {
   "cell_type": "markdown",
   "metadata": {
    "toc": true
   },
   "source": [
    "<h1>Table of Contents<span class=\"tocSkip\"></span></h1>\n",
    "<div class=\"toc\"><ul class=\"toc-item\"><li><span><a href=\"#Data-Source\" data-toc-modified-id=\"Data-Source-1\"><span class=\"toc-item-num\">1&nbsp;&nbsp;</span>Data Source</a></span></li><li><span><a href=\"#Imports-and-Update-The-Latest-Data\" data-toc-modified-id=\"Imports-and-Update-The-Latest-Data-2\"><span class=\"toc-item-num\">2&nbsp;&nbsp;</span>Imports and Update The Latest Data</a></span></li><li><span><a href=\"#Load-data-from-Berkeley-Earth-Projects:\" data-toc-modified-id=\"Load-data-from-Berkeley-Earth-Projects:-3\"><span class=\"toc-item-num\">3&nbsp;&nbsp;</span>Load data from Berkeley Earth Projects:</a></span></li><li><span><a href=\"#Combine-Air-4-Thai-data\" data-toc-modified-id=\"Combine-Air-4-Thai-data-4\"><span class=\"toc-item-num\">4&nbsp;&nbsp;</span>Combine Air 4 Thai data</a></span></li></ul></div>"
   ]
  },
  {
   "cell_type": "markdown",
   "metadata": {},
   "source": [
    "# Data Source \n",
    "1. Berekely Earth 'http://berkeleyearth.lbl.gov/air-quality/maps/cities/Thailand/'\n",
    "2. Screaped Air4Thai Data 'http://air4thai.pcd.go.th/webV2/history/'\n",
    "3. CDC Data 'https://www.cmuccdc.org/download_json/'\n",
    "4. Old Air4Thai data from Thailand EPA"
   ]
  },
  {
   "cell_type": "markdown",
   "metadata": {},
   "source": [
    "# Imports and Update The Latest Data"
   ]
  },
  {
   "cell_type": "code",
   "execution_count": 81,
   "metadata": {},
   "outputs": [
    {
     "name": "stdout",
     "output_type": "stream",
     "text": [
      "The autoreload extension is already loaded. To reload it, use:\n",
      "  %reload_ext autoreload\n"
     ]
    }
   ],
   "source": [
    "#  Load the \"autoreload\" extension so that code can change\n",
    "%load_ext autoreload\n",
    "%reload_ext autoreload\n",
    "from pathlib import Path\n",
    "\n",
    "#  always reload modules so that as you change code in src, it gets loaded\n",
    "%autoreload 2\n",
    "%matplotlib inline\n",
    "\n",
    "import sys\n",
    "sys.path.append('../')\n",
    "from src.imports import *\n",
    "from src.data.download_data import *\n",
    "from src.data.read_data import *"
   ]
  },
  {
   "cell_type": "code",
   "execution_count": 64,
   "metadata": {},
   "outputs": [],
   "source": [
    "b_folder='../data/pm25/'\n",
    "a4th_folder='../data/air4thai_hourly/'\n",
    "cdc_folder = '../data/cdc_data/'\n",
    "aqm_folder = '../data/aqm_hourly2/'"
   ]
  },
  {
   "cell_type": "code",
   "execution_count": 3,
   "metadata": {},
   "outputs": [
    {
     "name": "stdout",
     "output_type": "stream",
     "text": [
      "100% [............................................................................] 793700 / 793700"
     ]
    }
   ],
   "source": [
    "# Data from Berkeley Earth Projects: \n",
    "download_b_data(data_folder='../data/pm25/', url='http://berkeleyearth.lbl.gov/air-quality/maps/cities/Thailand/')\n",
    "get_city_info(data_folder='../data/pm25/')"
   ]
  },
  {
   "cell_type": "code",
   "execution_count": 85,
   "metadata": {
    "scrolled": true
   },
   "outputs": [
    {
     "name": "stdout",
     "output_type": "stream",
     "text": [
      "5246\n",
      "5275\n",
      "4036\n",
      "6014\n",
      "5208\n",
      "4048\n",
      "6015\n",
      "4067\n",
      "122\n",
      "5373\n",
      "5374\n",
      "4033\n",
      "6013\n",
      "4062\n",
      "123\n",
      "5093\n",
      "4035\n",
      "4038\n",
      "121\n",
      "5071\n",
      "5262\n",
      "5268\n",
      "5029\n",
      "5266\n",
      "4044\n",
      "5378\n",
      "116\n",
      "6006\n",
      "5151\n",
      "5379\n",
      "6008\n",
      "5278\n",
      "5066\n",
      "5277\n",
      "5167\n",
      "5161\n",
      "5193\n",
      "75\n",
      "5206\n",
      "5285\n",
      "5194\n",
      "5283\n",
      "5284\n",
      "6011\n",
      "5269\n",
      "6005\n",
      "6004\n",
      "6009\n",
      "6010\n",
      "6007\n",
      "5286\n",
      "5195\n",
      "5300\n",
      "5221\n",
      "20\n",
      "6002\n",
      "5211\n",
      "5276\n",
      "5227\n",
      "5181\n",
      "5200\n",
      "47\n",
      "5013\n",
      "5008\n",
      "5018\n",
      "5281\n",
      "5287\n",
      "5012\n",
      "5015\n",
      "5036\n",
      "5273\n",
      "5022\n",
      "4018\n",
      "4013\n",
      "4014\n",
      "5264\n",
      "4019\n",
      "5072\n",
      "5070\n",
      "4022\n",
      "5073\n",
      "22\n",
      "5083\n",
      "5074\n",
      "4020\n",
      "5084\n",
      "5085\n",
      "80\n",
      "4021\n",
      "4002\n",
      "64\n",
      "74\n",
      "4023\n",
      "9\n",
      "5096\n",
      "5154\n",
      "5279\n",
      "4047\n",
      "5020\n",
      "5069\n",
      "5035\n",
      "5061\n",
      "6016\n",
      "6017\n",
      "6018\n",
      "5041\n",
      "6003\n",
      "5086\n",
      "119\n",
      "5315\n",
      "79\n",
      "6000\n",
      "5341\n",
      "5339\n",
      "5321\n",
      "95\n",
      "5328\n",
      "5333\n",
      "117\n",
      "5330\n",
      "5331\n",
      "45\n",
      "89\n",
      "43\n",
      "72\n",
      "78\n",
      "81\n",
      "5270\n",
      "5004\n",
      "44\n",
      "5002\n",
      "94\n",
      "100\n",
      "5336\n",
      "71\n",
      "93\n",
      "5267\n",
      "4026\n",
      "69\n",
      "5263\n",
      "5265\n",
      "36\n",
      "104\n",
      "5377\n",
      "6020\n",
      "6019\n",
      "6022\n",
      "4027\n",
      "4031\n",
      "4049\n",
      "6021\n",
      "4037\n",
      "6012\n",
      "5272\n",
      "5274\n",
      "5376\n"
     ]
    }
   ],
   "source": [
    "download_cdc_data(station_url='https://www.cmuccdc.org/api/ccdc/stations', \n",
    "                  dl_url= 'https://www.cmuccdc.org/download_json/', \n",
    "                  data_folder='../data/cdc_data/')"
   ]
  },
  {
   "cell_type": "code",
   "execution_count": 72,
   "metadata": {},
   "outputs": [
    {
     "name": "stderr",
     "output_type": "stream",
     "text": [
      "\n",
      "\n",
      "0it [00:00, ?it/s]\u001b[A\u001b[A"
     ]
    },
    {
     "name": "stdout",
     "output_type": "stream",
     "text": [
      "['02t', '03t', '05t', '08t', '10t', '11t', '12t', '13t', '14t', '16t', '17t', '18t', '19t', '20t', '21t', '22t', '24t', '25t', '26t', '27t', '28t', '29t', '30t', '31t', '32t', '33t', '34t', '35t', '36t', '37t', '38t', '39t', '40t', '41t', '42t', '43t', '44t', '46t', '47t', '50t', '52t', '53t', '54t', '57t', '58t', '59t', '60t', '61t', '62t', '63t', '67t', '68t', '69t', '70t', '71t', '72t', '73t', '74t', '75t', '76t', '77t', '79t', '80t', '81t', '82t', '83t', '84t', 'm1', 'm4', 'm8', 'm9', 'o10', 'o20', 'o22', 'o23', 'o24', 'o25', 'o26', 'o27', 'o28', 'o29']\n"
     ]
    },
    {
     "name": "stderr",
     "output_type": "stream",
     "text": [
      "\n",
      "\n",
      "1it [00:18, 18.75s/it]\u001b[A\u001b[A\n",
      "\n",
      "2it [00:37, 18.76s/it]\u001b[A\u001b[A\n",
      "\n",
      "3it [00:56, 18.77s/it]\u001b[A\u001b[A\n",
      "\n",
      "4it [01:15, 18.80s/it]\u001b[A\u001b[A\n",
      "\n",
      "5it [01:33, 18.78s/it]\u001b[A\u001b[A\n",
      "\n",
      "6it [01:52, 18.81s/it]\u001b[A\u001b[A\n",
      "\n",
      "7it [02:11, 18.82s/it]\u001b[A\u001b[A\n",
      "\n",
      "8it [02:30, 18.80s/it]\u001b[A\u001b[A\n",
      "\n",
      "9it [02:49, 18.85s/it]\u001b[A\u001b[A\n",
      "\n",
      "10it [03:08, 18.90s/it]\u001b[A\u001b[A\n",
      "\n",
      "11it [03:27, 18.89s/it]\u001b[A\u001b[A\n",
      "\n",
      "12it [03:45, 18.84s/it]\u001b[A\u001b[A\n",
      "\n",
      "13it [04:04, 18.77s/it]\u001b[A\u001b[A\n",
      "\n",
      "14it [04:23, 18.76s/it]\u001b[A\u001b[A\n",
      "\n",
      "15it [04:42, 18.80s/it]\u001b[A\u001b[A\n",
      "\n",
      "16it [05:01, 18.81s/it]\u001b[A\u001b[A\n",
      "\n",
      "17it [05:20, 18.87s/it]\u001b[A\u001b[A\n",
      "\n",
      "18it [05:38, 18.89s/it]\u001b[A\u001b[A\n",
      "\n",
      "19it [05:57, 18.83s/it]\u001b[A\u001b[A\n",
      "\n",
      "20it [06:16, 18.82s/it]\u001b[A\u001b[A\n",
      "\n",
      "21it [06:35, 18.79s/it]\u001b[A\u001b[A\n",
      "\n",
      "22it [06:54, 18.79s/it]\u001b[A\u001b[A\n",
      "\n",
      "23it [07:12, 18.77s/it]\u001b[A\u001b[A\n",
      "\n",
      "24it [07:31, 18.79s/it]\u001b[A\u001b[A\n",
      "\n",
      "25it [07:50, 18.80s/it]\u001b[A\u001b[A\n",
      "\n",
      "26it [08:09, 18.78s/it]\u001b[A\u001b[A\n",
      "\n",
      "27it [08:27, 18.80s/it]\u001b[A\u001b[A\n",
      "\n",
      "28it [08:46, 18.80s/it]\u001b[A\u001b[A\n",
      "\n",
      "29it [09:05, 18.80s/it]\u001b[A\u001b[A\n",
      "\n",
      "30it [09:24, 18.82s/it]\u001b[A\u001b[A\n",
      "\n",
      "31it [09:43, 18.80s/it]\u001b[A\u001b[A\n",
      "\n",
      "32it [10:02, 18.81s/it]\u001b[A\u001b[A\n",
      "\n",
      "33it [10:21, 18.95s/it]\u001b[A\u001b[A\n",
      "\n",
      "34it [10:39, 18.84s/it]\u001b[A\u001b[A\n",
      "\n",
      "35it [10:58, 18.83s/it]\u001b[A\u001b[A\n",
      "\n",
      "36it [11:17, 18.82s/it]\u001b[A\u001b[A\n",
      "\n",
      "37it [11:36, 18.89s/it]\u001b[A\u001b[A\n",
      "\n",
      "38it [11:55, 18.89s/it]\u001b[A\u001b[A\n",
      "\n",
      "39it [12:14, 18.89s/it]\u001b[A\u001b[A\n",
      "\n",
      "40it [12:33, 18.89s/it]\u001b[A\u001b[A\n",
      "\n",
      "41it [12:52, 19.06s/it]\u001b[A\u001b[A\n",
      "\n",
      "42it [13:11, 19.00s/it]\u001b[A\u001b[A\n",
      "\n",
      "43it [13:30, 19.00s/it]\u001b[A\u001b[A\n",
      "\n",
      "44it [13:49, 19.01s/it]\u001b[A\u001b[A"
     ]
    },
    {
     "name": "stdout",
     "output_type": "stream",
     "text": [
      "create new ../data/air4thai_hourly/57t.csv\n"
     ]
    },
    {
     "name": "stderr",
     "output_type": "stream",
     "text": [
      "\n",
      "\n",
      "45it [14:08, 18.96s/it]\u001b[A\u001b[A"
     ]
    },
    {
     "name": "stdout",
     "output_type": "stream",
     "text": [
      "create new ../data/air4thai_hourly/58t.csv\n"
     ]
    },
    {
     "name": "stderr",
     "output_type": "stream",
     "text": [
      "\n",
      "\n",
      "46it [14:27, 18.97s/it]\u001b[A\u001b[A"
     ]
    },
    {
     "name": "stdout",
     "output_type": "stream",
     "text": [
      "create new ../data/air4thai_hourly/59t.csv\n"
     ]
    },
    {
     "name": "stderr",
     "output_type": "stream",
     "text": [
      "\n",
      "\n",
      "47it [14:46, 18.93s/it]\u001b[A\u001b[A"
     ]
    },
    {
     "name": "stdout",
     "output_type": "stream",
     "text": [
      "create new ../data/air4thai_hourly/60t.csv\n"
     ]
    },
    {
     "name": "stderr",
     "output_type": "stream",
     "text": [
      "\n",
      "\n",
      "48it [15:05, 19.06s/it]\u001b[A\u001b[A"
     ]
    },
    {
     "name": "stdout",
     "output_type": "stream",
     "text": [
      "create new ../data/air4thai_hourly/61t.csv\n"
     ]
    },
    {
     "name": "stderr",
     "output_type": "stream",
     "text": [
      "\n",
      "\n",
      "49it [15:24, 18.96s/it]\u001b[A\u001b[A"
     ]
    },
    {
     "name": "stdout",
     "output_type": "stream",
     "text": [
      "create new ../data/air4thai_hourly/62t.csv\n"
     ]
    },
    {
     "name": "stderr",
     "output_type": "stream",
     "text": [
      "\n",
      "\n",
      "50it [15:43, 18.90s/it]\u001b[A\u001b[A"
     ]
    },
    {
     "name": "stdout",
     "output_type": "stream",
     "text": [
      "create new ../data/air4thai_hourly/63t.csv\n"
     ]
    },
    {
     "name": "stderr",
     "output_type": "stream",
     "text": [
      "\n",
      "\n",
      "51it [16:01, 18.84s/it]\u001b[A\u001b[A"
     ]
    },
    {
     "name": "stdout",
     "output_type": "stream",
     "text": [
      "create new ../data/air4thai_hourly/67t.csv\n"
     ]
    },
    {
     "name": "stderr",
     "output_type": "stream",
     "text": [
      "\n",
      "\n",
      "52it [16:20, 18.83s/it]\u001b[A\u001b[A"
     ]
    },
    {
     "name": "stdout",
     "output_type": "stream",
     "text": [
      "create new ../data/air4thai_hourly/68t.csv\n"
     ]
    },
    {
     "name": "stderr",
     "output_type": "stream",
     "text": [
      "\n",
      "\n",
      "53it [16:39, 18.85s/it]\u001b[A\u001b[A"
     ]
    },
    {
     "name": "stdout",
     "output_type": "stream",
     "text": [
      "create new ../data/air4thai_hourly/69t.csv\n"
     ]
    },
    {
     "name": "stderr",
     "output_type": "stream",
     "text": [
      "\n",
      "\n",
      "54it [16:58, 18.83s/it]\u001b[A\u001b[A"
     ]
    },
    {
     "name": "stdout",
     "output_type": "stream",
     "text": [
      "create new ../data/air4thai_hourly/70t.csv\n"
     ]
    },
    {
     "name": "stderr",
     "output_type": "stream",
     "text": [
      "\n",
      "\n",
      "55it [17:17, 18.83s/it]\u001b[A\u001b[A"
     ]
    },
    {
     "name": "stdout",
     "output_type": "stream",
     "text": [
      "create new ../data/air4thai_hourly/71t.csv\n"
     ]
    },
    {
     "name": "stderr",
     "output_type": "stream",
     "text": [
      "\n",
      "\n",
      "56it [17:35, 18.81s/it]\u001b[A\u001b[A"
     ]
    },
    {
     "name": "stdout",
     "output_type": "stream",
     "text": [
      "create new ../data/air4thai_hourly/72t.csv\n"
     ]
    },
    {
     "name": "stderr",
     "output_type": "stream",
     "text": [
      "\n",
      "\n",
      "57it [17:54, 18.82s/it]\u001b[A\u001b[A"
     ]
    },
    {
     "name": "stdout",
     "output_type": "stream",
     "text": [
      "create new ../data/air4thai_hourly/73t.csv\n"
     ]
    },
    {
     "name": "stderr",
     "output_type": "stream",
     "text": [
      "\n",
      "\n",
      "58it [18:13, 18.92s/it]\u001b[A\u001b[A"
     ]
    },
    {
     "name": "stdout",
     "output_type": "stream",
     "text": [
      "create new ../data/air4thai_hourly/74t.csv\n"
     ]
    },
    {
     "name": "stderr",
     "output_type": "stream",
     "text": [
      "\n",
      "\n",
      "59it [18:32, 18.96s/it]\u001b[A\u001b[A"
     ]
    },
    {
     "name": "stdout",
     "output_type": "stream",
     "text": [
      "create new ../data/air4thai_hourly/75t.csv\n"
     ]
    },
    {
     "name": "stderr",
     "output_type": "stream",
     "text": [
      "\n",
      "\n",
      "60it [18:52, 19.03s/it]\u001b[A\u001b[A"
     ]
    },
    {
     "name": "stdout",
     "output_type": "stream",
     "text": [
      "create new ../data/air4thai_hourly/76t.csv\n"
     ]
    },
    {
     "name": "stderr",
     "output_type": "stream",
     "text": [
      "\n",
      "\n",
      "61it [19:11, 19.11s/it]\u001b[A\u001b[A"
     ]
    },
    {
     "name": "stdout",
     "output_type": "stream",
     "text": [
      "create new ../data/air4thai_hourly/77t.csv\n"
     ]
    },
    {
     "name": "stderr",
     "output_type": "stream",
     "text": [
      "\n",
      "\n",
      "62it [19:29, 18.95s/it]\u001b[A\u001b[A"
     ]
    },
    {
     "name": "stdout",
     "output_type": "stream",
     "text": [
      "create new ../data/air4thai_hourly/79t.csv\n"
     ]
    },
    {
     "name": "stderr",
     "output_type": "stream",
     "text": [
      "\n",
      "\n",
      "63it [19:48, 18.90s/it]\u001b[A\u001b[A"
     ]
    },
    {
     "name": "stdout",
     "output_type": "stream",
     "text": [
      "create new ../data/air4thai_hourly/80t.csv\n"
     ]
    },
    {
     "name": "stderr",
     "output_type": "stream",
     "text": [
      "\n",
      "\n",
      "64it [20:07, 18.85s/it]\u001b[A\u001b[A"
     ]
    },
    {
     "name": "stdout",
     "output_type": "stream",
     "text": [
      "create new ../data/air4thai_hourly/81t.csv\n"
     ]
    },
    {
     "name": "stderr",
     "output_type": "stream",
     "text": [
      "\n",
      "\n",
      "65it [20:26, 18.79s/it]\u001b[A\u001b[A"
     ]
    },
    {
     "name": "stdout",
     "output_type": "stream",
     "text": [
      "create new ../data/air4thai_hourly/82t.csv\n"
     ]
    },
    {
     "name": "stderr",
     "output_type": "stream",
     "text": [
      "\n",
      "\n",
      "66it [20:44, 18.78s/it]\u001b[A\u001b[A"
     ]
    },
    {
     "name": "stdout",
     "output_type": "stream",
     "text": [
      "create new ../data/air4thai_hourly/83t.csv\n"
     ]
    },
    {
     "name": "stderr",
     "output_type": "stream",
     "text": [
      "\n",
      "\n",
      "67it [21:03, 18.78s/it]\u001b[A\u001b[A"
     ]
    },
    {
     "name": "stdout",
     "output_type": "stream",
     "text": [
      "create new ../data/air4thai_hourly/84t.csv\n"
     ]
    },
    {
     "name": "stderr",
     "output_type": "stream",
     "text": [
      "\n",
      "\n",
      "68it [21:22, 18.74s/it]\u001b[A\u001b[A"
     ]
    },
    {
     "name": "stdout",
     "output_type": "stream",
     "text": [
      "create new ../data/air4thai_hourly/m1.csv\n"
     ]
    },
    {
     "name": "stderr",
     "output_type": "stream",
     "text": [
      "\n",
      "\n",
      "69it [21:41, 18.84s/it]\u001b[A\u001b[A"
     ]
    },
    {
     "name": "stdout",
     "output_type": "stream",
     "text": [
      "create new ../data/air4thai_hourly/m4.csv\n"
     ]
    },
    {
     "name": "stderr",
     "output_type": "stream",
     "text": [
      "\n",
      "\n",
      "70it [22:00, 18.86s/it]\u001b[A\u001b[A"
     ]
    },
    {
     "name": "stdout",
     "output_type": "stream",
     "text": [
      "create new ../data/air4thai_hourly/m8.csv\n"
     ]
    },
    {
     "name": "stderr",
     "output_type": "stream",
     "text": [
      "\n",
      "\n",
      "71it [22:19, 18.85s/it]\u001b[A\u001b[A"
     ]
    },
    {
     "name": "stdout",
     "output_type": "stream",
     "text": [
      "create new ../data/air4thai_hourly/m9.csv\n"
     ]
    },
    {
     "name": "stderr",
     "output_type": "stream",
     "text": [
      "\n",
      "\n",
      "72it [22:37, 18.77s/it]\u001b[A\u001b[A"
     ]
    },
    {
     "name": "stdout",
     "output_type": "stream",
     "text": [
      "create new ../data/air4thai_hourly/o10.csv\n"
     ]
    },
    {
     "name": "stderr",
     "output_type": "stream",
     "text": [
      "\n",
      "\n",
      "73it [22:56, 18.74s/it]\u001b[A\u001b[A"
     ]
    },
    {
     "name": "stdout",
     "output_type": "stream",
     "text": [
      "create new ../data/air4thai_hourly/o20.csv\n"
     ]
    },
    {
     "name": "stderr",
     "output_type": "stream",
     "text": [
      "\n",
      "\n",
      "74it [23:15, 18.78s/it]\u001b[A\u001b[A"
     ]
    },
    {
     "name": "stdout",
     "output_type": "stream",
     "text": [
      "create new ../data/air4thai_hourly/o22.csv\n"
     ]
    },
    {
     "name": "stderr",
     "output_type": "stream",
     "text": [
      "\n",
      "\n",
      "75it [23:34, 18.82s/it]\u001b[A\u001b[A"
     ]
    },
    {
     "name": "stdout",
     "output_type": "stream",
     "text": [
      "create new ../data/air4thai_hourly/o23.csv\n"
     ]
    },
    {
     "name": "stderr",
     "output_type": "stream",
     "text": [
      "\n",
      "\n",
      "76it [23:52, 18.82s/it]\u001b[A\u001b[A"
     ]
    },
    {
     "name": "stdout",
     "output_type": "stream",
     "text": [
      "create new ../data/air4thai_hourly/o24.csv\n"
     ]
    },
    {
     "name": "stderr",
     "output_type": "stream",
     "text": [
      "\n",
      "\n",
      "77it [24:11, 18.78s/it]\u001b[A\u001b[A"
     ]
    },
    {
     "name": "stdout",
     "output_type": "stream",
     "text": [
      "create new ../data/air4thai_hourly/o25.csv\n"
     ]
    },
    {
     "name": "stderr",
     "output_type": "stream",
     "text": [
      "\n",
      "\n",
      "78it [24:30, 18.87s/it]\u001b[A\u001b[A"
     ]
    },
    {
     "name": "stdout",
     "output_type": "stream",
     "text": [
      "create new ../data/air4thai_hourly/o26.csv\n"
     ]
    },
    {
     "name": "stderr",
     "output_type": "stream",
     "text": [
      "\n",
      "\n",
      "79it [24:49, 18.81s/it]\u001b[A\u001b[A"
     ]
    },
    {
     "name": "stdout",
     "output_type": "stream",
     "text": [
      "create new ../data/air4thai_hourly/o27.csv\n"
     ]
    },
    {
     "name": "stderr",
     "output_type": "stream",
     "text": [
      "\n",
      "\n",
      "80it [25:08, 18.88s/it]\u001b[A\u001b[A"
     ]
    },
    {
     "name": "stdout",
     "output_type": "stream",
     "text": [
      "create new ../data/air4thai_hourly/o28.csv\n"
     ]
    },
    {
     "name": "stderr",
     "output_type": "stream",
     "text": [
      "\n",
      "\n",
      "81it [25:27, 18.86s/it]\u001b[A\u001b[A"
     ]
    },
    {
     "name": "stdout",
     "output_type": "stream",
     "text": [
      "create new ../data/air4thai_hourly/o29.csv\n"
     ]
    },
    {
     "name": "stderr",
     "output_type": "stream",
     "text": [
      "\n"
     ]
    }
   ],
   "source": [
    "update_last_air4Thai(url='http://air4thai.pcd.go.th/webV2/history/',data_folder='../data/air4thai_hourly/')"
   ]
  },
  {
   "cell_type": "markdown",
   "metadata": {},
   "source": [
    "# Load data from Berkeley Earth Projects: \n",
    "ref: 'http://berkeleyearth.lbl.gov/air-quality/maps/cities/Thailand/'"
   ]
  },
  {
   "cell_type": "code",
   "execution_count": 59,
   "metadata": {},
   "outputs": [],
   "source": [
    "# berekely data\n",
    "b_data = read_b_data(b_folder+'Chiang_Mai.txt').set_index('datetime')"
   ]
  },
  {
   "cell_type": "markdown",
   "metadata": {},
   "source": [
    "# Combine Air 4 Thai data"
   ]
  },
  {
   "cell_type": "code",
   "execution_count": 63,
   "metadata": {},
   "outputs": [
    {
     "name": "stdout",
     "output_type": "stream",
     "text": [
      "['35t', '36t', 'm9']\n"
     ]
    }
   ],
   "source": [
    "# load stations information\n",
    "station_info_file = aqm_folder + 'stations_locations.json'\n",
    "with open(station_info_file, 'r',encoding=\"utf8\") as f:\n",
    "    station_info = json.load(f)\n",
    "station_info = station_info['stations']\n",
    "\n",
    "# find stations in Chiangmai and parase that files\n",
    "cm_station_ids = []\n",
    "for i, stations in enumerate(station_info):\n",
    "    if 'Chiang Mai' in stations['areaEN']:\n",
    "        # ignore station that start with o\n",
    "        if 'o' not in stations['stationID']:\n",
    "            cm_station_ids.append(stations['stationID'])\n",
    "print(cm_station_ids)"
   ]
  },
  {
   "cell_type": "code",
   "execution_count": 29,
   "metadata": {},
   "outputs": [
    {
     "name": "stdout",
     "output_type": "stream",
     "text": [
      "['35t', '36t', 'm9', 'o10', 'o20', 'o22']\n",
      "35t\n",
      "save filename ../data/aqm_hourly2/process/35t.csv\n",
      "36t\n",
      "save filename ../data/aqm_hourly2/process/36t.csv\n",
      "m9\n",
      "o10\n",
      "o20\n",
      "o22\n"
     ]
    }
   ],
   "source": [
    "# parase historical data \n",
    "for station_id in cm_station_ids:\n",
    "    # find all files that start with this stations\n",
    "    p = Path(aqm_folder)\n",
    "    filenames = []\n",
    "    for i in p.glob('**/*.xlsx'):\n",
    "        if station_id in i.name:\n",
    "            filenames.append(str(i))\n",
    "        \n",
    "    # if filename exist load that file\n",
    "    if len(filenames) >0:\n",
    "\n",
    "        save_filename = aqm_folder + 'process/' + station_id + '.csv'\n",
    "        print('save filename', save_filename)\n",
    "        station_data = read_his_xl(filenames[0])\n",
    "        #print(station_data.head())\n",
    "\n",
    "        # save the data if the dataframe is not empty\n",
    "        if len(station_data)> 0:\n",
    "            station_data.to_csv(save_filename,index=False)"
   ]
  },
  {
   "cell_type": "code",
   "execution_count": 45,
   "metadata": {},
   "outputs": [],
   "source": [
    "cm_data1 = pd.read_csv(aqm_folder + 'process/35t.csv')\n",
    "cm_data1['datetime'] = pd.to_datetime(cm_data1['datetime'])\n",
    "cm_data1 = cm_data1.set_index('datetime')\n",
    "# keep only gas columns\n",
    "cm_data1 = cm_data1[['CO', 'O3', 'NO2', 'SO2', 'PM10', 'PM2.5']]\n",
    "\n",
    "cm_data2 = pd.read_csv(aqm_folder + 'process/36t.csv')\n",
    "cm_data2['datetime'] = pd.to_datetime(cm_data2['datetime'])\n",
    "cm_data2 = cm_data2.set_index('datetime')\n"
   ]
  },
  {
   "cell_type": "code",
   "execution_count": 69,
   "metadata": {},
   "outputs": [
    {
     "data": {
      "text/html": [
       "<div>\n",
       "<style scoped>\n",
       "    .dataframe tbody tr th:only-of-type {\n",
       "        vertical-align: middle;\n",
       "    }\n",
       "\n",
       "    .dataframe tbody tr th {\n",
       "        vertical-align: top;\n",
       "    }\n",
       "\n",
       "    .dataframe thead th {\n",
       "        text-align: right;\n",
       "    }\n",
       "</style>\n",
       "<table border=\"1\" class=\"dataframe\">\n",
       "  <thead>\n",
       "    <tr style=\"text-align: right;\">\n",
       "      <th></th>\n",
       "      <th>CO</th>\n",
       "      <th>O3</th>\n",
       "      <th>NO2</th>\n",
       "      <th>SO2</th>\n",
       "      <th>PM10</th>\n",
       "      <th>PM2.5</th>\n",
       "    </tr>\n",
       "    <tr>\n",
       "      <th>datetime</th>\n",
       "      <th></th>\n",
       "      <th></th>\n",
       "      <th></th>\n",
       "      <th></th>\n",
       "      <th></th>\n",
       "      <th></th>\n",
       "    </tr>\n",
       "  </thead>\n",
       "  <tbody>\n",
       "    <tr>\n",
       "      <th>2020-01-31 20:00:00</th>\n",
       "      <td>NaN</td>\n",
       "      <td>10.0</td>\n",
       "      <td>48.0</td>\n",
       "      <td>1.0</td>\n",
       "      <td>96.0</td>\n",
       "      <td>55.0</td>\n",
       "    </tr>\n",
       "    <tr>\n",
       "      <th>2020-01-31 21:00:00</th>\n",
       "      <td>NaN</td>\n",
       "      <td>31.0</td>\n",
       "      <td>24.0</td>\n",
       "      <td>1.0</td>\n",
       "      <td>124.0</td>\n",
       "      <td>67.0</td>\n",
       "    </tr>\n",
       "    <tr>\n",
       "      <th>2020-01-31 22:00:00</th>\n",
       "      <td>NaN</td>\n",
       "      <td>21.0</td>\n",
       "      <td>25.0</td>\n",
       "      <td>1.0</td>\n",
       "      <td>91.0</td>\n",
       "      <td>55.0</td>\n",
       "    </tr>\n",
       "    <tr>\n",
       "      <th>2020-01-31 23:00:00</th>\n",
       "      <td>NaN</td>\n",
       "      <td>13.0</td>\n",
       "      <td>29.0</td>\n",
       "      <td>0.0</td>\n",
       "      <td>89.0</td>\n",
       "      <td>54.0</td>\n",
       "    </tr>\n",
       "    <tr>\n",
       "      <th>2020-01-31 00:00:00</th>\n",
       "      <td>NaN</td>\n",
       "      <td>16.0</td>\n",
       "      <td>24.0</td>\n",
       "      <td>0.0</td>\n",
       "      <td>86.0</td>\n",
       "      <td>51.0</td>\n",
       "    </tr>\n",
       "  </tbody>\n",
       "</table>\n",
       "</div>"
      ],
      "text/plain": [
       "                     CO    O3   NO2  SO2   PM10  PM2.5\n",
       "datetime                                              \n",
       "2020-01-31 20:00:00 NaN  10.0  48.0  1.0   96.0   55.0\n",
       "2020-01-31 21:00:00 NaN  31.0  24.0  1.0  124.0   67.0\n",
       "2020-01-31 22:00:00 NaN  21.0  25.0  1.0   91.0   55.0\n",
       "2020-01-31 23:00:00 NaN  13.0  29.0  0.0   89.0   54.0\n",
       "2020-01-31 00:00:00 NaN  16.0  24.0  0.0   86.0   51.0"
      ]
     },
     "execution_count": 69,
     "metadata": {},
     "output_type": "execute_result"
    }
   ],
   "source": [
    "cm_data1.tail()"
   ]
  },
  {
   "cell_type": "code",
   "execution_count": 68,
   "metadata": {},
   "outputs": [
    {
     "data": {
      "text/html": [
       "<div>\n",
       "<style scoped>\n",
       "    .dataframe tbody tr th:only-of-type {\n",
       "        vertical-align: middle;\n",
       "    }\n",
       "\n",
       "    .dataframe tbody tr th {\n",
       "        vertical-align: top;\n",
       "    }\n",
       "\n",
       "    .dataframe thead th {\n",
       "        text-align: right;\n",
       "    }\n",
       "</style>\n",
       "<table border=\"1\" class=\"dataframe\">\n",
       "  <thead>\n",
       "    <tr style=\"text-align: right;\">\n",
       "      <th></th>\n",
       "      <th>date</th>\n",
       "      <th>time_range</th>\n",
       "      <th>PM2.5 (ug/m3)</th>\n",
       "      <th>PM10 (ug/m3)</th>\n",
       "      <th>O3 (ppb)</th>\n",
       "      <th>CO (ppm)</th>\n",
       "      <th>NO2 (ppb)</th>\n",
       "      <th>SO2 (ppb)</th>\n",
       "      <th>station_id</th>\n",
       "      <th>station_name</th>\n",
       "      <th>startTime</th>\n",
       "      <th>datetime</th>\n",
       "    </tr>\n",
       "  </thead>\n",
       "  <tbody>\n",
       "    <tr>\n",
       "      <th>0</th>\n",
       "      <td>2020-02-01</td>\n",
       "      <td>00:00 - 01:00</td>\n",
       "      <td>63</td>\n",
       "      <td>111</td>\n",
       "      <td>-</td>\n",
       "      <td>0.67</td>\n",
       "      <td>52</td>\n",
       "      <td>2</td>\n",
       "      <td>02t</td>\n",
       "      <td>02t มหาวิทยาลัยราชภัฏบ้านสมเด็จเจ้าพระยา แขวงห...</td>\n",
       "      <td>00:00</td>\n",
       "      <td>2020-02-01 00:00:00</td>\n",
       "    </tr>\n",
       "    <tr>\n",
       "      <th>1</th>\n",
       "      <td>2020-02-01</td>\n",
       "      <td>01:00 - 02:00</td>\n",
       "      <td>65</td>\n",
       "      <td>130</td>\n",
       "      <td>-</td>\n",
       "      <td>0.78</td>\n",
       "      <td>51</td>\n",
       "      <td>2</td>\n",
       "      <td>02t</td>\n",
       "      <td>02t มหาวิทยาลัยราชภัฏบ้านสมเด็จเจ้าพระยา แขวงห...</td>\n",
       "      <td>01:00</td>\n",
       "      <td>2020-02-01 01:00:00</td>\n",
       "    </tr>\n",
       "    <tr>\n",
       "      <th>2</th>\n",
       "      <td>2020-02-01</td>\n",
       "      <td>02:00 - 03:00</td>\n",
       "      <td>69</td>\n",
       "      <td>133</td>\n",
       "      <td>-</td>\n",
       "      <td>0.81</td>\n",
       "      <td>48</td>\n",
       "      <td>1</td>\n",
       "      <td>02t</td>\n",
       "      <td>02t มหาวิทยาลัยราชภัฏบ้านสมเด็จเจ้าพระยา แขวงห...</td>\n",
       "      <td>02:00</td>\n",
       "      <td>2020-02-01 02:00:00</td>\n",
       "    </tr>\n",
       "    <tr>\n",
       "      <th>3</th>\n",
       "      <td>2020-02-01</td>\n",
       "      <td>03:00 - 04:00</td>\n",
       "      <td>60</td>\n",
       "      <td>126</td>\n",
       "      <td>-</td>\n",
       "      <td>0.7</td>\n",
       "      <td>42</td>\n",
       "      <td>1</td>\n",
       "      <td>02t</td>\n",
       "      <td>02t มหาวิทยาลัยราชภัฏบ้านสมเด็จเจ้าพระยา แขวงห...</td>\n",
       "      <td>03:00</td>\n",
       "      <td>2020-02-01 03:00:00</td>\n",
       "    </tr>\n",
       "    <tr>\n",
       "      <th>4</th>\n",
       "      <td>2020-02-01</td>\n",
       "      <td>04:00 - 05:00</td>\n",
       "      <td>56</td>\n",
       "      <td>116</td>\n",
       "      <td>-</td>\n",
       "      <td>0.74</td>\n",
       "      <td>41</td>\n",
       "      <td>1</td>\n",
       "      <td>02t</td>\n",
       "      <td>02t มหาวิทยาลัยราชภัฏบ้านสมเด็จเจ้าพระยา แขวงห...</td>\n",
       "      <td>04:00</td>\n",
       "      <td>2020-02-01 04:00:00</td>\n",
       "    </tr>\n",
       "  </tbody>\n",
       "</table>\n",
       "</div>"
      ],
      "text/plain": [
       "         date     time_range PM2.5 (ug/m3) PM10 (ug/m3) O3 (ppb) CO (ppm)  \\\n",
       "0  2020-02-01  00:00 - 01:00            63          111        -     0.67   \n",
       "1  2020-02-01  01:00 - 02:00            65          130        -     0.78   \n",
       "2  2020-02-01  02:00 - 03:00            69          133        -     0.81   \n",
       "3  2020-02-01  03:00 - 04:00            60          126        -      0.7   \n",
       "4  2020-02-01  04:00 - 05:00            56          116        -     0.74   \n",
       "\n",
       "  NO2 (ppb) SO2 (ppb) station_id  \\\n",
       "0        52         2        02t   \n",
       "1        51         2        02t   \n",
       "2        48         1        02t   \n",
       "3        42         1        02t   \n",
       "4        41         1        02t   \n",
       "\n",
       "                                        station_name startTime  \\\n",
       "0  02t มหาวิทยาลัยราชภัฏบ้านสมเด็จเจ้าพระยา แขวงห...    00:00    \n",
       "1  02t มหาวิทยาลัยราชภัฏบ้านสมเด็จเจ้าพระยา แขวงห...    01:00    \n",
       "2  02t มหาวิทยาลัยราชภัฏบ้านสมเด็จเจ้าพระยา แขวงห...    02:00    \n",
       "3  02t มหาวิทยาลัยราชภัฏบ้านสมเด็จเจ้าพระยา แขวงห...    03:00    \n",
       "4  02t มหาวิทยาลัยราชภัฏบ้านสมเด็จเจ้าพระยา แขวงห...    04:00    \n",
       "\n",
       "              datetime  \n",
       "0  2020-02-01 00:00:00  \n",
       "1  2020-02-01 01:00:00  \n",
       "2  2020-02-01 02:00:00  \n",
       "3  2020-02-01 03:00:00  \n",
       "4  2020-02-01 04:00:00  "
      ]
     },
     "execution_count": 68,
     "metadata": {},
     "output_type": "execute_result"
    }
   ],
   "source": [
    "files = glob(a4th_folder+'35*')\n",
    "cm_data1_new = pd.read_csv(files[0])\n",
    "cm_data1_new.head()"
   ]
  },
  {
   "cell_type": "code",
   "execution_count": null,
   "metadata": {},
   "outputs": [],
   "source": []
  },
  {
   "cell_type": "code",
   "execution_count": 58,
   "metadata": {},
   "outputs": [
    {
     "data": {
      "text/plain": [
       "<matplotlib.axes._subplots.AxesSubplot at 0x20232c6d908>"
      ]
     },
     "execution_count": 58,
     "metadata": {},
     "output_type": "execute_result"
    },
    {
     "data": {
      "image/png": "[encoded data removed]",
      "text/plain": [
       "<Figure size 432x288 with 1 Axes>"
      ]
     },
     "metadata": {
      "needs_background": "light"
     },
     "output_type": "display_data"
    }
   ],
   "source": [
    "cm_data2['PM2.5'].plot(alpha=0.1,marker='.')\n",
    "b_data['PM2.5'].plot(alpha=0.1,marker='.')\n",
    "cm_data1['PM2.5'].plot(alpha=0.1,marker='.')"
   ]
  },
  {
   "cell_type": "code",
   "execution_count": 54,
   "metadata": {},
   "outputs": [
    {
     "data": {
      "text/plain": [
       "<matplotlib.axes._subplots.AxesSubplot at 0x202372c3508>"
      ]
     },
     "execution_count": 54,
     "metadata": {},
     "output_type": "execute_result"
    },
    {
     "data": {
      "image/png": "[encoded data removed]",
      "text/plain": [
       "<Figure size 432x288 with 1 Axes>"
      ]
     },
     "metadata": {
      "needs_background": "light"
     },
     "output_type": "display_data"
    }
   ],
   "source": [
    "cm_data1['PM2.5'].plot(alpha=0.5,marker='.')\n",
    "b_data['pm25'].plot(alpha=0.5,marker='.')"
   ]
  },
  {
   "cell_type": "code",
   "execution_count": 257,
   "metadata": {},
   "outputs": [
    {
     "data": {
      "text/plain": [
       "Index(['CO', 'O3', 'NO2', 'SO2', 'PM10', 'PM2.5'], dtype='object')"
      ]
     },
     "execution_count": 257,
     "metadata": {},
     "output_type": "execute_result"
    }
   ],
   "source": [
    "cm_data2.columns"
   ]
  },
  {
   "cell_type": "code",
   "execution_count": 258,
   "metadata": {},
   "outputs": [
    {
     "data": {
      "text/plain": [
       "<matplotlib.axes._subplots.AxesSubplot at 0x270de1e7bc8>"
      ]
     },
     "execution_count": 258,
     "metadata": {},
     "output_type": "execute_result"
    },
    {
     "data": {
      "image/png": "[encoded data removed]",
      "text/plain": [
       "<Figure size 432x288 with 1 Axes>"
      ]
     },
     "metadata": {
      "needs_background": "light"
     },
     "output_type": "display_data"
    }
   ],
   "source": [
    "cm_data2['NO2'].plot(alpha=0.5,marker='.')"
   ]
  },
  {
   "cell_type": "code",
   "execution_count": 76,
   "metadata": {},
   "outputs": [],
   "source": [
    "data_folder = '../data/cdc_data/'\n",
    "dl_url 'https://www.cmuccdc.org/download_json/' \n",
    "with open(data_folder+'station_info.json','r') as f:\n",
    "    station_info_list = json.load(f)\n",
    "    \n",
    "    "
   ]
  },
  {
   "cell_type": "code",
   "execution_count": 77,
   "metadata": {},
   "outputs": [],
   "source": [
    "for station_dict in station_info_list:\n",
    "    station_id = station_dict['dustboy_id']\n",
    "    dl_url = dl_url + station_id"
   ]
  },
  {
   "cell_type": "code",
   "execution_count": 78,
   "metadata": {},
   "outputs": [],
   "source": [
    "dl_url = 'https://www.cmuccdc.org/download_json/72'\n",
    "data_json = requests.get(dl_url)"
   ]
  },
  {
   "cell_type": "code",
   "execution_count": 80,
   "metadata": {},
   "outputs": [
    {
     "data": {
      "text/plain": [
       "{'id': '72',\n",
       " 'dustboy_id': 'DustBoy072',\n",
       " 'dustboy_name': 'ทต. ปัว จ. น่าน',\n",
       " 'dustboy_lat': '19.179932',\n",
       " 'dustboy_lon': '100.909384',\n",
       " 'value': [{'pm10': 111, 'pm25': 102, 'log_datetime': '2019-11-21 09:00'},\n",
       "  {'pm10': 117, 'pm25': 107, 'log_datetime': '2019-11-21 08:00'},\n",
       "  {'pm10': 93, 'pm25': 87, 'log_datetime': '2019-11-21 07:00'},\n",
       "  {'pm10': 18, 'pm25': 12, 'log_datetime': '2019-11-14 08:00'},\n",
       "  {'pm10': 101, 'pm25': 61, 'log_datetime': '2019-11-07 09:00'},\n",
       "  {'pm10': 156, 'pm25': 148, 'log_datetime': '2019-10-18 20:00'},\n",
       "  {'pm10': 84, 'pm25': 80, 'log_datetime': '2019-10-18 19:00'},\n",
       "  {'pm10': 24, 'pm25': 19, 'log_datetime': '2019-10-18 18:00'},\n",
       "  {'pm10': 107, 'pm25': 102, 'log_datetime': '2019-08-13 06:00'},\n",
       "  {'pm10': 118, 'pm25': 112, 'log_datetime': '2019-08-13 05:00'},\n",
       "  {'pm10': 142, 'pm25': 135, 'log_datetime': '2019-08-13 04:00'},\n",
       "  {'pm10': 99, 'pm25': 94, 'log_datetime': '2019-08-13 03:00'},\n",
       "  {'pm10': 101, 'pm25': 96, 'log_datetime': '2019-08-13 02:00'},\n",
       "  {'pm10': 123, 'pm25': 117, 'log_datetime': '2019-08-13 01:00'},\n",
       "  {'pm10': 126, 'pm25': 120, 'log_datetime': '2019-08-13 00:00'},\n",
       "  {'pm10': 106, 'pm25': 101, 'log_datetime': '2019-08-12 23:00'},\n",
       "  {'pm10': 144, 'pm25': 137, 'log_datetime': '2019-08-12 22:00'},\n",
       "  {'pm10': 139, 'pm25': 132, 'log_datetime': '2019-08-12 21:00'},\n",
       "  {'pm10': 127, 'pm25': 121, 'log_datetime': '2019-08-12 20:00'},\n",
       "  {'pm10': 122, 'pm25': 117, 'log_datetime': '2019-08-12 19:00'},\n",
       "  {'pm10': 103, 'pm25': 98, 'log_datetime': '2019-08-12 18:00'},\n",
       "  {'pm10': 130, 'pm25': 124, 'log_datetime': '2019-08-12 17:00'},\n",
       "  {'pm10': 185, 'pm25': 176, 'log_datetime': '2019-08-12 16:00'},\n",
       "  {'pm10': 118, 'pm25': 113, 'log_datetime': '2019-08-12 15:00'},\n",
       "  {'pm10': 136, 'pm25': 129, 'log_datetime': '2019-08-12 14:00'},\n",
       "  {'pm10': 114, 'pm25': 108, 'log_datetime': '2019-08-12 13:00'},\n",
       "  {'pm10': 146, 'pm25': 139, 'log_datetime': '2019-08-12 12:00'},\n",
       "  {'pm10': 107, 'pm25': 101, 'log_datetime': '2019-08-12 11:00'},\n",
       "  {'pm10': 138, 'pm25': 131, 'log_datetime': '2019-08-12 10:00'},\n",
       "  {'pm10': 179, 'pm25': 171, 'log_datetime': '2019-08-12 09:00'},\n",
       "  {'pm10': 200, 'pm25': 191, 'log_datetime': '2019-08-12 08:00'},\n",
       "  {'pm10': 90, 'pm25': 86, 'log_datetime': '2019-08-12 07:00'},\n",
       "  {'pm10': 82, 'pm25': 78, 'log_datetime': '2019-08-12 06:00'},\n",
       "  {'pm10': 96, 'pm25': 91, 'log_datetime': '2019-08-12 05:00'},\n",
       "  {'pm10': 91, 'pm25': 87, 'log_datetime': '2019-08-12 04:00'},\n",
       "  {'pm10': 92, 'pm25': 88, 'log_datetime': '2019-08-12 03:00'},\n",
       "  {'pm10': 75, 'pm25': 71, 'log_datetime': '2019-08-12 02:00'},\n",
       "  {'pm10': 75, 'pm25': 71, 'log_datetime': '2019-08-12 01:00'},\n",
       "  {'pm10': 45, 'pm25': 42, 'log_datetime': '2019-08-12 00:00'},\n",
       "  {'pm10': 46, 'pm25': 43, 'log_datetime': '2019-08-11 23:00'},\n",
       "  {'pm10': 52, 'pm25': 50, 'log_datetime': '2019-08-11 22:00'},\n",
       "  {'pm10': 44, 'pm25': 42, 'log_datetime': '2019-08-11 21:00'},\n",
       "  {'pm10': 43, 'pm25': 41, 'log_datetime': '2019-08-11 20:00'},\n",
       "  {'pm10': 34, 'pm25': 32, 'log_datetime': '2019-08-11 19:00'},\n",
       "  {'pm10': 38, 'pm25': 36, 'log_datetime': '2019-08-11 18:00'},\n",
       "  {'pm10': 29, 'pm25': 28, 'log_datetime': '2019-08-11 17:00'},\n",
       "  {'pm10': 35, 'pm25': 33, 'log_datetime': '2019-08-11 16:00'},\n",
       "  {'pm10': 40, 'pm25': 38, 'log_datetime': '2019-08-11 15:00'},\n",
       "  {'pm10': 39, 'pm25': 37, 'log_datetime': '2019-08-11 14:00'},\n",
       "  {'pm10': 28, 'pm25': 27, 'log_datetime': '2019-08-11 13:00'},\n",
       "  {'pm10': 21, 'pm25': 20, 'log_datetime': '2019-08-11 12:00'},\n",
       "  {'pm10': 30, 'pm25': 26, 'log_datetime': '2019-08-11 11:00'},\n",
       "  {'pm10': 12, 'pm25': 10, 'log_datetime': '2019-08-11 10:00'},\n",
       "  {'pm10': 8, 'pm25': 4, 'log_datetime': '2019-08-11 09:00'},\n",
       "  {'pm10': 10, 'pm25': 5, 'log_datetime': '2019-08-11 08:00'},\n",
       "  {'pm10': 10, 'pm25': 5, 'log_datetime': '2019-08-11 07:00'},\n",
       "  {'pm10': 8, 'pm25': 3, 'log_datetime': '2019-08-11 06:00'},\n",
       "  {'pm10': 7, 'pm25': 2, 'log_datetime': '2019-08-11 05:00'},\n",
       "  {'pm10': 7, 'pm25': 2, 'log_datetime': '2019-08-11 04:00'},\n",
       "  {'pm10': 6, 'pm25': 2, 'log_datetime': '2019-08-11 03:00'},\n",
       "  {'pm10': 7, 'pm25': 2, 'log_datetime': '2019-08-11 02:00'},\n",
       "  {'pm10': 7, 'pm25': 3, 'log_datetime': '2019-08-11 01:00'},\n",
       "  {'pm10': 7, 'pm25': 2, 'log_datetime': '2019-08-11 00:00'},\n",
       "  {'pm10': 6, 'pm25': 2, 'log_datetime': '2019-08-10 23:00'},\n",
       "  {'pm10': 6, 'pm25': 2, 'log_datetime': '2019-08-10 22:00'},\n",
       "  {'pm10': 6, 'pm25': 2, 'log_datetime': '2019-08-10 21:00'},\n",
       "  {'pm10': 13, 'pm25': 10, 'log_datetime': '2019-08-10 20:00'}]}"
      ]
     },
     "execution_count": 80,
     "metadata": {},
     "output_type": "execute_result"
    }
   ],
   "source": [
    "data_json.json()[0]"
   ]
  },
  {
   "cell_type": "code",
   "execution_count": null,
   "metadata": {},
   "outputs": [],
   "source": []
  }
 ],
 "metadata": {
  "kernelspec": {
   "display_name": "Python 3",
   "language": "python",
   "name": "python3"
  },
  "language_info": {
   "codemirror_mode": {
    "name": "ipython",
    "version": 3
   },
   "file_extension": ".py",
   "mimetype": "text/x-python",
   "name": "python",
   "nbconvert_exporter": "python",
   "pygments_lexer": "ipython3",
   "version": "3.7.5"
  },
  "toc": {
   "base_numbering": 1,
   "nav_menu": {},
   "number_sections": true,
   "sideBar": true,
   "skip_h1_title": false,
   "title_cell": "Table of Contents",
   "title_sidebar": "Contents",
   "toc_cell": true,
   "toc_position": {},
   "toc_section_display": true,
   "toc_window_display": true
  }
 },
 "nbformat": 4,
 "nbformat_minor": 4
}
