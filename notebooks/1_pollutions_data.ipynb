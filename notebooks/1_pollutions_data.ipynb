{
 "cells": [
  {
   "cell_type": "markdown",
   "metadata": {
    "toc": true
   },
   "source": [
    "<h1>Table of Contents<span class=\"tocSkip\"></span></h1>\n",
    "<div class=\"toc\"><ul class=\"toc-item\"><li><span><a href=\"#Data-Source\" data-toc-modified-id=\"Data-Source-1\"><span class=\"toc-item-num\">1&nbsp;&nbsp;</span>Data Source</a></span></li><li><span><a href=\"#Imports-and-Update-The-Latest-Data\" data-toc-modified-id=\"Imports-and-Update-The-Latest-Data-2\"><span class=\"toc-item-num\">2&nbsp;&nbsp;</span>Imports and Update The Latest Data</a></span></li><li><span><a href=\"#Historical-air-4-Thai-Data\" data-toc-modified-id=\"Historical-air-4-Thai-Data-3\"><span class=\"toc-item-num\">3&nbsp;&nbsp;</span>Historical air 4 Thai Data</a></span></li><li><span><a href=\"#Power-Plants\" data-toc-modified-id=\"Power-Plants-4\"><span class=\"toc-item-num\">4&nbsp;&nbsp;</span>Power Plants</a></span></li></ul></div>"
   ]
  },
  {
   "cell_type": "markdown",
   "metadata": {},
   "source": [
    "# Data Source \n",
    "1. Berekely Earth 'http://berkeleyearth.lbl.gov/air-quality/maps/cities/Thailand/'\n",
    "2. Screaped Air4Thai Data 'http://air4thai.pcd.go.th/webV2/history/'\n",
    "3. CDC Data 'https://www.cmuccdc.org/download_json/'\n",
    "4. Old Air4Thai data from Thailand EPA"
   ]
  },
  {
   "cell_type": "markdown",
   "metadata": {},
   "source": [
    "# Imports and Update The Latest Data"
   ]
  },
  {
   "cell_type": "code",
   "execution_count": 1,
   "metadata": {},
   "outputs": [],
   "source": [
    "#  Load the \"autoreload\" extension so that code can change\n",
    "%load_ext autoreload\n",
    "%reload_ext autoreload\n",
    "from pathlib import Path\n",
    "\n",
    "#  always reload modules so that as you change code in src, it gets loaded\n",
    "%autoreload 2\n",
    "%matplotlib inline\n",
    "\n",
    "import sys\n",
    "sys.path.append('../')\n",
    "from src.imports import *\n",
    "from src.data.download_data import *\n",
    "from src.data.read_data import *"
   ]
  },
  {
   "cell_type": "code",
   "execution_count": 2,
   "metadata": {},
   "outputs": [],
   "source": [
    "b_folder='../data/pm25/'\n",
    "a4th_folder='../data/air4thai_hourly/'\n",
    "cdc_folder = '../data/cdc_data/'\n",
    "aqm_folder = '../data/aqm_hourly2/'"
   ]
  },
  {
   "cell_type": "code",
   "execution_count": 3,
   "metadata": {},
   "outputs": [
    {
     "name": "stdout",
     "output_type": "stream",
     "text": [
      "100% [............................................................................] 796692 / 796692"
     ]
    }
   ],
   "source": [
    "# Data from Berkeley Earth Projects: \n",
    "download_b_data(data_folder='../data/pm25/', url='http://berkeleyearth.lbl.gov/air-quality/maps/cities/Thailand/')\n",
    "get_city_info(data_folder='../data/pm25/')"
   ]
  },
  {
   "cell_type": "code",
   "execution_count": 4,
   "metadata": {
    "scrolled": true
   },
   "outputs": [
    {
     "name": "stderr",
     "output_type": "stream",
     "text": [
      "\r",
      "  0%|                                                                                          | 0/404 [00:00<?, ?it/s]"
     ]
    },
    {
     "name": "stdout",
     "output_type": "stream",
     "text": [
      "number of stations 404\n"
     ]
    },
    {
     "name": "stderr",
     "output_type": "stream",
     "text": [
      "100%|████████████████████████████████████████████████████████████████████████████████| 404/404 [20:52<00:00,  3.10s/it]\n"
     ]
    }
   ],
   "source": [
    "download_cdc_data(station_url='https://www.cmuccdc.org/api/ccdc/stations', \n",
    "                  dl_url= 'https://www.cmuccdc.org/download_json/', \n",
    "                  data_folder='../data/cdc_data/')"
   ]
  },
  {
   "cell_type": "code",
   "execution_count": 5,
   "metadata": {},
   "outputs": [
    {
     "name": "stderr",
     "output_type": "stream",
     "text": [
      "\r",
      "0it [00:00, ?it/s]"
     ]
    },
    {
     "name": "stdout",
     "output_type": "stream",
     "text": [
      "['02t', '03t', '05t', '08t', '10t', '11t', '12t', '13t', '14t', '16t', '17t', '18t', '19t', '20t', '21t', '22t', '24t', '25t', '26t', '27t', '28t', '29t', '30t', '31t', '32t', '33t', '34t', '35t', '36t', '37t', '38t', '39t', '40t', '41t', '42t', '43t', '44t', '46t', '47t', '50t', '52t', '53t', '54t', '57t', '58t', '59t', '60t', '61t', '62t', '63t', '67t', '68t', '69t', '70t', '71t', '72t', '73t', '74t', '75t', '76t', '77t', '79t', '80t', '81t', '82t', '83t', '84t', 'm1', 'm4', 'm8', 'm9', 'o10', 'o20', 'o22', 'o23', 'o24', 'o25', 'o26', 'o27', 'o28', 'o29']\n"
     ]
    },
    {
     "name": "stderr",
     "output_type": "stream",
     "text": [
      "81it [27:04, 20.05s/it]\n"
     ]
    }
   ],
   "source": [
    "update_last_air4Thai(url='http://air4thai.pcd.go.th/webV2/history/',data_folder='../data/air4thai_hourly/')"
   ]
  },
  {
   "cell_type": "markdown",
   "metadata": {},
   "source": [
    "# Historical air 4 Thai Data"
   ]
  },
  {
   "cell_type": "code",
   "execution_count": 6,
   "metadata": {},
   "outputs": [
    {
     "name": "stdout",
     "output_type": "stream",
     "text": [
      "['35t', '36t', 'm9']\n"
     ]
    }
   ],
   "source": [
    "# load stations information\n",
    "station_info_file = aqm_folder + 'stations_locations.json'\n",
    "with open(station_info_file, 'r',encoding=\"utf8\") as f:\n",
    "    station_info = json.load(f)\n",
    "station_info = station_info['stations']\n",
    "\n",
    "# find stations in Chiangmai and parase that files\n",
    "cm_station_ids = []\n",
    "for i, stations in enumerate(station_info):\n",
    "    if 'Chiang Mai' in stations['areaEN']:\n",
    "        # ignore station that start with o\n",
    "        if 'o' not in stations['stationID']:\n",
    "            cm_station_ids.append(stations['stationID'])\n",
    "print(cm_station_ids)"
   ]
  },
  {
   "cell_type": "code",
   "execution_count": 22,
   "metadata": {},
   "outputs": [
    {
     "name": "stdout",
     "output_type": "stream",
     "text": [
      "save filename ../data/aqm_hourly2/process/35t.csv\n",
      "save filename ../data/aqm_hourly2/process/36t.csv\n"
     ]
    }
   ],
   "source": [
    "# parase historical data \n",
    "for station_id in cm_station_ids:\n",
    "    # find all files that start with this stations\n",
    "    p = Path(aqm_folder)\n",
    "    filenames = []\n",
    "    for i in p.glob('**/*.xlsx'):\n",
    "        if station_id in i.name:\n",
    "            filenames.append(str(i))\n",
    "        \n",
    "    # if filename exist load that file\n",
    "    if len(filenames) >0:\n",
    "\n",
    "        save_filename = aqm_folder + 'process/' + station_id + '.csv'\n",
    "        print('save filename', save_filename)\n",
    "        station_data = read_his_xl(filenames[0])\n",
    "        #print(station_data.head())\n",
    "\n",
    "        # save the data if the dataframe is not empty\n",
    "        if len(station_data)> 0:\n",
    "            station_data.to_csv(save_filename,index=True)"
   ]
  },
  {
   "cell_type": "code",
   "execution_count": 45,
   "metadata": {},
   "outputs": [],
   "source": [
    "cm_data1 = pd.read_csv(aqm_folder + 'process/35t.csv')\n",
    "cm_data1['datetime'] = pd.to_datetime(cm_data1['datetime'])\n",
    "cm_data1 = cm_data1.set_index('datetime')\n",
    "# keep only gas columns\n",
    "cm_data1 = cm_data1[['CO', 'O3', 'NO2', 'SO2', 'PM10', 'PM2.5']]\n",
    "\n",
    "cm_data2 = pd.read_csv(aqm_folder + 'process/36t.csv')\n",
    "cm_data2['datetime'] = pd.to_datetime(cm_data2['datetime'])\n",
    "cm_data2 = cm_data2.set_index('datetime')\n"
   ]
  },
  {
   "cell_type": "markdown",
   "metadata": {},
   "source": [
    "# Power Plants"
   ]
  },
  {
   "cell_type": "code",
   "execution_count": 92,
   "metadata": {},
   "outputs": [],
   "source": [
    "url = 'https://th.wikipedia.org/wiki/%E0%B8%A3%E0%B8%B2%E0%B8%A2%E0%B8%8A%E0%B8%B7%E0%B9%88%E0%B8%AD%E0%B9%82%E0%B8%A3%E0%B8%87%E0%B9%84%E0%B8%9F%E0%B8%9F%E0%B9%89%E0%B8%B2%E0%B9%83%E0%B8%99%E0%B9%84%E0%B8%97%E0%B8%A2'\n",
    "url = 'https://en.wikipedia.org/wiki/List_of_power_stations_in_Thailand'\n",
    "table_list = pd.read_html(url)\n",
    "len(table_list)\n",
    "p_folder = '../data/power_plants/'\n",
    "for i, table in enumerate(table_list):\n",
    "    table.to_csv(p_folder + f'table_eng{i}.csv',index=False)"
   ]
  },
  {
   "cell_type": "code",
   "execution_count": null,
   "metadata": {},
   "outputs": [],
   "source": []
  }
 ],
 "metadata": {
  "kernelspec": {
   "display_name": "Python 3",
   "language": "python",
   "name": "python3"
  },
  "language_info": {
   "codemirror_mode": {
    "name": "ipython",
    "version": 3
   },
   "file_extension": ".py",
   "mimetype": "text/x-python",
   "name": "python",
   "nbconvert_exporter": "python",
   "pygments_lexer": "ipython3",
   "version": "3.7.5"
  },
  "toc": {
   "base_numbering": 1,
   "nav_menu": {},
   "number_sections": true,
   "sideBar": true,
   "skip_h1_title": false,
   "title_cell": "Table of Contents",
   "title_sidebar": "Contents",
   "toc_cell": true,
   "toc_position": {},
   "toc_section_display": true,
   "toc_window_display": true
  }
 },
 "nbformat": 4,
 "nbformat_minor": 4
}
