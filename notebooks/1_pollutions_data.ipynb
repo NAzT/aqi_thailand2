{
 "cells": [
  {
   "cell_type": "markdown",
   "metadata": {
    "toc": true
   },
   "source": [
    "<h1>Table of Contents<span class=\"tocSkip\"></span></h1>\n",
    "<div class=\"toc\"><ul class=\"toc-item\"><li><span><a href=\"#Data-Source\" data-toc-modified-id=\"Data-Source-1\"><span class=\"toc-item-num\">1&nbsp;&nbsp;</span>Data Source</a></span></li><li><span><a href=\"#Imports-and-Update-The-Latest-Data\" data-toc-modified-id=\"Imports-and-Update-The-Latest-Data-2\"><span class=\"toc-item-num\">2&nbsp;&nbsp;</span>Imports and Update The Latest Data</a></span></li><li><span><a href=\"#Historical-air-4-Thai-Data\" data-toc-modified-id=\"Historical-air-4-Thai-Data-3\"><span class=\"toc-item-num\">3&nbsp;&nbsp;</span>Historical air 4 Thai Data</a></span></li><li><span><a href=\"#Power-Plants\" data-toc-modified-id=\"Power-Plants-4\"><span class=\"toc-item-num\">4&nbsp;&nbsp;</span>Power Plants</a></span></li></ul></div>"
   ]
  },
  {
   "cell_type": "markdown",
   "metadata": {},
   "source": [
    "# Data Source \n",
    "1. Berekely Earth 'http://berkeleyearth.lbl.gov/air-quality/maps/cities/Thailand/'\n",
    "2. Screaped Air4Thai Data 'http://air4thai.pcd.go.th/webV2/history/'\n",
    "3. CDC Data 'https://www.cmuccdc.org/download_json/'\n",
    "4. Old Air4Thai data from Thailand EPA"
   ]
  },
  {
   "cell_type": "markdown",
   "metadata": {},
   "source": [
    "# Imports and Update The Latest Data"
   ]
  },
  {
   "cell_type": "code",
   "execution_count": 81,
   "metadata": {},
   "outputs": [
    {
     "name": "stdout",
     "output_type": "stream",
     "text": [
      "The autoreload extension is already loaded. To reload it, use:\n",
      "  %reload_ext autoreload\n"
     ]
    }
   ],
   "source": [
    "#  Load the \"autoreload\" extension so that code can change\n",
    "%load_ext autoreload\n",
    "%reload_ext autoreload\n",
    "from pathlib import Path\n",
    "\n",
    "#  always reload modules so that as you change code in src, it gets loaded\n",
    "%autoreload 2\n",
    "%matplotlib inline\n",
    "\n",
    "import sys\n",
    "sys.path.append('../')\n",
    "from src.imports import *\n",
    "from src.data.download_data import *\n",
    "from src.data.read_data import *"
   ]
  },
  {
   "cell_type": "code",
   "execution_count": 64,
   "metadata": {},
   "outputs": [],
   "source": [
    "b_folder='../data/pm25/'\n",
    "a4th_folder='../data/air4thai_hourly/'\n",
    "cdc_folder = '../data/cdc_data/'\n",
    "aqm_folder = '../data/aqm_hourly2/'"
   ]
  },
  {
   "cell_type": "code",
   "execution_count": 3,
   "metadata": {},
   "outputs": [
    {
     "name": "stdout",
     "output_type": "stream",
     "text": [
      "100% [............................................................................] 793700 / 793700"
     ]
    }
   ],
   "source": [
    "# Data from Berkeley Earth Projects: \n",
    "download_b_data(data_folder='../data/pm25/', url='http://berkeleyearth.lbl.gov/air-quality/maps/cities/Thailand/')\n",
    "get_city_info(data_folder='../data/pm25/')"
   ]
  },
  {
   "cell_type": "code",
   "execution_count": 85,
   "metadata": {
    "scrolled": true
   },
   "outputs": [
    {
     "name": "stdout",
     "output_type": "stream",
     "text": [
      "5246\n",
      "5275\n",
      "4036\n",
      "6014\n",
      "5208\n",
      "4048\n",
      "6015\n",
      "4067\n",
      "122\n",
      "5373\n",
      "5374\n",
      "4033\n",
      "6013\n",
      "4062\n",
      "123\n",
      "5093\n",
      "4035\n",
      "4038\n",
      "121\n",
      "5071\n",
      "5262\n",
      "5268\n",
      "5029\n",
      "5266\n",
      "4044\n",
      "5378\n",
      "116\n",
      "6006\n",
      "5151\n",
      "5379\n",
      "6008\n",
      "5278\n",
      "5066\n",
      "5277\n",
      "5167\n",
      "5161\n",
      "5193\n",
      "75\n",
      "5206\n",
      "5285\n",
      "5194\n",
      "5283\n",
      "5284\n",
      "6011\n",
      "5269\n",
      "6005\n",
      "6004\n",
      "6009\n",
      "6010\n",
      "6007\n",
      "5286\n",
      "5195\n",
      "5300\n",
      "5221\n",
      "20\n",
      "6002\n",
      "5211\n",
      "5276\n",
      "5227\n",
      "5181\n",
      "5200\n",
      "47\n",
      "5013\n",
      "5008\n",
      "5018\n",
      "5281\n",
      "5287\n",
      "5012\n",
      "5015\n",
      "5036\n",
      "5273\n",
      "5022\n",
      "4018\n",
      "4013\n",
      "4014\n",
      "5264\n",
      "4019\n",
      "5072\n",
      "5070\n",
      "4022\n",
      "5073\n",
      "22\n",
      "5083\n",
      "5074\n",
      "4020\n",
      "5084\n",
      "5085\n",
      "80\n",
      "4021\n",
      "4002\n",
      "64\n",
      "74\n",
      "4023\n",
      "9\n",
      "5096\n",
      "5154\n",
      "5279\n",
      "4047\n",
      "5020\n",
      "5069\n",
      "5035\n",
      "5061\n",
      "6016\n",
      "6017\n",
      "6018\n",
      "5041\n",
      "6003\n",
      "5086\n",
      "119\n",
      "5315\n",
      "79\n",
      "6000\n",
      "5341\n",
      "5339\n",
      "5321\n",
      "95\n",
      "5328\n",
      "5333\n",
      "117\n",
      "5330\n",
      "5331\n",
      "45\n",
      "89\n",
      "43\n",
      "72\n",
      "78\n",
      "81\n",
      "5270\n",
      "5004\n",
      "44\n",
      "5002\n",
      "94\n",
      "100\n",
      "5336\n",
      "71\n",
      "93\n",
      "5267\n",
      "4026\n",
      "69\n",
      "5263\n",
      "5265\n",
      "36\n",
      "104\n",
      "5377\n",
      "6020\n",
      "6019\n",
      "6022\n",
      "4027\n",
      "4031\n",
      "4049\n",
      "6021\n",
      "4037\n",
      "6012\n",
      "5272\n",
      "5274\n",
      "5376\n"
     ]
    }
   ],
   "source": [
    "download_cdc_data(station_url='https://www.cmuccdc.org/api/ccdc/stations', \n",
    "                  dl_url= 'https://www.cmuccdc.org/download_json/', \n",
    "                  data_folder='../data/cdc_data/')"
   ]
  },
  {
   "cell_type": "code",
   "execution_count": 72,
   "metadata": {},
   "outputs": [
    {
     "name": "stderr",
     "output_type": "stream",
     "text": [
      "\n",
      "\n",
      "0it [00:00, ?it/s]\u001b[A\u001b[A"
     ]
    },
    {
     "name": "stdout",
     "output_type": "stream",
     "text": [
      "['02t', '03t', '05t', '08t', '10t', '11t', '12t', '13t', '14t', '16t', '17t', '18t', '19t', '20t', '21t', '22t', '24t', '25t', '26t', '27t', '28t', '29t', '30t', '31t', '32t', '33t', '34t', '35t', '36t', '37t', '38t', '39t', '40t', '41t', '42t', '43t', '44t', '46t', '47t', '50t', '52t', '53t', '54t', '57t', '58t', '59t', '60t', '61t', '62t', '63t', '67t', '68t', '69t', '70t', '71t', '72t', '73t', '74t', '75t', '76t', '77t', '79t', '80t', '81t', '82t', '83t', '84t', 'm1', 'm4', 'm8', 'm9', 'o10', 'o20', 'o22', 'o23', 'o24', 'o25', 'o26', 'o27', 'o28', 'o29']\n"
     ]
    },
    {
     "name": "stderr",
     "output_type": "stream",
     "text": [
      "\n",
      "\n",
      "1it [00:18, 18.75s/it]\u001b[A\u001b[A\n",
      "\n",
      "2it [00:37, 18.76s/it]\u001b[A\u001b[A\n",
      "\n",
      "3it [00:56, 18.77s/it]\u001b[A\u001b[A\n",
      "\n",
      "4it [01:15, 18.80s/it]\u001b[A\u001b[A\n",
      "\n",
      "5it [01:33, 18.78s/it]\u001b[A\u001b[A\n",
      "\n",
      "6it [01:52, 18.81s/it]\u001b[A\u001b[A\n",
      "\n",
      "7it [02:11, 18.82s/it]\u001b[A\u001b[A\n",
      "\n",
      "8it [02:30, 18.80s/it]\u001b[A\u001b[A\n",
      "\n",
      "9it [02:49, 18.85s/it]\u001b[A\u001b[A\n",
      "\n",
      "10it [03:08, 18.90s/it]\u001b[A\u001b[A\n",
      "\n",
      "11it [03:27, 18.89s/it]\u001b[A\u001b[A\n",
      "\n",
      "12it [03:45, 18.84s/it]\u001b[A\u001b[A\n",
      "\n",
      "13it [04:04, 18.77s/it]\u001b[A\u001b[A\n",
      "\n",
      "14it [04:23, 18.76s/it]\u001b[A\u001b[A\n",
      "\n",
      "15it [04:42, 18.80s/it]\u001b[A\u001b[A\n",
      "\n",
      "16it [05:01, 18.81s/it]\u001b[A\u001b[A\n",
      "\n",
      "17it [05:20, 18.87s/it]\u001b[A\u001b[A\n",
      "\n",
      "18it [05:38, 18.89s/it]\u001b[A\u001b[A\n",
      "\n",
      "19it [05:57, 18.83s/it]\u001b[A\u001b[A\n",
      "\n",
      "20it [06:16, 18.82s/it]\u001b[A\u001b[A\n",
      "\n",
      "21it [06:35, 18.79s/it]\u001b[A\u001b[A\n",
      "\n",
      "22it [06:54, 18.79s/it]\u001b[A\u001b[A\n",
      "\n",
      "23it [07:12, 18.77s/it]\u001b[A\u001b[A\n",
      "\n",
      "24it [07:31, 18.79s/it]\u001b[A\u001b[A\n",
      "\n",
      "25it [07:50, 18.80s/it]\u001b[A\u001b[A\n",
      "\n",
      "26it [08:09, 18.78s/it]\u001b[A\u001b[A\n",
      "\n",
      "27it [08:27, 18.80s/it]\u001b[A\u001b[A\n",
      "\n",
      "28it [08:46, 18.80s/it]\u001b[A\u001b[A\n",
      "\n",
      "29it [09:05, 18.80s/it]\u001b[A\u001b[A\n",
      "\n",
      "30it [09:24, 18.82s/it]\u001b[A\u001b[A\n",
      "\n",
      "31it [09:43, 18.80s/it]\u001b[A\u001b[A\n",
      "\n",
      "32it [10:02, 18.81s/it]\u001b[A\u001b[A\n",
      "\n",
      "33it [10:21, 18.95s/it]\u001b[A\u001b[A\n",
      "\n",
      "34it [10:39, 18.84s/it]\u001b[A\u001b[A\n",
      "\n",
      "35it [10:58, 18.83s/it]\u001b[A\u001b[A\n",
      "\n",
      "36it [11:17, 18.82s/it]\u001b[A\u001b[A\n",
      "\n",
      "37it [11:36, 18.89s/it]\u001b[A\u001b[A\n",
      "\n",
      "38it [11:55, 18.89s/it]\u001b[A\u001b[A\n",
      "\n",
      "39it [12:14, 18.89s/it]\u001b[A\u001b[A\n",
      "\n",
      "40it [12:33, 18.89s/it]\u001b[A\u001b[A\n",
      "\n",
      "41it [12:52, 19.06s/it]\u001b[A\u001b[A\n",
      "\n",
      "42it [13:11, 19.00s/it]\u001b[A\u001b[A\n",
      "\n",
      "43it [13:30, 19.00s/it]\u001b[A\u001b[A\n",
      "\n",
      "44it [13:49, 19.01s/it]\u001b[A\u001b[A"
     ]
    },
    {
     "name": "stdout",
     "output_type": "stream",
     "text": [
      "create new ../data/air4thai_hourly/57t.csv\n"
     ]
    },
    {
     "name": "stderr",
     "output_type": "stream",
     "text": [
      "\n",
      "\n",
      "45it [14:08, 18.96s/it]\u001b[A\u001b[A"
     ]
    },
    {
     "name": "stdout",
     "output_type": "stream",
     "text": [
      "create new ../data/air4thai_hourly/58t.csv\n"
     ]
    },
    {
     "name": "stderr",
     "output_type": "stream",
     "text": [
      "\n",
      "\n",
      "46it [14:27, 18.97s/it]\u001b[A\u001b[A"
     ]
    },
    {
     "name": "stdout",
     "output_type": "stream",
     "text": [
      "create new ../data/air4thai_hourly/59t.csv\n"
     ]
    },
    {
     "name": "stderr",
     "output_type": "stream",
     "text": [
      "\n",
      "\n",
      "47it [14:46, 18.93s/it]\u001b[A\u001b[A"
     ]
    },
    {
     "name": "stdout",
     "output_type": "stream",
     "text": [
      "create new ../data/air4thai_hourly/60t.csv\n"
     ]
    },
    {
     "name": "stderr",
     "output_type": "stream",
     "text": [
      "\n",
      "\n",
      "48it [15:05, 19.06s/it]\u001b[A\u001b[A"
     ]
    },
    {
     "name": "stdout",
     "output_type": "stream",
     "text": [
      "create new ../data/air4thai_hourly/61t.csv\n"
     ]
    },
    {
     "name": "stderr",
     "output_type": "stream",
     "text": [
      "\n",
      "\n",
      "49it [15:24, 18.96s/it]\u001b[A\u001b[A"
     ]
    },
    {
     "name": "stdout",
     "output_type": "stream",
     "text": [
      "create new ../data/air4thai_hourly/62t.csv\n"
     ]
    },
    {
     "name": "stderr",
     "output_type": "stream",
     "text": [
      "\n",
      "\n",
      "50it [15:43, 18.90s/it]\u001b[A\u001b[A"
     ]
    },
    {
     "name": "stdout",
     "output_type": "stream",
     "text": [
      "create new ../data/air4thai_hourly/63t.csv\n"
     ]
    },
    {
     "name": "stderr",
     "output_type": "stream",
     "text": [
      "\n",
      "\n",
      "51it [16:01, 18.84s/it]\u001b[A\u001b[A"
     ]
    },
    {
     "name": "stdout",
     "output_type": "stream",
     "text": [
      "create new ../data/air4thai_hourly/67t.csv\n"
     ]
    },
    {
     "name": "stderr",
     "output_type": "stream",
     "text": [
      "\n",
      "\n",
      "52it [16:20, 18.83s/it]\u001b[A\u001b[A"
     ]
    },
    {
     "name": "stdout",
     "output_type": "stream",
     "text": [
      "create new ../data/air4thai_hourly/68t.csv\n"
     ]
    },
    {
     "name": "stderr",
     "output_type": "stream",
     "text": [
      "\n",
      "\n",
      "53it [16:39, 18.85s/it]\u001b[A\u001b[A"
     ]
    },
    {
     "name": "stdout",
     "output_type": "stream",
     "text": [
      "create new ../data/air4thai_hourly/69t.csv\n"
     ]
    },
    {
     "name": "stderr",
     "output_type": "stream",
     "text": [
      "\n",
      "\n",
      "54it [16:58, 18.83s/it]\u001b[A\u001b[A"
     ]
    },
    {
     "name": "stdout",
     "output_type": "stream",
     "text": [
      "create new ../data/air4thai_hourly/70t.csv\n"
     ]
    },
    {
     "name": "stderr",
     "output_type": "stream",
     "text": [
      "\n",
      "\n",
      "55it [17:17, 18.83s/it]\u001b[A\u001b[A"
     ]
    },
    {
     "name": "stdout",
     "output_type": "stream",
     "text": [
      "create new ../data/air4thai_hourly/71t.csv\n"
     ]
    },
    {
     "name": "stderr",
     "output_type": "stream",
     "text": [
      "\n",
      "\n",
      "56it [17:35, 18.81s/it]\u001b[A\u001b[A"
     ]
    },
    {
     "name": "stdout",
     "output_type": "stream",
     "text": [
      "create new ../data/air4thai_hourly/72t.csv\n"
     ]
    },
    {
     "name": "stderr",
     "output_type": "stream",
     "text": [
      "\n",
      "\n",
      "57it [17:54, 18.82s/it]\u001b[A\u001b[A"
     ]
    },
    {
     "name": "stdout",
     "output_type": "stream",
     "text": [
      "create new ../data/air4thai_hourly/73t.csv\n"
     ]
    },
    {
     "name": "stderr",
     "output_type": "stream",
     "text": [
      "\n",
      "\n",
      "58it [18:13, 18.92s/it]\u001b[A\u001b[A"
     ]
    },
    {
     "name": "stdout",
     "output_type": "stream",
     "text": [
      "create new ../data/air4thai_hourly/74t.csv\n"
     ]
    },
    {
     "name": "stderr",
     "output_type": "stream",
     "text": [
      "\n",
      "\n",
      "59it [18:32, 18.96s/it]\u001b[A\u001b[A"
     ]
    },
    {
     "name": "stdout",
     "output_type": "stream",
     "text": [
      "create new ../data/air4thai_hourly/75t.csv\n"
     ]
    },
    {
     "name": "stderr",
     "output_type": "stream",
     "text": [
      "\n",
      "\n",
      "60it [18:52, 19.03s/it]\u001b[A\u001b[A"
     ]
    },
    {
     "name": "stdout",
     "output_type": "stream",
     "text": [
      "create new ../data/air4thai_hourly/76t.csv\n"
     ]
    },
    {
     "name": "stderr",
     "output_type": "stream",
     "text": [
      "\n",
      "\n",
      "61it [19:11, 19.11s/it]\u001b[A\u001b[A"
     ]
    },
    {
     "name": "stdout",
     "output_type": "stream",
     "text": [
      "create new ../data/air4thai_hourly/77t.csv\n"
     ]
    },
    {
     "name": "stderr",
     "output_type": "stream",
     "text": [
      "\n",
      "\n",
      "62it [19:29, 18.95s/it]\u001b[A\u001b[A"
     ]
    },
    {
     "name": "stdout",
     "output_type": "stream",
     "text": [
      "create new ../data/air4thai_hourly/79t.csv\n"
     ]
    },
    {
     "name": "stderr",
     "output_type": "stream",
     "text": [
      "\n",
      "\n",
      "63it [19:48, 18.90s/it]\u001b[A\u001b[A"
     ]
    },
    {
     "name": "stdout",
     "output_type": "stream",
     "text": [
      "create new ../data/air4thai_hourly/80t.csv\n"
     ]
    },
    {
     "name": "stderr",
     "output_type": "stream",
     "text": [
      "\n",
      "\n",
      "64it [20:07, 18.85s/it]\u001b[A\u001b[A"
     ]
    },
    {
     "name": "stdout",
     "output_type": "stream",
     "text": [
      "create new ../data/air4thai_hourly/81t.csv\n"
     ]
    },
    {
     "name": "stderr",
     "output_type": "stream",
     "text": [
      "\n",
      "\n",
      "65it [20:26, 18.79s/it]\u001b[A\u001b[A"
     ]
    },
    {
     "name": "stdout",
     "output_type": "stream",
     "text": [
      "create new ../data/air4thai_hourly/82t.csv\n"
     ]
    },
    {
     "name": "stderr",
     "output_type": "stream",
     "text": [
      "\n",
      "\n",
      "66it [20:44, 18.78s/it]\u001b[A\u001b[A"
     ]
    },
    {
     "name": "stdout",
     "output_type": "stream",
     "text": [
      "create new ../data/air4thai_hourly/83t.csv\n"
     ]
    },
    {
     "name": "stderr",
     "output_type": "stream",
     "text": [
      "\n",
      "\n",
      "67it [21:03, 18.78s/it]\u001b[A\u001b[A"
     ]
    },
    {
     "name": "stdout",
     "output_type": "stream",
     "text": [
      "create new ../data/air4thai_hourly/84t.csv\n"
     ]
    },
    {
     "name": "stderr",
     "output_type": "stream",
     "text": [
      "\n",
      "\n",
      "68it [21:22, 18.74s/it]\u001b[A\u001b[A"
     ]
    },
    {
     "name": "stdout",
     "output_type": "stream",
     "text": [
      "create new ../data/air4thai_hourly/m1.csv\n"
     ]
    },
    {
     "name": "stderr",
     "output_type": "stream",
     "text": [
      "\n",
      "\n",
      "69it [21:41, 18.84s/it]\u001b[A\u001b[A"
     ]
    },
    {
     "name": "stdout",
     "output_type": "stream",
     "text": [
      "create new ../data/air4thai_hourly/m4.csv\n"
     ]
    },
    {
     "name": "stderr",
     "output_type": "stream",
     "text": [
      "\n",
      "\n",
      "70it [22:00, 18.86s/it]\u001b[A\u001b[A"
     ]
    },
    {
     "name": "stdout",
     "output_type": "stream",
     "text": [
      "create new ../data/air4thai_hourly/m8.csv\n"
     ]
    },
    {
     "name": "stderr",
     "output_type": "stream",
     "text": [
      "\n",
      "\n",
      "71it [22:19, 18.85s/it]\u001b[A\u001b[A"
     ]
    },
    {
     "name": "stdout",
     "output_type": "stream",
     "text": [
      "create new ../data/air4thai_hourly/m9.csv\n"
     ]
    },
    {
     "name": "stderr",
     "output_type": "stream",
     "text": [
      "\n",
      "\n",
      "72it [22:37, 18.77s/it]\u001b[A\u001b[A"
     ]
    },
    {
     "name": "stdout",
     "output_type": "stream",
     "text": [
      "create new ../data/air4thai_hourly/o10.csv\n"
     ]
    },
    {
     "name": "stderr",
     "output_type": "stream",
     "text": [
      "\n",
      "\n",
      "73it [22:56, 18.74s/it]\u001b[A\u001b[A"
     ]
    },
    {
     "name": "stdout",
     "output_type": "stream",
     "text": [
      "create new ../data/air4thai_hourly/o20.csv\n"
     ]
    },
    {
     "name": "stderr",
     "output_type": "stream",
     "text": [
      "\n",
      "\n",
      "74it [23:15, 18.78s/it]\u001b[A\u001b[A"
     ]
    },
    {
     "name": "stdout",
     "output_type": "stream",
     "text": [
      "create new ../data/air4thai_hourly/o22.csv\n"
     ]
    },
    {
     "name": "stderr",
     "output_type": "stream",
     "text": [
      "\n",
      "\n",
      "75it [23:34, 18.82s/it]\u001b[A\u001b[A"
     ]
    },
    {
     "name": "stdout",
     "output_type": "stream",
     "text": [
      "create new ../data/air4thai_hourly/o23.csv\n"
     ]
    },
    {
     "name": "stderr",
     "output_type": "stream",
     "text": [
      "\n",
      "\n",
      "76it [23:52, 18.82s/it]\u001b[A\u001b[A"
     ]
    },
    {
     "name": "stdout",
     "output_type": "stream",
     "text": [
      "create new ../data/air4thai_hourly/o24.csv\n"
     ]
    },
    {
     "name": "stderr",
     "output_type": "stream",
     "text": [
      "\n",
      "\n",
      "77it [24:11, 18.78s/it]\u001b[A\u001b[A"
     ]
    },
    {
     "name": "stdout",
     "output_type": "stream",
     "text": [
      "create new ../data/air4thai_hourly/o25.csv\n"
     ]
    },
    {
     "name": "stderr",
     "output_type": "stream",
     "text": [
      "\n",
      "\n",
      "78it [24:30, 18.87s/it]\u001b[A\u001b[A"
     ]
    },
    {
     "name": "stdout",
     "output_type": "stream",
     "text": [
      "create new ../data/air4thai_hourly/o26.csv\n"
     ]
    },
    {
     "name": "stderr",
     "output_type": "stream",
     "text": [
      "\n",
      "\n",
      "79it [24:49, 18.81s/it]\u001b[A\u001b[A"
     ]
    },
    {
     "name": "stdout",
     "output_type": "stream",
     "text": [
      "create new ../data/air4thai_hourly/o27.csv\n"
     ]
    },
    {
     "name": "stderr",
     "output_type": "stream",
     "text": [
      "\n",
      "\n",
      "80it [25:08, 18.88s/it]\u001b[A\u001b[A"
     ]
    },
    {
     "name": "stdout",
     "output_type": "stream",
     "text": [
      "create new ../data/air4thai_hourly/o28.csv\n"
     ]
    },
    {
     "name": "stderr",
     "output_type": "stream",
     "text": [
      "\n",
      "\n",
      "81it [25:27, 18.86s/it]\u001b[A\u001b[A"
     ]
    },
    {
     "name": "stdout",
     "output_type": "stream",
     "text": [
      "create new ../data/air4thai_hourly/o29.csv\n"
     ]
    },
    {
     "name": "stderr",
     "output_type": "stream",
     "text": [
      "\n"
     ]
    }
   ],
   "source": [
    "update_last_air4Thai(url='http://air4thai.pcd.go.th/webV2/history/',data_folder='../data/air4thai_hourly/')"
   ]
  },
  {
   "cell_type": "markdown",
   "metadata": {},
   "source": [
    "# Historical air 4 Thai Data"
   ]
  },
  {
   "cell_type": "code",
   "execution_count": 63,
   "metadata": {},
   "outputs": [
    {
     "name": "stdout",
     "output_type": "stream",
     "text": [
      "['35t', '36t', 'm9']\n"
     ]
    }
   ],
   "source": [
    "# load stations information\n",
    "station_info_file = aqm_folder + 'stations_locations.json'\n",
    "with open(station_info_file, 'r',encoding=\"utf8\") as f:\n",
    "    station_info = json.load(f)\n",
    "station_info = station_info['stations']\n",
    "\n",
    "# find stations in Chiangmai and parase that files\n",
    "cm_station_ids = []\n",
    "for i, stations in enumerate(station_info):\n",
    "    if 'Chiang Mai' in stations['areaEN']:\n",
    "        # ignore station that start with o\n",
    "        if 'o' not in stations['stationID']:\n",
    "            cm_station_ids.append(stations['stationID'])\n",
    "print(cm_station_ids)"
   ]
  },
  {
   "cell_type": "code",
   "execution_count": 29,
   "metadata": {},
   "outputs": [
    {
     "name": "stdout",
     "output_type": "stream",
     "text": [
      "['35t', '36t', 'm9', 'o10', 'o20', 'o22']\n",
      "35t\n",
      "save filename ../data/aqm_hourly2/process/35t.csv\n",
      "36t\n",
      "save filename ../data/aqm_hourly2/process/36t.csv\n",
      "m9\n",
      "o10\n",
      "o20\n",
      "o22\n"
     ]
    }
   ],
   "source": [
    "# parase historical data \n",
    "for station_id in cm_station_ids:\n",
    "    # find all files that start with this stations\n",
    "    p = Path(aqm_folder)\n",
    "    filenames = []\n",
    "    for i in p.glob('**/*.xlsx'):\n",
    "        if station_id in i.name:\n",
    "            filenames.append(str(i))\n",
    "        \n",
    "    # if filename exist load that file\n",
    "    if len(filenames) >0:\n",
    "\n",
    "        save_filename = aqm_folder + 'process/' + station_id + '.csv'\n",
    "        print('save filename', save_filename)\n",
    "        station_data = read_his_xl(filenames[0])\n",
    "        #print(station_data.head())\n",
    "\n",
    "        # save the data if the dataframe is not empty\n",
    "        if len(station_data)> 0:\n",
    "            station_data.to_csv(save_filename,index=False)"
   ]
  },
  {
   "cell_type": "code",
   "execution_count": 45,
   "metadata": {},
   "outputs": [],
   "source": [
    "cm_data1 = pd.read_csv(aqm_folder + 'process/35t.csv')\n",
    "cm_data1['datetime'] = pd.to_datetime(cm_data1['datetime'])\n",
    "cm_data1 = cm_data1.set_index('datetime')\n",
    "# keep only gas columns\n",
    "cm_data1 = cm_data1[['CO', 'O3', 'NO2', 'SO2', 'PM10', 'PM2.5']]\n",
    "\n",
    "cm_data2 = pd.read_csv(aqm_folder + 'process/36t.csv')\n",
    "cm_data2['datetime'] = pd.to_datetime(cm_data2['datetime'])\n",
    "cm_data2 = cm_data2.set_index('datetime')\n"
   ]
  },
  {
   "cell_type": "markdown",
   "metadata": {},
   "source": [
    "# Power Plants"
   ]
  },
  {
   "cell_type": "code",
   "execution_count": 92,
   "metadata": {},
   "outputs": [],
   "source": [
    "url = 'https://th.wikipedia.org/wiki/%E0%B8%A3%E0%B8%B2%E0%B8%A2%E0%B8%8A%E0%B8%B7%E0%B9%88%E0%B8%AD%E0%B9%82%E0%B8%A3%E0%B8%87%E0%B9%84%E0%B8%9F%E0%B8%9F%E0%B9%89%E0%B8%B2%E0%B9%83%E0%B8%99%E0%B9%84%E0%B8%97%E0%B8%A2'\n",
    "url = 'https://en.wikipedia.org/wiki/List_of_power_stations_in_Thailand'\n",
    "table_list = pd.read_html(url)\n",
    "len(table_list)\n",
    "p_folder = '../data/power_plants/'\n",
    "for i, table in enumerate(table_list):\n",
    "    table.to_csv(p_folder + f'table_eng{i}.csv',index=False)"
   ]
  },
  {
   "cell_type": "code",
   "execution_count": null,
   "metadata": {},
   "outputs": [],
   "source": []
  }
 ],
 "metadata": {
  "kernelspec": {
   "display_name": "Python 3",
   "language": "python",
   "name": "python3"
  },
  "language_info": {
   "codemirror_mode": {
    "name": "ipython",
    "version": 3
   },
   "file_extension": ".py",
   "mimetype": "text/x-python",
   "name": "python",
   "nbconvert_exporter": "python",
   "pygments_lexer": "ipython3",
   "version": "3.7.5"
  },
  "toc": {
   "base_numbering": 1,
   "nav_menu": {},
   "number_sections": true,
   "sideBar": true,
   "skip_h1_title": false,
   "title_cell": "Table of Contents",
   "title_sidebar": "Contents",
   "toc_cell": true,
   "toc_position": {},
   "toc_section_display": true,
   "toc_window_display": true
  }
 },
 "nbformat": 4,
 "nbformat_minor": 4
}
